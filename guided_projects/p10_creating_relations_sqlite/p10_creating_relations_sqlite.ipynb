{
 "cells": [
  {
   "cell_type": "markdown",
   "metadata": {
    "collapsed": true
   },
   "source": [
    "Guided Project\n",
    "---\n",
    "Creating Relations in SQLite"
   ]
  },
  {
   "cell_type": "markdown",
   "metadata": {},
   "source": [
    "**Part 1:** Introduction to the Data"
   ]
  },
  {
   "cell_type": "code",
   "execution_count": 2,
   "metadata": {
    "collapsed": false
   },
   "outputs": [
    {
     "name": "stdout",
     "output_type": "stream",
     "text": [
      "TABLE SCHEMA\n",
      "(0, 'Year', 'INTEGER', 0, None, 0)\n",
      "(1, 'Category', 'TEXT', 0, None, 0)\n",
      "(2, 'Nominee', 'TEXT', 0, None, 0)\n",
      "(3, 'Won', 'INTEGER', 0, None, 0)\n",
      "(4, 'Movie', 'TEXT', 0, None, 0)\n",
      "(5, 'Character', 'TEXT', 0, None, 0)\n",
      "\n",
      "\n",
      "FIRST TEN ROWS\n",
      "(2010, 'Actor -- Leading Role', 'Javier Bardem', 0, 'Biutiful', 'Uxbal')\n",
      "(2010, 'Actor -- Leading Role', 'Jeff Bridges', 0, 'True Grit', 'Rooster Cogburn')\n",
      "(2010, 'Actor -- Leading Role', 'Jesse Eisenberg', 0, 'The Social Network', 'Mark Zuckerberg')\n",
      "(2010, 'Actor -- Leading Role', 'Colin Firth', 1, \"The King's Speech\", 'King George VI')\n",
      "(2010, 'Actor -- Leading Role', 'James Franco', 0, '127 Hours', 'Aron Ralston')\n",
      "(2010, 'Actor -- Supporting Role', 'Christian Bale', 1, 'The Fighter', 'Dicky Eklund')\n",
      "(2010, 'Actor -- Supporting Role', 'John Hawkes', 0, \"Winter's Bone\", 'Teardrop')\n",
      "(2010, 'Actor -- Supporting Role', 'Jeremy Renner', 0, 'The Town', 'James Coughlin')\n",
      "(2010, 'Actor -- Supporting Role', 'Mark Ruffalo', 0, 'The Kids Are All Right', 'Paul')\n",
      "(2010, 'Actor -- Supporting Role', 'Geoffrey Rush', 0, \"The King's Speech\", 'Lionel Logue')\n",
      "\n",
      "\n"
     ]
    }
   ],
   "source": [
    "import sqlite3 as sql\n",
    "import pandas as pd\n",
    "\n",
    "conn = sql.connect(\"nominations.db\")\n",
    "c = conn.cursor()\n",
    "\n",
    "query1 = \"PRAGMA TABLE_INFO(nominations);\"\n",
    "c.execute(query1)\n",
    "schema = c.fetchall()\n",
    "print(\"TABLE SCHEMA\")\n",
    "for row in schema:\n",
    "    print(row)\n",
    "print(\"\\n\")\n",
    "\n",
    "query2 = \"SELECT * FROM nominations LIMIT 10;\"\n",
    "c.execute(query2)\n",
    "first_ten = c.fetchall()\n",
    "print(\"FIRST TEN ROWS\")\n",
    "for row in first_ten:\n",
    "    print(row)\n",
    "print(\"\\n\")"
   ]
  },
  {
   "cell_type": "markdown",
   "metadata": {},
   "source": [
    "**Part 2:** Creating the Ceremonies Table"
   ]
  },
  {
   "cell_type": "code",
   "execution_count": 7,
   "metadata": {
    "collapsed": false
   },
   "outputs": [
    {
     "name": "stdout",
     "output_type": "stream",
     "text": [
      "FIRST TEN ROWS OF CEREMONIES\n",
      "(1, 2010, 'Steve Martin')\n",
      "(2, 2009, 'Hugh Jackman')\n",
      "(3, 2008, 'Jon Stewart')\n",
      "(4, 2007, 'Ellen DeGeneres')\n",
      "(5, 2006, 'Jon Stewart')\n",
      "(6, 2005, 'Chris Rock')\n",
      "(7, 2004, 'Billy Crystal')\n",
      "(8, 2003, 'Steve Martin')\n",
      "(9, 2002, 'Whoopi Goldberg')\n",
      "(10, 2001, 'Steve Martin')\n",
      "\n",
      "\n",
      "TABLE SCHEMA OF CEREMONIES\n",
      "(0, 'id', 'INTEGER', 0, None, 1)\n",
      "(1, 'Year', 'INTEGER', 0, None, 0)\n",
      "(2, 'Host', 'TEXT', 0, None, 0)\n"
     ]
    }
   ],
   "source": [
    "create_query = \"\\\n",
    "CREATE TABLE IF NOT EXISTS ceremonies( \\\n",
    "id INTEGER PRIMARY KEY, \\\n",
    "Year INTEGER, \\\n",
    "Host TEXT, \\\n",
    "UNIQUE(Year, Host) \\\n",
    ");\"\n",
    "\n",
    "c.execute(create_query)\n",
    "\n",
    "years_hosts = [(2010, \"Steve Martin\"),\n",
    "               (2009, \"Hugh Jackman\"),\n",
    "               (2008, \"Jon Stewart\"),\n",
    "               (2007, \"Ellen DeGeneres\"),\n",
    "               (2006, \"Jon Stewart\"),\n",
    "               (2005, \"Chris Rock\"),\n",
    "               (2004, \"Billy Crystal\"),\n",
    "               (2003, \"Steve Martin\"),\n",
    "               (2002, \"Whoopi Goldberg\"),\n",
    "               (2001, \"Steve Martin\"),\n",
    "               (2000, \"Billy Crystal\"),\n",
    "            ]\n",
    "\n",
    "insert_query = \"INSERT OR IGNORE INTO ceremonies (Year, Host) VALUES (?,?);\"\n",
    "conn.executemany(insert_query, years_hosts)\n",
    "\n",
    "first_ten_query = \"SELECT * FROM ceremonies LIMIT 10;\"\n",
    "c.execute(first_ten_query)\n",
    "results = c.fetchall()\n",
    "print(\"FIRST TEN ROWS OF CEREMONIES\")\n",
    "for row in results:\n",
    "    print(row)\n",
    "print('\\n')\n",
    "\n",
    "schema_query = \"PRAGMA TABLE_INFO(ceremonies);\"\n",
    "c.execute(schema_query)\n",
    "results = c.fetchall()\n",
    "print(\"TABLE SCHEMA OF CEREMONIES\")\n",
    "for row in results:\n",
    "    print(row)"
   ]
  },
  {
   "cell_type": "markdown",
   "metadata": {},
   "source": [
    "**Part 3:** Foreign Key Constraints"
   ]
  },
  {
   "cell_type": "code",
   "execution_count": 9,
   "metadata": {
    "collapsed": false
   },
   "outputs": [],
   "source": [
    "fk_query = \"PRAGMA foreign_keys = ON;\"\n",
    "c.execute(fk_query)\n",
    "results = c.fetchall()"
   ]
  },
  {
   "cell_type": "markdown",
   "metadata": {},
   "source": [
    "**Part 4:** Setting Up One-To-Many"
   ]
  },
  {
   "cell_type": "code",
   "execution_count": 11,
   "metadata": {
    "collapsed": false
   },
   "outputs": [
    {
     "name": "stdout",
     "output_type": "stream",
     "text": [
      "PREVIEW OF ROWS IN nominations_two\n",
      "(1, 'Actor -- Leading Role', 'Javier Bardem', 'Biutiful', 'Uxbal', 0, 1)\n",
      "(2, 'Actor -- Leading Role', 'Jeff Bridges', 'True Grit', 'Rooster Cogburn', 0, 1)\n",
      "(3, 'Actor -- Leading Role', 'Jesse Eisenberg', 'The Social Network', 'Mark Zuckerberg', 0, 1)\n",
      "(4, 'Actor -- Leading Role', 'Colin Firth', \"The King's Speech\", 'King George VI', 1, 1)\n",
      "(5, 'Actor -- Leading Role', 'James Franco', '127 Hours', 'Aron Ralston', 0, 1)\n"
     ]
    }
   ],
   "source": [
    "create_query = \"\\\n",
    "CREATE TABLE IF NOT EXISTS nominations_two( \\\n",
    "id INTEGER PRIMARY KEY, \\\n",
    "category TEXT, \\\n",
    "nominee TEXT, \\\n",
    "movie TEXT, \\\n",
    "character TEXT, \\\n",
    "won INTEGER, \\\n",
    "ceremony_id INTEGER REFERENCES ceremonies(id) \\\n",
    ");\"\n",
    "\n",
    "c.execute(create_query)\n",
    "success = c.fetchall()\n",
    "\n",
    "join_query = \"\\\n",
    "SELECT nominations.category, nominations.nominee, \\\n",
    "nominations.movie, nominations.character, nominations.won, ceremonies.id \\\n",
    "FROM nominations \\\n",
    "INNER JOIN ceremonies ON \\\n",
    "nominations.year == ceremonies.year;\"\n",
    "\n",
    "c.execute(join_query)\n",
    "joined_nominations = c.fetchall()\n",
    "\n",
    "insert_nominations_two = \"\\\n",
    "INSERT OR IGNORE INTO nominations_two (category, nominee, movie, character, won, ceremony_id) \\\n",
    "VALUES (?,?,?,?,?,?);\"\n",
    "\n",
    "conn.executemany(insert_nominations_two, joined_nominations)\n",
    "\n",
    "preview_query = \"SELECT * FROM nominations_two LIMIT 5;\"\n",
    "c.execute(preview_query)\n",
    "preview = c.fetchall()\n",
    "print(\"PREVIEW OF ROWS IN nominations_two\")\n",
    "for row in preview:\n",
    "    print(row)"
   ]
  },
  {
   "cell_type": "markdown",
   "metadata": {},
   "source": [
    "**Part 6:** Deleting and Renaming Tables"
   ]
  },
  {
   "cell_type": "code",
   "execution_count": 12,
   "metadata": {
    "collapsed": true
   },
   "outputs": [],
   "source": [
    "delete_query = \"DROP TABLE nominations;\"\n",
    "c.execute(delete_query)\n",
    "success = c.fetchall()\n",
    "\n",
    "rename_query = \"ALTER TABLE nominations_two RENAME TO nominations;\"\n",
    "c.execute(rename_query)\n",
    "success = c.fetchall()"
   ]
  },
  {
   "cell_type": "markdown",
   "metadata": {},
   "source": [
    "**Part 6:** Creating a Join Table"
   ]
  },
  {
   "cell_type": "code",
   "execution_count": 13,
   "metadata": {
    "collapsed": true
   },
   "outputs": [],
   "source": [
    "create_movies = \"\\\n",
    "CREATE TABLE IF NOT EXISTS movies( \\\n",
    "id INTEGER PRIMARY KEY, \\\n",
    "movie TEXT \\\n",
    ");\"\n",
    "\n",
    "c.execute(create_movies)\n",
    "success = c.fetchall()\n",
    "\n",
    "create_actors = \"\\\n",
    "CREATE TABLE IF NOT EXISTS actors( \\\n",
    "id INTEGER PRIMARY KEY, \\\n",
    "actor TEXT \\\n",
    ");\"\n",
    "\n",
    "c.execute(create_actors)\n",
    "success = c.fetchall()\n",
    "\n",
    "create_joint = \"\\\n",
    "CREATE TABLE IF NOT EXISTS movies_actors( \\\n",
    "id INTEGER PRIMARY KEY, \\\n",
    "movie_id INTEGER REFERENCES movies(id), \\\n",
    "actor_id INTEGER REFERENCES actors(id) \\\n",
    ");\"\n",
    "\n",
    "c.execute(create_joint)\n",
    "success = c.fetchall()"
   ]
  },
  {
   "cell_type": "markdown",
   "metadata": {},
   "source": [
    "**Part 7:** Next Steps\n",
    "\n",
    "The suggestions for additional work are: (1) identify other datasets we can add to the database, and (2) determine how you would population the three new tables from nominations.\n",
    "\n",
    "For now, however, I'm just going to park this project."
   ]
  }
 ],
 "metadata": {
  "kernelspec": {
   "display_name": "Python 3",
   "language": "python",
   "name": "python3"
  },
  "language_info": {
   "codemirror_mode": {
    "name": "ipython",
    "version": 3
   },
   "file_extension": ".py",
   "mimetype": "text/x-python",
   "name": "python",
   "nbconvert_exporter": "python",
   "pygments_lexer": "ipython3",
   "version": "3.4.3"
  }
 },
 "nbformat": 4,
 "nbformat_minor": 0
}
