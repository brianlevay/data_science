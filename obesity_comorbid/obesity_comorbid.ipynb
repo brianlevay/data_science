{
 "cells": [
  {
   "cell_type": "markdown",
   "metadata": {},
   "source": [
    "# PROJECT SUMMARY: WHICH DISEASES ARE COMORBID WITH OBESITY?\n",
    "\n",
    "## Overview\n",
    "\n",
    "This project was given to me as a data science exercise. The \"who gave it to me\" and \"why\" parts don't matter here, only the \"what did they want\" and the \"how did they want me to do it\". The goal of the project is to determine which diseases or syndromes are *comorbid* with obesity. In other words, the goal is to determine which diseases occur at higher rates in obese populations relative to non-obese populations. All of the data must come from PubMed/MEDLINE databases that are part of the National Center for Biotechnology Information (NCBI).\n",
    "\n",
    "## Methods\n",
    "\n",
    "Some of the methods for this project are required, and others are left for me to decide. The initial, expected workflow is as follows:\n",
    "\n",
    "1. Retrieve the records for all papers published between 2000 and 2012 that have the term 'Obesity' as a major topic (note: 'Obesity' and 'Obesity, Morbid' are two different descriptors, but records containing either as major topics are returned using 'Obesity')\n",
    "2. Using the list of all possible medical descriptors (MeSH terms), create a smaller list of terms that only refer to diseases or syndromes\n",
    "3. Identify which papers talk about each disease in the new list, and extract any relevant data (number of references, odds ratio values, etc.)\n",
    "4. Try to answer the question, if possible: which diseases are comorbid with obesity?\n",
    "\n",
    "Documentation for the Entrez APIs (to access the PubMed data) can be found here:\n",
    "[Entrez Documentation](https://www.ncbi.nlm.nih.gov/books/NBK25501/)\n",
    "\n",
    "## Desired Output\n",
    "\n",
    "The ultimate goal of the project is to determine which diseases have a higher incidence rates in obese populations relative to non-obese populations (odds ratios > 1). The goal is *NOT* to determine which diseases are more severe in obese populations. You can see an illustration of the desired output in the next section.\n",
    "\n",
    "It's important to note that this is a **Descriptive** study, and not a **Predictive** or **Prescriptive** study. The goal here is to understand what the existing data says, not to build machine learning models or decision trees (proper ones, for actually making decisions).\n",
    "\n",
    "## Data Limitation\n",
    "\n",
    "One of the key assumptions that will be carried through the rest of this project is that odds ratios, statistical significances, etc. are *NOT* stored in the publication record metadata. The only place that data can be retrieved (using the approach requested) is via the abstracts. If I'm wrong, and the metadata *DOES* store that information, this project is a whole lot easier!"
   ]
  },
  {
   "cell_type": "markdown",
   "metadata": {},
   "source": [
    "# SECTION 0: EXAMPLE OF WHAT WE WANT\n",
    "\n",
    "This section below generates a synthetic dataset using Monte Carlo techniques to highlight the type of visual (and statistical) product that we want. This is just meant to be a guide so that visually-inclined readers can see the \"single figure summary\" that we're after."
   ]
  },
  {
   "cell_type": "markdown",
   "metadata": {},
   "source": [
    "## Setting Up the Environment\n",
    "\n",
    "This section imports the main math and plotting libraries that we'll use throughout the project"
   ]
  },
  {
   "cell_type": "code",
   "execution_count": 1,
   "metadata": {
    "collapsed": true
   },
   "outputs": [],
   "source": [
    "import math\n",
    "import numpy as np\n",
    "import matplotlib.pyplot as plt\n",
    "%matplotlib inline"
   ]
  },
  {
   "cell_type": "markdown",
   "metadata": {},
   "source": [
    "## Defining the Function\n",
    "\n",
    "This section creates the function that generates a synthetic dataset for our example plot"
   ]
  },
  {
   "cell_type": "code",
   "execution_count": 146,
   "metadata": {
    "collapsed": false
   },
   "outputs": [],
   "source": [
    "def create_synthetic_OR_plot():\n",
    "    X_locations = [x for x in range(0,10)]\n",
    "    X_labels = [chr(x+65) for x in range(0,10)]\n",
    "\n",
    "    data = []\n",
    "    centers = {}\n",
    "\n",
    "    for location in X_locations:\n",
    "        p_disease_not_obesity = np.random.random_sample() * (0.5) + 0.02\n",
    "        p_disease_obesity = np.random.random_sample() * (0.5) + 0.12\n",
    "        papers = int(np.random.random_sample() * (100-5) + 1)\n",
    "        disease_results = []\n",
    "        for i in range(0,papers):\n",
    "            observations = int(np.random.random_sample() * (1000 - 100) + 100)\n",
    "            bias_disease_not_obesity = np.random.random_sample() * (0.2) - 0.1\n",
    "            bias_disease_obesity = np.random.random_sample() * (0.2) - 0.1\n",
    "            p_eff_disease_not_obesity = p_disease_not_obesity + bias_disease_not_obesity\n",
    "            p_eff_disease_obesity = p_disease_obesity + bias_disease_obesity\n",
    "            p_eff_disease_not_obesity = max(0.01,min(p_eff_disease_not_obesity,0.99))\n",
    "            p_eff_disease_obesity = max(0.01,min(p_eff_disease_obesity,0.99))\n",
    "            samples_disease_not_obesity = np.random.binomial(1, p_eff_disease_not_obesity, observations)\n",
    "            samples_disease_obesity = np.random.binomial(1, p_eff_disease_obesity, observations)\n",
    "            fraction_disease_not_obesity = sum(samples_disease_not_obesity) / observations\n",
    "            fraction_disease_obesity = sum(samples_disease_obesity) / observations\n",
    "            if fraction_disease_not_obesity != 0:\n",
    "                odds_ratio = fraction_disease_obesity / fraction_disease_not_obesity\n",
    "                disease_results.append(odds_ratio)\n",
    "        data.append(disease_results)\n",
    "        centers[location] = np.median(disease_results)\n",
    "\n",
    "    sorted_locs = sorted(centers, key=centers.__getitem__, reverse=True)\n",
    "    data_sorted = []\n",
    "    labels_sorted = []\n",
    "    for i in range(0,len(X_locations)):\n",
    "        data_sorted.append(data[sorted_locs[i]])\n",
    "        labels_sorted.append(X_labels[sorted_locs[i]])\n",
    "\n",
    "    fig = plt.figure(figsize=(10,7))\n",
    "    ax = fig.add_subplot(1,1,1)\n",
    "    ax.boxplot(data_sorted)\n",
    "    ax.plot([0,11],[1,1],color=\"black\")\n",
    "    ax.set_yscale('log')\n",
    "    ax.set_xticklabels(labels_sorted)\n",
    "    ax.set_xlabel(\"Disease or Syndrome\")\n",
    "    ax.set_ylabel(\"P(Disease|Obesity) / P(Disease|NotObesity)\")\n",
    "    ax.set_title(\"Synthetic Data Showing Diseases Ranked By Median Odds Ratios\", y=1.05)\n",
    "    plt.show()"
   ]
  },
  {
   "cell_type": "markdown",
   "metadata": {},
   "source": [
    "## Running the Function to Generate an Example Plot\n",
    "\n",
    "Re-run this section below to see how the randomness in the function can create a range of variances!"
   ]
  },
  {
   "cell_type": "code",
   "execution_count": 149,
   "metadata": {
    "collapsed": false
   },
   "outputs": [
    {
     "data": {
      "image/png": "[encoded data removed]",
      "text/plain": [
       "<matplotlib.figure.Figure at 0x22b65c4e9e8>"
      ]
     },
     "metadata": {},
     "output_type": "display_data"
    }
   ],
   "source": [
    "create_synthetic_OR_plot()"
   ]
  },
  {
   "cell_type": "markdown",
   "metadata": {},
   "source": [
    "# SECTION 1: GETTING THE API DATA\n",
    "\n",
    "This section is a one-time-use block of code meant to download the relevant data from the Entrez PubMed database and write it to a file. All future references to the data will come from the file itself, to save network bandwidth. This step is critical, though. If the wrong search terms are used, or the incorrect data is extracted and stored, the entire rest of the analysis can be compromised! The search terms used will be discussed below.\n",
    "\n",
    "**Storage Format for Each Publication:**\n",
    "\n",
    "PUBMED_ID  \n",
    "Number  \n",
    "ABSTRACT  \n",
    "Abstract text  \n",
    "MESH  \n",
    "List of MeSH terms"
   ]
  },
  {
   "cell_type": "markdown",
   "metadata": {},
   "source": [
    "## Setting Up the Environment\n",
    "\n",
    "This section imports the necessary modules to implement the API calls. The main package used for this section is the Entrez submodule from Biopython."
   ]
  },
  {
   "cell_type": "code",
   "execution_count": 4,
   "metadata": {
    "collapsed": false
   },
   "outputs": [],
   "source": [
    "import time\n",
    "from Bio import Entrez\n",
    "Entrez.email = \"brianjlevay@gmail.com\""
   ]
  },
  {
   "cell_type": "markdown",
   "metadata": {},
   "source": [
    "## Defining the Function\n",
    "\n",
    "This section defines a generic function for getting PubMed records and writing the relevant data to a file. The function accepts search terms, a filename, and a keyword to determine whether to fetch the results. An initial PubMed search is performed (eSearch), and the results are stored on the server by using the 'usehistory' keyword. The search key and web environment terms are returned, and if the user opts to fetch the results, the records are downloaded in batches, 10000 at a time (using eFetch). The records are stripped down and the relevant information is stored in a local file for later access."
   ]
  },
  {
   "cell_type": "code",
   "execution_count": 5,
   "metadata": {
    "collapsed": false
   },
   "outputs": [],
   "source": [
    "def get_api_data(terms, filename, want_fetch=False):\n",
    "    handle = Entrez.esearch(db='pubmed', term=terms, usehistory='y')\n",
    "    search = Entrez.read(handle)\n",
    "    handle.close()\n",
    "\n",
    "    count = int(search['Count'])\n",
    "    query = search['QueryKey']\n",
    "    web = search['WebEnv']\n",
    "    print(\"{} records found through eSearch.\".format(count))\n",
    "    \n",
    "    if want_fetch == True:\n",
    "        f = open(filename + '.txt', 'w')\n",
    "        \n",
    "        max_ret = 10000\n",
    "        steps_tot = math.ceil(count / max_ret)\n",
    "        steps = [x*max_ret for x in range(0,steps_tot)]\n",
    "        total_records = 0\n",
    "\n",
    "        for step in steps:\n",
    "            time.sleep(30)\n",
    "            handle = Entrez.efetch(db='pubmed', query_key=query, WebEnv=web, retmode='xml', retstart=step, retmax=max_ret)\n",
    "            fetch = Entrez.read(handle)\n",
    "            handle.close()\n",
    "            print(\"Step {}: API batch returned.\".format(step))\n",
    "\n",
    "            for entry in fetch:\n",
    "                total_records += 1\n",
    "                f.write('PUBMED_ID\\n')\n",
    "                f.write(entry['PubmedData']['ArticleIdList'][0] + '\\n')\n",
    "                f.write('ABSTRACT\\n')\n",
    "                try:\n",
    "                    abstract = entry['MedlineCitation']['Article']['Abstract']['AbstractText'][0]\n",
    "                    if abstract == '':\n",
    "                        abstract = 'No abstract available'\n",
    "                    try:\n",
    "                        f.write(abstract + '\\n')\n",
    "                    except:\n",
    "                        try:\n",
    "                            abstract = abstract.encode('cp1252', 'replace').decode('cp1252')\n",
    "                            f.write(abstract + '\\n')\n",
    "                        except:\n",
    "                            f.write('Abstract could not be printed.\\n')\n",
    "                except:\n",
    "                    f.write('No abstract available.\\n')\n",
    "                f.write('MESH\\n')\n",
    "                mesh_str = ''\n",
    "                for mesh in entry['MedlineCitation']['MeshHeadingList']:\n",
    "                    mesh_str += mesh['DescriptorName'] + '; '\n",
    "                f.write(mesh_str[0:len(mesh_str)-2] + '\\n')    \n",
    "                f.write('\\n')\n",
    "\n",
    "        f.close()\n",
    "        print(\"{} records retrieved via eFetch and written to the file.\".format(total_records))"
   ]
  },
  {
   "cell_type": "markdown",
   "metadata": {},
   "source": [
    "## Running the Function to Gather the Data\n",
    "\n",
    "This block of code uses the generalized function defined above to retrieve the data from PubMed. This function only needs to be run once, and afterwards, the data will be stored in a local file. \n",
    "\n",
    "Getting the search terms right for this exercise is critical, but an individual could likely spend days trying to understand the nuances of the descriptors / subheadings / modifiers used to retrieve data from the database. Initially, I chose to use a simple, high-level search just using 'obesity' and a date range, but this **retrieved a lot of irrelevant records**. I tried a modified search using 'obesity' with a subheading of 'morbidity', and the results appear to be more topical. However, the choices made at this step will ripple through the rest of the project, so it's important to be aware of the tradeoffs."
   ]
  },
  {
   "cell_type": "code",
   "execution_count": 6,
   "metadata": {
    "collapsed": false
   },
   "outputs": [],
   "source": [
    "# Need to specify obesity as the major MeSH descriptor (MajorTopicYN=\"Y\") [majr]\n",
    "\n",
    "obesity_terms = 'obesity[majr] 2000:2012[pdat]'\n",
    "obesity_morbidity_terms = 'obesity/morbidity[majr] 2000:2012[pdat]'\n",
    "\n",
    "# Only need to run this function once to get all of the relevant API data\n",
    "\n",
    "# get_api_data(obesity_morbidity_terms, 'obesity_pubmed', want_fetch=True)"
   ]
  },
  {
   "cell_type": "markdown",
   "metadata": {
    "collapsed": false
   },
   "source": [
    "# SECTION 2: CATEGORIZING MESH TERMS\n",
    "\n",
    "This section uses the MeSH definitions file (desc2015.xml) to create a list of terms that refer to \"Disease or Syndrome\". The list will then be used to filter the MeSH terms in the publication results.\n",
    "\n",
    "The MeSH descriptors file is large, so it will not be stored along with this code and the intermediate data products. Instead, you can download it from the following ftp site. I did not directly link the file below, because this is one you don't want to accidently start downloading with a careless click!\n",
    "\n",
    "Location for File:  \n",
    "ftp://nlmpubs.nlm.nih.gov/online/mesh/2015/"
   ]
  },
  {
   "cell_type": "markdown",
   "metadata": {},
   "source": [
    "## Setting Up the Environment\n",
    "\n",
    "This section imports BeautifulSoup, which is used for XML parsing."
   ]
  },
  {
   "cell_type": "code",
   "execution_count": 7,
   "metadata": {
    "collapsed": true
   },
   "outputs": [],
   "source": [
    "from bs4 import BeautifulSoup"
   ]
  },
  {
   "cell_type": "markdown",
   "metadata": {},
   "source": [
    "## Defining the XML Parsing Function\n",
    "\n",
    "The source file for the MeSH terms is a large (~300 MB) xml file, and my preferred XML parser (BeautifulSoup) doesn't perform very well under such a load. So, for this exercise, I will initially split the XML file into chunks using basic string techniques, and then I will apply the parser to each fragment. This is slow, but the memory footprint is smaller and it runs without crashing. I know there are better XML libraries, but this is what I've got for now.\n",
    "\n",
    "This function opens the definitions file, extracts only the descriptors that match a SemanticTypeName specified as an argument, and writes those terms to another file. It's important to note that this function only considers semantic types listed under the preferred concept!"
   ]
  },
  {
   "cell_type": "code",
   "execution_count": 8,
   "metadata": {
    "collapsed": false
   },
   "outputs": [],
   "source": [
    "def get_descriptors(semantic_type, filename):\n",
    "    f = open('desc2015.xml', 'r')\n",
    "    xml_contents = f.read()\n",
    "    f.close()\n",
    "\n",
    "    f = open(filename + '.txt', 'w')\n",
    "\n",
    "    header_content = '<?xml version=\"1.0\"?>\\n' + '<!DOCTYPE DescriptorRecordSet SYSTEM \"desc2015.dtd\">\\n' + \\\n",
    "        '<DescriptorRecordSet LanguageCode = \"eng\">\\n' + '<DescriptorRecord DescriptorClass = \"1\">\\n'\n",
    "    xml_contents = xml_contents.replace(header_content, '')\n",
    "    descriptors = xml_contents.split('</DescriptorRecord>\\n<DescriptorRecord DescriptorClass = \"1\">')\n",
    "\n",
    "    for descriptor in descriptors:\n",
    "        descriptor = '<DescriptorRecord DescriptorClass = \"1\">\\n' + descriptor + '</DescriptorRecord>'\n",
    "        desc_soup = BeautifulSoup(descriptor, \"xml\")\n",
    "        name = desc_soup.DescriptorName.String.get_text()\n",
    "        semantic_tags = desc_soup.ConceptList.find('Concept', PreferredConceptYN='Y').find_all('SemanticTypeName')\n",
    "        semantic_types = set()\n",
    "        for tag in semantic_tags:\n",
    "            semantic_types.add(tag.get_text())\n",
    "        if semantic_type in semantic_types: \n",
    "            f.write(name + \"\\n\")\n",
    "    \n",
    "    f.close()"
   ]
  },
  {
   "cell_type": "markdown",
   "metadata": {},
   "source": [
    "## Running the Function to Output the Descriptors\n",
    "\n",
    "This block of code runs the function defined above to generate a file with a list of applicable descriptors. You only need to run this once, and all future data access will come from the newly created file."
   ]
  },
  {
   "cell_type": "code",
   "execution_count": 9,
   "metadata": {
    "collapsed": false
   },
   "outputs": [],
   "source": [
    "# Only need to run this function once to get all of the relevant terms\n",
    "\n",
    "# get_descriptors('Disease or Syndrome', 'mesh_disease_syndrome_terms')"
   ]
  },
  {
   "cell_type": "markdown",
   "metadata": {},
   "source": [
    "# SECTION 3: READING THE DATA FROM THE FILES\n",
    "\n",
    "This section loads the data from the raw PubMed records (previously stored from the API calls) and the disease terms (previously stored from the descriptors list) into their respective data structures for use."
   ]
  },
  {
   "cell_type": "code",
   "execution_count": 10,
   "metadata": {
    "collapsed": false
   },
   "outputs": [
    {
     "name": "stdout",
     "output_type": "stream",
     "text": [
      "2989 terms in the disease list.\n",
      "10297 records in the raw PubMed data.\n",
      "\n",
      "EXAMPLE RECORD\n",
      "\n",
      "ABSTRACT: The aim is to determine the appropriate cutoff values of waist circumference (WC) for an increased risk of the metabolic syndrome in the Korean elderly population. We analyzed the WC cutoff values of four groups divided according to sex and age with a total of 2,224 elderly participants aged 65 years old and above from the Fourth Korean National Health and Nutrition Examination Survey using the receiver operating characteristic curve and multiple logistic regression. The WC cutoff values associated with an increased risk of metabolic syndrome were 89.6 cm for men and 90.5 cm for women for those who were 65 to 74 years old, and 89.9 cm for men and 87.9 cm for women for those who were 75 years old or older. WC cutoff points for estimating metabolic risk are similar in elderly men and women. Age-specific optimal WC cutoff points should be considered especially for elderly women in screening for metabolic syndrome.\n",
      "MESH: ['Age Distribution', 'Aged', 'Aged, 80 and over', 'Female', 'Humans', 'Logistic Models', 'Male', 'Metabolic Syndrome X', 'Nutrition Surveys', 'Obesity, Abdominal', 'ROC Curve', 'Republic of Korea', 'Risk Factors', 'Sex Distribution', 'Waist Circumference']\n",
      "ID: 25548090\n"
     ]
    }
   ],
   "source": [
    "f = open('mesh_disease_syndrome_terms.txt', 'r')\n",
    "disease_terms = f.read()\n",
    "f.close()\n",
    "\n",
    "disease_terms = set(disease_terms.split('\\n'))\n",
    "print(\"{} terms in the disease list.\".format(len(disease_terms)))\n",
    "\n",
    "f = open('obesity_pubmed.txt', 'r')\n",
    "pubmed_raw = f.read()\n",
    "f.close()\n",
    "\n",
    "pubmed_raw = pubmed_raw.split('\\n\\n')\n",
    "pubmed_raw = pubmed_raw[0:len(pubmed_raw)-1]\n",
    "print(\"{} records in the raw PubMed data.\".format(len(pubmed_raw)))\n",
    "\n",
    "pubmed_records = []\n",
    "for record in pubmed_raw:\n",
    "    record_dict = {}\n",
    "    lines = record.split('\\n')\n",
    "    record_dict['ID'] = lines[1]\n",
    "    record_dict['ABSTRACT'] = lines[3]\n",
    "    record_dict['MESH'] = lines[5].split(\"; \")\n",
    "    pubmed_records.append(record_dict)\n",
    "    \n",
    "print(\"\\nEXAMPLE RECORD\\n\")\n",
    "for item in pubmed_records[0]:\n",
    "    print(\"{0}: {1}\".format(item,pubmed_records[0][item]))"
   ]
  },
  {
   "cell_type": "markdown",
   "metadata": {},
   "source": [
    "# SECTION 4: COUNTING PAPERS THAT MENTION DISEASES\n",
    "\n",
    "This section determines the number of papers that mention each disease as a MeSH keyword. It's important to note that the number of papers talking about a disease (in conjunction with obesity) actually tells us nothing about comorbidity, unless we make some strong assumptions about the *contents* of the papers. \n",
    "\n",
    "Papers that mention 'obesity' and disease 'A' together could be looking at:\n",
    "\n",
    "1. The prevalence or severity of disease 'A' in obese populations\n",
    "2. The prevalence or severity of obesity in populations with disease 'A'\n",
    "3. The prevalence or severity of some other issue ('Complication') in populations with both disease 'A' and obesity\n",
    "\n",
    "Even in the subset of papers that study diseases in obese populations, there are multiple explanations for why two diseases have different citation counts:\n",
    "\n",
    "1. Disease 'A' is more common in obese populations than disease 'B', so 'A' gets more attention (what we want to know)\n",
    "2. Disease 'A' is much more severe in obese populations relative to disease 'B', so 'A' gets more attention\n",
    "3. The comorbidity or severity of disease 'A' in obese populations is harder to ascertain than disease 'B', and therefore more studies have been conducted to try to reduce the uncertainty\n",
    "4. Disease 'A' may have more treatment options available and/or is considered easier to treat, so 'A' gets more attention\n",
    "5. The research groups that study the relationships between disease 'A' and obesity might prefer breaking up their studies into smaller papers, or they might just publish more papers in general\n",
    "\n",
    "There are almost certainly other reasons not outlined above. I'll talk about these issues more, in a bit."
   ]
  },
  {
   "cell_type": "markdown",
   "metadata": {},
   "source": [
    "## Counting the Occurrences\n",
    "\n",
    "This section gets the number of occurrences of each disease term in MeSH keywords. It also gets the number of disease terms per paper. The algorithm works by iterating through the records, and for each record, it iterates through the MeSH term. If a term is found in the \"disease_terms\" list, then that term is incremented by 1 in disease_counts. In addition, each valid disease term in a record is counted, and the total number of valid terms per record is stored in the diseases_per_paper dictionary."
   ]
  },
  {
   "cell_type": "code",
   "execution_count": 11,
   "metadata": {
    "collapsed": false
   },
   "outputs": [
    {
     "name": "stdout",
     "output_type": "stream",
     "text": [
      "Time for algorithm: 0 seconds\n",
      "\n"
     ]
    }
   ],
   "source": [
    "disease_counts = {}\n",
    "diseases_per_paper = {}\n",
    "\n",
    "start_time = time.time()\n",
    "for record in pubmed_records:\n",
    "    term_ct = 0\n",
    "    for term in record['MESH']:\n",
    "        if term in disease_terms:\n",
    "            if term in disease_counts:\n",
    "                disease_counts[term] += 1\n",
    "            else:\n",
    "                disease_counts[term] = 1\n",
    "            term_ct += 1\n",
    "    if term_ct in diseases_per_paper:\n",
    "        diseases_per_paper[term_ct] += 1\n",
    "    else:\n",
    "        diseases_per_paper[term_ct] = 1\n",
    "end_time = time.time()\n",
    "\n",
    "print(\"Time for algorithm: {} seconds\\n\".format(round(end_time - start_time),2))"
   ]
  },
  {
   "cell_type": "markdown",
   "metadata": {},
   "source": [
    "## Looking at the Raw Data\n",
    "\n",
    "This section makes some general observations about the results."
   ]
  },
  {
   "cell_type": "code",
   "execution_count": 12,
   "metadata": {
    "collapsed": false
   },
   "outputs": [
    {
     "data": {
      "text/html": [
       "<div>\n",
       "<table border=\"1\" class=\"dataframe\">\n",
       "  <thead>\n",
       "    <tr style=\"text-align: right;\">\n",
       "      <th></th>\n",
       "      <th>Disease</th>\n",
       "      <th>Cts</th>\n",
       "    </tr>\n",
       "  </thead>\n",
       "  <tbody>\n",
       "    <tr>\n",
       "      <th>76</th>\n",
       "      <td>Cardiovascular Diseases</td>\n",
       "      <td>787</td>\n",
       "    </tr>\n",
       "    <tr>\n",
       "      <th>261</th>\n",
       "      <td>Hypertension</td>\n",
       "      <td>770</td>\n",
       "    </tr>\n",
       "    <tr>\n",
       "      <th>26</th>\n",
       "      <td>Diabetes Mellitus, Type 2</td>\n",
       "      <td>617</td>\n",
       "    </tr>\n",
       "    <tr>\n",
       "      <th>157</th>\n",
       "      <td>Metabolic Syndrome X</td>\n",
       "      <td>574</td>\n",
       "    </tr>\n",
       "    <tr>\n",
       "      <th>160</th>\n",
       "      <td>Diabetes Mellitus</td>\n",
       "      <td>457</td>\n",
       "    </tr>\n",
       "    <tr>\n",
       "      <th>19</th>\n",
       "      <td>Chronic Disease</td>\n",
       "      <td>226</td>\n",
       "    </tr>\n",
       "    <tr>\n",
       "      <th>332</th>\n",
       "      <td>Pregnancy Complications</td>\n",
       "      <td>172</td>\n",
       "    </tr>\n",
       "    <tr>\n",
       "      <th>118</th>\n",
       "      <td>Asthma</td>\n",
       "      <td>142</td>\n",
       "    </tr>\n",
       "    <tr>\n",
       "      <th>225</th>\n",
       "      <td>Dyslipidemias</td>\n",
       "      <td>127</td>\n",
       "    </tr>\n",
       "    <tr>\n",
       "      <th>410</th>\n",
       "      <td>Hyperlipidemias</td>\n",
       "      <td>126</td>\n",
       "    </tr>\n",
       "    <tr>\n",
       "      <th>280</th>\n",
       "      <td>Coronary Disease</td>\n",
       "      <td>110</td>\n",
       "    </tr>\n",
       "    <tr>\n",
       "      <th>128</th>\n",
       "      <td>Sleep Apnea, Obstructive</td>\n",
       "      <td>99</td>\n",
       "    </tr>\n",
       "    <tr>\n",
       "      <th>374</th>\n",
       "      <td>Fatty Liver</td>\n",
       "      <td>96</td>\n",
       "    </tr>\n",
       "    <tr>\n",
       "      <th>328</th>\n",
       "      <td>Malnutrition</td>\n",
       "      <td>95</td>\n",
       "    </tr>\n",
       "    <tr>\n",
       "      <th>286</th>\n",
       "      <td>Hypercholesterolemia</td>\n",
       "      <td>95</td>\n",
       "    </tr>\n",
       "    <tr>\n",
       "      <th>247</th>\n",
       "      <td>Child Nutrition Disorders</td>\n",
       "      <td>90</td>\n",
       "    </tr>\n",
       "    <tr>\n",
       "      <th>467</th>\n",
       "      <td>Diabetes Complications</td>\n",
       "      <td>86</td>\n",
       "    </tr>\n",
       "    <tr>\n",
       "      <th>232</th>\n",
       "      <td>Glucose Intolerance</td>\n",
       "      <td>77</td>\n",
       "    </tr>\n",
       "    <tr>\n",
       "      <th>140</th>\n",
       "      <td>Kidney Failure, Chronic</td>\n",
       "      <td>67</td>\n",
       "    </tr>\n",
       "    <tr>\n",
       "      <th>180</th>\n",
       "      <td>Coronary Artery Disease</td>\n",
       "      <td>64</td>\n",
       "    </tr>\n",
       "    <tr>\n",
       "      <th>171</th>\n",
       "      <td>Sleep Apnea Syndromes</td>\n",
       "      <td>58</td>\n",
       "    </tr>\n",
       "    <tr>\n",
       "      <th>54</th>\n",
       "      <td>Myocardial Infarction</td>\n",
       "      <td>57</td>\n",
       "    </tr>\n",
       "    <tr>\n",
       "      <th>168</th>\n",
       "      <td>Heart Failure</td>\n",
       "      <td>56</td>\n",
       "    </tr>\n",
       "    <tr>\n",
       "      <th>62</th>\n",
       "      <td>Prader-Willi Syndrome</td>\n",
       "      <td>54</td>\n",
       "    </tr>\n",
       "    <tr>\n",
       "      <th>25</th>\n",
       "      <td>Diabetes, Gestational</td>\n",
       "      <td>54</td>\n",
       "    </tr>\n",
       "    <tr>\n",
       "      <th>293</th>\n",
       "      <td>Stroke</td>\n",
       "      <td>49</td>\n",
       "    </tr>\n",
       "    <tr>\n",
       "      <th>409</th>\n",
       "      <td>Hyperglycemia</td>\n",
       "      <td>48</td>\n",
       "    </tr>\n",
       "    <tr>\n",
       "      <th>143</th>\n",
       "      <td>Gastroesophageal Reflux</td>\n",
       "      <td>48</td>\n",
       "    </tr>\n",
       "    <tr>\n",
       "      <th>98</th>\n",
       "      <td>Metabolic Diseases</td>\n",
       "      <td>46</td>\n",
       "    </tr>\n",
       "    <tr>\n",
       "      <th>461</th>\n",
       "      <td>Diabetes Mellitus, Type 1</td>\n",
       "      <td>44</td>\n",
       "    </tr>\n",
       "    <tr>\n",
       "      <th>...</th>\n",
       "      <td>...</td>\n",
       "      <td>...</td>\n",
       "    </tr>\n",
       "    <tr>\n",
       "      <th>197</th>\n",
       "      <td>Brain Infarction</td>\n",
       "      <td>1</td>\n",
       "    </tr>\n",
       "    <tr>\n",
       "      <th>199</th>\n",
       "      <td>Intertrigo</td>\n",
       "      <td>1</td>\n",
       "    </tr>\n",
       "    <tr>\n",
       "      <th>201</th>\n",
       "      <td>Autoimmune Diseases</td>\n",
       "      <td>1</td>\n",
       "    </tr>\n",
       "    <tr>\n",
       "      <th>204</th>\n",
       "      <td>Spinal Cord Diseases</td>\n",
       "      <td>1</td>\n",
       "    </tr>\n",
       "    <tr>\n",
       "      <th>205</th>\n",
       "      <td>Gastric Dilatation</td>\n",
       "      <td>1</td>\n",
       "    </tr>\n",
       "    <tr>\n",
       "      <th>209</th>\n",
       "      <td>Adiposis Dolorosa</td>\n",
       "      <td>1</td>\n",
       "    </tr>\n",
       "    <tr>\n",
       "      <th>212</th>\n",
       "      <td>Vitamin B Deficiency</td>\n",
       "      <td>1</td>\n",
       "    </tr>\n",
       "    <tr>\n",
       "      <th>215</th>\n",
       "      <td>Genetic Diseases, Inborn</td>\n",
       "      <td>1</td>\n",
       "    </tr>\n",
       "    <tr>\n",
       "      <th>216</th>\n",
       "      <td>Heart Failure, Diastolic</td>\n",
       "      <td>1</td>\n",
       "    </tr>\n",
       "    <tr>\n",
       "      <th>217</th>\n",
       "      <td>Peptic Ulcer Perforation</td>\n",
       "      <td>1</td>\n",
       "    </tr>\n",
       "    <tr>\n",
       "      <th>219</th>\n",
       "      <td>Cephalopelvic Disproportion</td>\n",
       "      <td>1</td>\n",
       "    </tr>\n",
       "    <tr>\n",
       "      <th>220</th>\n",
       "      <td>Lactation Disorders</td>\n",
       "      <td>1</td>\n",
       "    </tr>\n",
       "    <tr>\n",
       "      <th>221</th>\n",
       "      <td>Macular Degeneration</td>\n",
       "      <td>1</td>\n",
       "    </tr>\n",
       "    <tr>\n",
       "      <th>224</th>\n",
       "      <td>Biliary Tract Diseases</td>\n",
       "      <td>1</td>\n",
       "    </tr>\n",
       "    <tr>\n",
       "      <th>252</th>\n",
       "      <td>Hypertension, Portal</td>\n",
       "      <td>1</td>\n",
       "    </tr>\n",
       "    <tr>\n",
       "      <th>27</th>\n",
       "      <td>Nerve Compression Syndromes</td>\n",
       "      <td>1</td>\n",
       "    </tr>\n",
       "    <tr>\n",
       "      <th>226</th>\n",
       "      <td>Hepatitis B, Chronic</td>\n",
       "      <td>1</td>\n",
       "    </tr>\n",
       "    <tr>\n",
       "      <th>228</th>\n",
       "      <td>Epidural Abscess</td>\n",
       "      <td>1</td>\n",
       "    </tr>\n",
       "    <tr>\n",
       "      <th>24</th>\n",
       "      <td>Heart Block</td>\n",
       "      <td>1</td>\n",
       "    </tr>\n",
       "    <tr>\n",
       "      <th>1</th>\n",
       "      <td>Common Cold</td>\n",
       "      <td>1</td>\n",
       "    </tr>\n",
       "    <tr>\n",
       "      <th>236</th>\n",
       "      <td>Distemper</td>\n",
       "      <td>1</td>\n",
       "    </tr>\n",
       "    <tr>\n",
       "      <th>238</th>\n",
       "      <td>Amyotrophic Lateral Sclerosis</td>\n",
       "      <td>1</td>\n",
       "    </tr>\n",
       "    <tr>\n",
       "      <th>241</th>\n",
       "      <td>Irritable Bowel Syndrome</td>\n",
       "      <td>1</td>\n",
       "    </tr>\n",
       "    <tr>\n",
       "      <th>242</th>\n",
       "      <td>Premenstrual Syndrome</td>\n",
       "      <td>1</td>\n",
       "    </tr>\n",
       "    <tr>\n",
       "      <th>245</th>\n",
       "      <td>Nervous System Diseases</td>\n",
       "      <td>1</td>\n",
       "    </tr>\n",
       "    <tr>\n",
       "      <th>246</th>\n",
       "      <td>Pneumococcal Infections</td>\n",
       "      <td>1</td>\n",
       "    </tr>\n",
       "    <tr>\n",
       "      <th>249</th>\n",
       "      <td>Hematologic Diseases</td>\n",
       "      <td>1</td>\n",
       "    </tr>\n",
       "    <tr>\n",
       "      <th>250</th>\n",
       "      <td>Ventilator-Induced Lung Injury</td>\n",
       "      <td>1</td>\n",
       "    </tr>\n",
       "    <tr>\n",
       "      <th>251</th>\n",
       "      <td>Fatigue Syndrome, Chronic</td>\n",
       "      <td>1</td>\n",
       "    </tr>\n",
       "    <tr>\n",
       "      <th>257</th>\n",
       "      <td>Cholecystitis</td>\n",
       "      <td>1</td>\n",
       "    </tr>\n",
       "  </tbody>\n",
       "</table>\n",
       "<p>468 rows × 2 columns</p>\n",
       "</div>"
      ],
      "text/plain": [
       "                            Disease  Cts\n",
       "76          Cardiovascular Diseases  787\n",
       "261                    Hypertension  770\n",
       "26        Diabetes Mellitus, Type 2  617\n",
       "157            Metabolic Syndrome X  574\n",
       "160               Diabetes Mellitus  457\n",
       "19                  Chronic Disease  226\n",
       "332         Pregnancy Complications  172\n",
       "118                          Asthma  142\n",
       "225                   Dyslipidemias  127\n",
       "410                 Hyperlipidemias  126\n",
       "280                Coronary Disease  110\n",
       "128        Sleep Apnea, Obstructive   99\n",
       "374                     Fatty Liver   96\n",
       "328                    Malnutrition   95\n",
       "286            Hypercholesterolemia   95\n",
       "247       Child Nutrition Disorders   90\n",
       "467          Diabetes Complications   86\n",
       "232             Glucose Intolerance   77\n",
       "140         Kidney Failure, Chronic   67\n",
       "180         Coronary Artery Disease   64\n",
       "171           Sleep Apnea Syndromes   58\n",
       "54            Myocardial Infarction   57\n",
       "168                   Heart Failure   56\n",
       "62            Prader-Willi Syndrome   54\n",
       "25            Diabetes, Gestational   54\n",
       "293                          Stroke   49\n",
       "409                   Hyperglycemia   48\n",
       "143         Gastroesophageal Reflux   48\n",
       "98               Metabolic Diseases   46\n",
       "461       Diabetes Mellitus, Type 1   44\n",
       "..                              ...  ...\n",
       "197                Brain Infarction    1\n",
       "199                      Intertrigo    1\n",
       "201             Autoimmune Diseases    1\n",
       "204            Spinal Cord Diseases    1\n",
       "205              Gastric Dilatation    1\n",
       "209               Adiposis Dolorosa    1\n",
       "212            Vitamin B Deficiency    1\n",
       "215        Genetic Diseases, Inborn    1\n",
       "216        Heart Failure, Diastolic    1\n",
       "217        Peptic Ulcer Perforation    1\n",
       "219     Cephalopelvic Disproportion    1\n",
       "220             Lactation Disorders    1\n",
       "221            Macular Degeneration    1\n",
       "224          Biliary Tract Diseases    1\n",
       "252            Hypertension, Portal    1\n",
       "27      Nerve Compression Syndromes    1\n",
       "226            Hepatitis B, Chronic    1\n",
       "228                Epidural Abscess    1\n",
       "24                      Heart Block    1\n",
       "1                       Common Cold    1\n",
       "236                       Distemper    1\n",
       "238   Amyotrophic Lateral Sclerosis    1\n",
       "241        Irritable Bowel Syndrome    1\n",
       "242           Premenstrual Syndrome    1\n",
       "245         Nervous System Diseases    1\n",
       "246         Pneumococcal Infections    1\n",
       "249            Hematologic Diseases    1\n",
       "250  Ventilator-Induced Lung Injury    1\n",
       "251       Fatigue Syndrome, Chronic    1\n",
       "257                   Cholecystitis    1\n",
       "\n",
       "[468 rows x 2 columns]"
      ]
     },
     "execution_count": 12,
     "metadata": {},
     "output_type": "execute_result"
    }
   ],
   "source": [
    "import pandas as pd\n",
    "\n",
    "disease_cts_df = pd.DataFrame.from_dict(disease_counts, orient='index')\n",
    "disease_cts_df.reset_index(inplace=True)\n",
    "disease_cts_df.columns = ['Disease','Cts']\n",
    "disease_cts_df.sort_values('Cts', ascending=False, inplace=True)\n",
    "disease_cts_df"
   ]
  },
  {
   "cell_type": "code",
   "execution_count": 13,
   "metadata": {
    "collapsed": false
   },
   "outputs": [
    {
     "name": "stdout",
     "output_type": "stream",
     "text": [
      "Number of Disease Terms Per Paper\n",
      "{0: 6164, 1: 2376, 2: 940, 3: 481, 4: 214, 5: 84, 6: 20, 7: 12, 8: 2, 9: 2, 10: 2} \n",
      "\n",
      "Percentage of Papers With No Disease Terms in MeSH Keywords: 59.86 %\n",
      "Percentage of Papers With One Disease Term in MeSH Keywords: 23.07 %\n",
      "Percentage of Papers With Two or More Disease Terms in MeSH Keywords: 17.06 %\n",
      "\n",
      "Number of diseases or syndromes with >   0 mentions: 468\n",
      "Number of diseases or syndromes with >   1 mentions: 267\n",
      "Number of diseases or syndromes with >   5 mentions: 123\n",
      "Number of diseases or syndromes with >  10 mentions: 71\n",
      "Number of diseases or syndromes with >  20 mentions: 46\n",
      "Number of diseases or syndromes with > 100 mentions: 11\n",
      "Number of diseases or syndromes with > 200 mentions: 6\n",
      "\n",
      "Total number of times disease or syndrome terms were mentioned: 7233\n",
      "Total number of papers with at least one disease or syndrome term: 4133\n"
     ]
    }
   ],
   "source": [
    "pct_zero = 100*diseases_per_paper[0]/len(pubmed_records)\n",
    "pct_one = 100*diseases_per_paper[1]/len(pubmed_records)\n",
    "pct_more = 100 - pct_one - pct_zero\n",
    "\n",
    "more_than_one_df = disease_cts_df.loc[disease_cts_df['Cts'] > 1]\n",
    "more_than_five_df = disease_cts_df.loc[disease_cts_df['Cts'] > 5]\n",
    "more_than_ten_df = disease_cts_df.loc[disease_cts_df['Cts'] > 10]\n",
    "more_than_twenty_df = disease_cts_df.loc[disease_cts_df['Cts'] > 20]\n",
    "more_than_hundred_df = disease_cts_df.loc[disease_cts_df['Cts'] > 100]\n",
    "more_than_twohund_df = disease_cts_df.loc[disease_cts_df['Cts'] > 200]\n",
    "\n",
    "total_mentions = disease_cts_df['Cts'].sum()\n",
    "papers_with_one_or_more = len(pubmed_raw) - diseases_per_paper[0]\n",
    "\n",
    "print(\"Number of Disease Terms Per Paper\")\n",
    "print(diseases_per_paper, \"\\n\")\n",
    "print(\"Percentage of Papers With No Disease Terms in MeSH Keywords: {0:.2f} %\".format(pct_zero))\n",
    "print(\"Percentage of Papers With One Disease Term in MeSH Keywords: {0:.2f} %\".format(pct_one))\n",
    "print(\"Percentage of Papers With Two or More Disease Terms in MeSH Keywords: {0:.2f} %\\n\".format(pct_more))\n",
    "\n",
    "print(\"Number of diseases or syndromes with >   0 mentions: {}\".format(len(disease_cts_df)))\n",
    "print(\"Number of diseases or syndromes with >   1 mentions: {}\".format(len(more_than_one_df)))\n",
    "print(\"Number of diseases or syndromes with >   5 mentions: {}\".format(len(more_than_five_df)))\n",
    "print(\"Number of diseases or syndromes with >  10 mentions: {}\".format(len(more_than_ten_df)))\n",
    "print(\"Number of diseases or syndromes with >  20 mentions: {}\".format(len(more_than_twenty_df)))\n",
    "print(\"Number of diseases or syndromes with > 100 mentions: {}\".format(len(more_than_hundred_df)))\n",
    "print(\"Number of diseases or syndromes with > 200 mentions: {}\\n\".format(len(more_than_twohund_df)))\n",
    "\n",
    "print(\"Total number of times disease or syndrome terms were mentioned: {}\".format(total_mentions))\n",
    "print(\"Total number of papers with at least one disease or syndrome term: {}\".format(papers_with_one_or_more))"
   ]
  },
  {
   "cell_type": "markdown",
   "metadata": {},
   "source": [
    "## Plotting the Data"
   ]
  },
  {
   "cell_type": "code",
   "execution_count": 141,
   "metadata": {
    "collapsed": false
   },
   "outputs": [
    {
     "data": {
      "image/png": "[encoded data removed]",
      "text/plain": [
       "<matplotlib.figure.Figure at 0x22b65711ef0>"
      ]
     },
     "metadata": {},
     "output_type": "display_data"
    }
   ],
   "source": [
    "df_to_plot = more_than_twenty_df\n",
    "cutoff = 20\n",
    "\n",
    "max_X = len(df_to_plot)\n",
    "X_vals = [x for x in range(0,max_X)]\n",
    "\n",
    "fig = plt.figure(figsize=(12,7))\n",
    "ax = fig.add_subplot(1,1,1)\n",
    "ax.bar(X_vals,df_to_plot['Cts'],align='center',color='lightblue')\n",
    "ax.set_xticks(X_vals)\n",
    "ax.set_xticklabels(df_to_plot['Disease'], rotation=90)\n",
    "ax.set_xlim([-1,max_X])\n",
    "ax.set_xlabel('Disease or Syndrome')\n",
    "ax.set_ylabel('Number of Occurrences as MeSH Terms')\n",
    "ax.set_title('Number of Times a Disease Was Mentioned in Association with Obesity (2000-2012) [> '+str(cutoff)+' Mentions, MeSH]', y=1.05)\n",
    "plt.show()"
   ]
  },
  {
   "cell_type": "markdown",
   "metadata": {},
   "source": [
    "## Discussion\n",
    "\n",
    "First, it's worth noting that the majority of the PubMed records that we retrieved (~60 %) don't discuss any diseases or syndromes in association with obesity. Approximately 23 % of the records contain only one associated disease or syndrome keyword, and the rest contain two or more. Two records even contain 10 disease keywords in its MeSH terms!\n",
    "\n",
    "Second, it's worth noting that, although there were 468 different diseases or syndromes mentioned at least once, only 123 were mentioned more than 5 times. You can see if the figure above (only showing terms mentioned > 20 times) that there is a long tail, with a large number of diseases only discussed (alongside obesity) in a relatively small number of papers.\n",
    "\n",
    "So, which diseases are discussed most often alongside obesity? \n",
    "\n",
    "1. Cardiovascular Diseases\n",
    "2. Hypertension\n",
    "3. Diabetes Mellitus, Type 2\n",
    "4. Metabolic Syndrome X\n",
    "5. Diabetes Mellitus\n",
    "\n",
    "It's pretty clear that many of the disease / syndrome terms are related in nature. If I had more of a medical background (and understood the diseases better), I'd group similar conditions to better understand the classes of problems being studied.\n",
    "\n",
    "So, what can we make of this data? As discussed at the beginning of this section, more studies (or more papers) do not necessarily mean higher incidence rates in obese populations! First, we have to consider that many papers talking about 'obesity' and 'disease A' aren't necessarily looking at the *relationship* between the two. They are looking at some third factor in populations with both 'obesity' and 'disease A'. Second, even if the studies are *about* the relationship between 'obesity' and 'disease A', we don't know whether the studies were looking at the odds of the disease in obese people or the odds of obesity in diseased people. Third, citation counts don't really tell us about odds ratios. It could be that the diseases with more attention are more prevalent (what we want), more severe, more treatable, more ambiguous (unclear odds ratios), etc. The only way to truly determine which of these diseases are comorbid (odds ratios > 1) is to extract the data from the records themselves."
   ]
  },
  {
   "cell_type": "markdown",
   "metadata": {},
   "source": [
    "# SECTION 5: EXTRACTING DATA FROM ABSTRACTS\n",
    "\n",
    "Finding the number of papers that mention a disease (in conjunction with obesity) only gets us so far towards answering our question. The pitfalls were discussed extensively in the previous section, so they won't be repeated here. What we really need to know is what the papers actually **say** about the disease in relation to obesity, and in particular, what we want to know is the **odds ratios** for the diseases in obese vs non-obese populations.\n",
    "\n",
    "It's possible that a more refined PubMed search could eliminate many of the irrelevant records and return more epidemiology-oriented papers, making our job easier. As specified in the introduction, I'm carrying the assumption that the statistical results of the papers are not recorded in the metadata. If I am wrong (possible!), then the nature of this project changes quite a bit. However, for now, we're going to try to work with our very unconstrained dataset.\n",
    "\n",
    "First, we'll take a closer look at some samples of the data, and then we'll try a few brute-force methods for gathering data. Text processing, in the best of scenarios (well-structured data), is challenging. In a scenario such as this (free-form text, no expectation of common language terms or writing styles), given the limited time, it may be impossible. If this was a more substantial project, the two areas that would need more focus would be: refining the initial search, and building out a decent set of text search algorithms."
   ]
  },
  {
   "cell_type": "markdown",
   "metadata": {},
   "source": [
    "## Looking at a Sample of Abstracts\n",
    "\n",
    "In this section, we'll print a few records for the most commonly cited term. It's worth a good, qualitative look at the data to get a feel for how different authors might or might not summarize the relevant data in the abstracts."
   ]
  },
  {
   "cell_type": "code",
   "execution_count": 15,
   "metadata": {
    "collapsed": false
   },
   "outputs": [
    {
     "name": "stdout",
     "output_type": "stream",
     "text": [
      "A sample of records with the term 'Cardiovascular Diseases':\n",
      "\n",
      "ABSTRACT\n",
      "Waist circumference (WC) is a useful measure for identifying children at higher risk of complications related with abdominal fat. We determined the magnitude of central adiposity, single and combined with overweight and obesity in infants 1-5 years old. We also identified smoothed age-and sex-specific WC percentile values, which were compared with other countries available data. This was a cross-sectional study in children of 8 day care centers located in Monterrey, Mexico (n = 903, 431 boys and 472 girls). Because the risk due to abdominal obesity begins at WC percentile > or = 75, we considered two thresholds, percentile 75 y 90. Overweight was defined based on body mass index at percentile 85-94 for age and sex; and obesity, at percentile > or = 95. Analysis consisted of point prevalence and 95% confidence intervals. The LMS Chart Maker Light software was used for smoothing WC percentile values. The study population mean age was 2.7 +/- 1.0 years. Mexican children's WC was 1 cm above that of Afro-American; and it was up to 4 cm below that Mexican-American. Prevalence of central obesity with WC at percentile 75 combined with overweight/obesity was 25.1% (95% CI 22.3-28.0) and single, 15.4% (95 CI% 13.0-17.8). Prevalence of single abdominal obesity with WC at percentile > or = 90 was 4.4% (IC 95% 3.0, 5.8). Day care centers represent a key opportunity for defying central obesity. WC can be used since early age for screening and caring children at higher cardiovascular risk. \n",
      "\n",
      "MESH\n",
      "['Abdominal Fat', 'Adiposity', 'Age Factors', 'Cardiovascular Diseases', 'Child Day Care Centers', 'Child, Preschool', 'Cross-Sectional Studies', 'Female', 'Humans', 'Infant', 'Male', 'Mexico', 'Obesity', 'Obesity, Abdominal', 'Overweight', 'Risk Factors', 'Sex Factors', 'Waist Circumference'] \n",
      "\n",
      "------------------------------------------------------\n",
      "\n",
      "ABSTRACT\n",
      "The study investigated some co-morbidities, and age, gender and occupational distribution of stroke survivors seen in the Physiotherapy clinic of University of Maiduguri Teaching Hospital, Maiduguri, Borno State, Nigeria; A 3-year retrospective study (January, 2008 to December, 2010). \n",
      "\n",
      "MESH\n",
      "['Adult', 'Aged', 'Cardiovascular Diseases', 'Comorbidity', 'Demography', 'Diabetes Mellitus, Type 2', 'Female', 'HIV Infections', 'Humans', 'Hyperlipidemias', 'Male', 'Middle Aged', 'Nigeria', 'Obesity', 'Physical Therapy Specialty', 'Referral and Consultation', 'Renal Insufficiency, Chronic', 'Risk Factors', 'Socioeconomic Factors', 'Stroke', 'Survivors'] \n",
      "\n",
      "------------------------------------------------------\n",
      "\n",
      "ABSTRACT\n",
      "In the 1980s, the idea evolved that some individuals with normal weight (Metabolically Obese, Normal-Weight), who probably have increased abdominal fat, have metabolic disturbances related to obesity. This observation initiated the concept of the metabolically obese but normal-weight syndrome (MONW). Since then, there have been only a few studies in non-obese subjects. MONW men and women should be regarded as at high risk for cardiovascular disease. \n",
      "\n",
      "MESH\n",
      "['Adipose Tissue', 'Adult', 'Blood Glucose', 'Body Mass Index', 'Body Weight', 'Cardiovascular Diseases', 'Female', 'Humans', 'Insulin', 'Insulin Resistance', 'Lipoproteins, HDL', 'Lipoproteins, LDL', 'Male', 'Metabolic Syndrome X', 'Obesity', 'Poland', 'Prevalence', 'Risk Factors', 'Sex Factors', 'Triglycerides', 'Waist Circumference', 'Young Adult'] \n",
      "\n",
      "------------------------------------------------------\n",
      "\n",
      "ABSTRACT\n",
      "Assessment of death risk for different combinations of body-mass index (BMI) and smoking status among a nationally representative cohort of U.S. adults. \n",
      "\n",
      "MESH\n",
      "['Adolescent', 'Adult', 'Aged', 'Aged, 80 and over', 'Body Mass Index', 'Cardiovascular Diseases', 'Comorbidity', 'Female', 'Health Surveys', 'Humans', 'Male', 'Middle Aged', 'Neoplasms', 'Obesity', 'Proportional Hazards Models', 'Prospective Studies', 'Risk Assessment', 'Smoking', 'Thinness', 'United States', 'Young Adult'] \n",
      "\n",
      "------------------------------------------------------\n",
      "\n",
      "ABSTRACT\n",
      "To establish the prevalence of overweight-obesity and metabolic syndrome in a group of paediatric patients with type 1 diabetes (DM1), and to determine the effects on the lipoprotein profile and metabolic control. \n",
      "\n",
      "MESH\n",
      "['Adolescent', 'Cardiovascular Diseases', 'Child', 'Cross-Sectional Studies', 'Diabetes Complications', 'Diabetes Mellitus, Type 1', 'Female', 'Humans', 'Male', 'Metabolic Syndrome X', 'Obesity', 'Overweight', 'Prevalence', 'Prospective Studies', 'Risk Factors'] \n",
      "\n",
      "------------------------------------------------------\n",
      "\n"
     ]
    }
   ],
   "source": [
    "disease_sought = disease_cts_df['Disease'].iloc[0]\n",
    "max_records = 5\n",
    "\n",
    "print(\"A sample of records with the term '{}':\\n\".format(disease_sought))\n",
    "\n",
    "returned_records = 0\n",
    "for record in pubmed_records:\n",
    "    for term in record['MESH']:\n",
    "        if term == disease_sought:\n",
    "            print('ABSTRACT')\n",
    "            print(record['ABSTRACT'], \"\\n\")\n",
    "            print('MESH')\n",
    "            print(record['MESH'], \"\\n\")\n",
    "            print('------------------------------------------------------\\n')\n",
    "            returned_records += 1\n",
    "            break\n",
    "    if returned_records == max_records:\n",
    "        break"
   ]
  },
  {
   "cell_type": "markdown",
   "metadata": {},
   "source": [
    "## Regex Tests\n",
    "\n",
    "This is just a section for me to test out regex for finding odds ratio terms. Getting these terms correct is challenging. As you can see in some of the abstract samples shown above, there are lots of papers reporting \"> or = ##\", which means we're restricted to using capital \"OR\". Glancing through abstracts on my own, it does appear that \"OR\" is the standard abbreviation, so we're not likely missing too many papers leaving out \"or = \"."
   ]
  },
  {
   "cell_type": "code",
   "execution_count": 122,
   "metadata": {
    "collapsed": false
   },
   "outputs": [
    {
     "name": "stdout",
     "output_type": "stream",
     "text": [
      "Testing the Main Regex Term:\n",
      "['OR = 2.61']\n",
      "['O.R. = 800']\n",
      "[]\n",
      "['OR=2.9']\n",
      "[]\n",
      "[]\n",
      "[]\n",
      "[]\n",
      "['OR 262']\n",
      "['[OR] = 12.2']\n",
      "['[O.R.] = 19']\n",
      "['[O.R. = 124']\n",
      "['(OR = 14']\n",
      "[]\n",
      "\n",
      "Testing the Alternative Regex Term:\n",
      "['odds ratio is 2.4']\n",
      "['Odds Ratio is 12']\n",
      "['Odds ratio = 14.8']\n",
      "['odds ratio of 42']\n"
     ]
    }
   ],
   "source": [
    "import re\n",
    "\n",
    "tests = ['My dog has an OR = 2.61.', \\\n",
    "         'My dog has an O.R. = 800.', \\\n",
    "         'My dog has an or=2.9.', \\\n",
    "         'My dog has an OR=2.9.', \\\n",
    "         'My dog has a p = 7.8.', \\\n",
    "         'My dog has an ore = 0.', \\\n",
    "         'My dog has a tor.= 1200', \\\n",
    "         'My dog has > or = 12 treats', \\\n",
    "         'My dog has an OR 262', \\\n",
    "         'My dog has an [OR] = 12.2', \\\n",
    "         'My dog has an [O.R.] = 19', \\\n",
    "         'My dog has an [O.R. = 124]', \\\n",
    "         'My dog has an (OR = 14)',\\\n",
    "         'My dog is THOR = 12']\n",
    "\n",
    "reg_main = r'(?:\\[|\\b|\\()O.?R[\\.\\]\\)=\\s]+(?:\\d*\\.)?\\d+'\n",
    "\n",
    "print(\"Testing the Main Regex Term:\")\n",
    "for test in tests:\n",
    "    search = re.findall(reg_main,test)\n",
    "    print(search)\n",
    "\n",
    "tests_2 = ['My odds ratio is 2.4.', \\\n",
    "           'My Odds Ratio is 12.', \\\n",
    "           'My Odds ratio = 14.8.', \\\n",
    "           'My odds ratio of 42']\n",
    "\n",
    "reg_alt = r'[oO]dds [rR]atio (?:=|is|of) (?:\\d*\\.)?\\d+'\n",
    "\n",
    "print(\"\\nTesting the Alternative Regex Term:\")\n",
    "for test in tests_2:\n",
    "    search = re.findall(reg_alt,test)\n",
    "    print(search)"
   ]
  },
  {
   "cell_type": "markdown",
   "metadata": {},
   "source": [
    "## Attempting to Get Values from the Text\n",
    "\n",
    "In this section, we'll attempt to get some of the desired odds ratios out of the abstracts. The approach that we'll use here is a very simple one, using regex searchs with a few key expressions. We'll almost certainly miss reported odds ratios using this technique. In addition, we won't be able to distinguish P(Disease|Obesity) from P(Obesity|Disease), and we won't be able to know which disease corresponds to which odds ratio if multiple are reported in a study. Language processing is complicated, and in a real study, this section would require the bulk of the allocated time."
   ]
  },
  {
   "cell_type": "code",
   "execution_count": 123,
   "metadata": {
    "collapsed": false
   },
   "outputs": [
    {
     "name": "stdout",
     "output_type": "stream",
     "text": [
      "Total Number of Records Found with OR Values: 64\n",
      "\n",
      "Examples of Results:\n",
      "\n",
      "23312304   ['Pediatric Obesity']   ['OR = 1.74']\n",
      "23201911   ['Pediatric Obesity']   ['(OR=1.47', '(OR=1.339']\n",
      "23109638   ['Intervertebral Disc Displacement', 'Polyradiculopathy']   ['(OR) 1.17', 'OR 1.06', '(OR 0.9']\n",
      "23077856   ['Metabolic Syndrome X']   ['(OR 6.97', '(OR 6.74', '(OR 21.64']\n",
      "23077855   ['Metabolic Syndrome X']   ['(OR 1.033', '(OR 1.143', '(OR 6.189']\n",
      "23000799   ['Cardiovascular Diseases', 'Diabetes Mellitus', 'Hypercholesterolemia', 'Hypertension']   ['[OR] = 1.44', '(OR = 1.84', '(OR = 1.45', '(OR = 1.87', '(OR = 2.83', '(OR = 2.44']\n",
      "22936705   ['Pneumonia']   ['(OR 0.96', '(OR 0.86', '(OR 1.40']\n",
      "22833658   ['Metabolic Syndrome X']   ['[OR = 0.48', '[OR = 0.28', 'OR = 0.52', 'OR = 0.34']\n",
      "22806540   ['Migraine Disorders']   ['[OR 2.10']\n",
      "22653771   ['Asthma']   ['(OR 1.96', '(OR 1.84', '(OR 1.46']\n",
      "22619058   ['Asymptomatic Diseases', 'Cerebral Small Vessel Diseases', 'Nervous System Diseases']   ['(OR) 2.32', '(OR 2.17']\n",
      "22527771   ['Cardiovascular Diseases']   ['(OR 4.38', '(OR 1.64', '(OR 1.66', '(OR 3.42', '(OR 3.36', '(OR 2.95', '(OR 1.64']\n",
      "22522209   ['Hypertension']   ['(OR = 2.45', '(OR = 6.72', 'OR = 6.76', '(OR = 1.64', '(OR = 0.61']\n",
      "22515114   ['Pregnancy Complications']   ['(OR = 3.1', '(OR = 4.1', '(OR=2.2', '(OR = 24.7', '(OR = 2.1', '(OR = 8.1', '(OR = 3.4', '(OR = 2.2']\n",
      "22457394   ['Metabolic Syndrome X']   ['[OR = 1.66', '[OR = 1.42']\n",
      "22314621   ['Metabolic Syndrome X']   ['odds ratio = 1.60']\n",
      "22267319   ['Pregnancy Complications']   ['[OR] = 2.14', '(OR = 2.29', 'OR = 3.33']\n",
      "22252049   ['Asthma']   ['(OR) = 1.93', 'OR = 0.75']\n",
      "22188520   ['Gastrointestinal Diseases']   ['[OR] = 2.65', '(OR = 1.89', '(OR = 1.45', '(OR = 1.74', '(OR = 1.76', '(OR = 1.33', '(OR = 1.32']\n",
      "22155535   ['Metabolic Syndrome X']   ['(OR = 38.354', '(OR = 1.043', '(OR = 0.696']\n",
      "22110475   ['Pregnancy Complications']   ['(OR = 1.1', '(OR = 1.2']\n",
      "21938076   ['Diabetes Mellitus']   ['(OR) = 2.91', '(OR = 1.84', '(OR = 1.51']\n",
      "21653608   ['Fatty Liver', 'Metabolic Syndrome X']   ['[OR] = 2.2', '(OR = 2.2', '(OR = 2.2', '(OR = 2.5']\n",
      "21593807   ['Hyperinsulinism']   ['(OR) 5.7', '(OR 7.0', 'OR 1.7']\n",
      "21253002   ['Pre-Eclampsia', 'Pregnancy Complications']   ['OR = 1.87', 'OR = 2.59']\n",
      "21127471   ['Hypertension']   ['(OR) 1.50', 'OR 1.53']\n",
      "20926190   ['Chronic Disease', 'Metabolic Syndrome X']   ['(OR 2.03', '(OR 1.55', '(OR 1.70']\n",
      "20623094   ['Asthma']   ['OR = 1.02', 'OR = 0.94']\n",
      "20603279   ['Diabetes Mellitus, Type 2']   ['odds ratio = 1.08', 'odds ratio = 0.99']\n",
      "20567927   ['Metabolic Syndrome X']   ['(OR = 0.61', '(OR = 1.53']\n"
     ]
    }
   ],
   "source": [
    "study_results = []\n",
    "start_time = time.time()\n",
    "for record in pubmed_records:\n",
    "    study_diseases = []\n",
    "    study_values = []\n",
    "    has_or_terms = False\n",
    "    for mesh_term in record['MESH']:\n",
    "        if mesh_term in disease_terms:\n",
    "            study_diseases.append(mesh_term)\n",
    "    if len(study_diseases) > 0:\n",
    "        text = record['ABSTRACT'].replace('~','')\n",
    "        regex_terms = [reg_main, reg_alt]\n",
    "        for reg in regex_terms:\n",
    "            search_results = re.findall(reg,text)\n",
    "            if len(search_results) > 0:\n",
    "                study_values += search_results\n",
    "        if len(study_values) > 0:\n",
    "            study_results.append([record['ID'],study_diseases, study_values])\n",
    "end_time = time.time()\n",
    "\n",
    "print(\"Total Number of Records Found with OR Values: {}\\n\".format(len(study_results)))\n",
    "print(\"Examples of Results:\\n\")\n",
    "for i in range(0,30):\n",
    "    print(study_results[i][0], \" \", study_results[i][1], \" \", study_results[i][2])"
   ]
  },
  {
   "cell_type": "markdown",
   "metadata": {},
   "source": [
    "## Validating the Results\n",
    "\n",
    "In this section, we'll pull the abstracts for a few records and compare them to the results obtained above. If the odds ratios that we scraped appear to be in-context and match the type of data we're looking for, we might have some more confidence in our methods."
   ]
  },
  {
   "cell_type": "code",
   "execution_count": 124,
   "metadata": {
    "collapsed": false
   },
   "outputs": [
    {
     "name": "stdout",
     "output_type": "stream",
     "text": [
      "ABSTRACT\n",
      "\n",
      "Childhood obesity is an increasing public health problem, particularly among minority infants and young children. Disparities in overweight prevalence persist and widen with age, highlighting the need to identify factors contributing to early excess weight gain. We review the behavioral, social and macro-environmental factors contributing to the development of obesogenic early feeding practices among African-American infants and young children. We then examine the sociodemographic, household factors, feeding beliefs and infant characteristics associated with age-inappropriate feeding of liquids and solids (inappropriate feeding) among mothers and infants participating the U.S. Infant Care and Risk of Obesity Study, a cohort study of 217 low-income, first-time mothers and infants followed from 3 to 18 months of age. Maternal and infant anthropometry, infant diet, and maternal and household characteristics were collected at home visits at 3, 6, 9, 12 and 18 months of age. Mixed logistic regression was used to estimate the association between maternal and infant characteristics and inappropriate feeding. Rates of age-inappropriate feeding are high; over 75% of infants received solids or juice by 3 months of age. The odds of age-inappropriate feeding were higher among mothers who were single, depressed or believed that their infant is a \"greedy\" baby. Inappropriate feeding was associated with higher daily energy intake in infants (? = 109.28 calories, p = 0.01) and with increased odds of high infant weight-for-length (WFL; OR = 1.74, 95%CI: 1.01-3.01). Our findings suggest that age-inappropriate complementary feeding influences current energy intakes and infant WFL, factors that may increase long-term obesity risk by shaping infant appetite, food preferences, and metabolism. Given the intractability of pediatric obesity, understanding the role of early feeding in shaping long-term health disparities is critical for developing prevention strategies to stem obesity in early childhood. \n",
      "\n",
      "DATA COLLECTED\n",
      "\n",
      "Diseases:   ['Pediatric Obesity']\n",
      "OR Values:  ['OR = 1.74']\n",
      "------------------------------------------------------\n",
      "\n",
      "ABSTRACT\n",
      "\n",
      "The present study investigated the prevalence of obesity and the associated health conditions of multiethnic Asian female immigrants in Korea. Data were collected from 2246 immigrant wives in 7 largest ethnic groups in a national health examination program. The mean body mass index was 21.9 ± 3.3 kg/m(2). Prevalence of obesity (body mass index ?25 kg/m(2)) among immigrant women was 15.4%. Age-adjusted prevalence of obesity varied among groups by native country (from 10.4% for Japanese to 36.3% for Thai women). The likelihood of obesity significantly increased with years of residence in Korea (odds ratio [OR] = 1.44 for 5.0-9.9 years; 1.85 for ?10 years), physical inactivity (OR = 1.84), and eating spicy and/or salty food (OR = 1.45). Prevalence of chronic health conditions also differed by country of origin. Significant associations were observed between obesity and elevated blood pressure (OR = 1.87), obesity and elevated cholesterol level (OR = 2.83), and obesity and prediabetes/diabetes (OR = 2.44) after adjusting for age, country of origin, and years of residence in Korea. \n",
      "\n",
      "DATA COLLECTED\n",
      "\n",
      "Diseases:   ['Cardiovascular Diseases', 'Diabetes Mellitus', 'Hypercholesterolemia', 'Hypertension']\n",
      "OR Values:  ['[OR] = 1.44', '(OR = 1.84', '(OR = 1.45', '(OR = 1.87', '(OR = 2.83', '(OR = 2.44']\n",
      "------------------------------------------------------\n",
      "\n",
      "ABSTRACT\n",
      "\n",
      "Obesity is an increasing problem in the USA, and research into the association between obesity and pneumonia has yielded conflicting results. Using Department of Veterans Affairs administrative data from fiscal years 2002-2006, we examined a cohort of patients hospitalised with a discharge diagnosis of pneumonia. Body mass index was categorised as underweight (<18.5 kg · m(-2)), normal (18.5-24.9 kg · m(-2), reference group), overweight (25-29.9 kg · m(-2)), obese (30-39.9 kg · m(-2)) and morbidly obese (? 40 kg · m(-2)). Our primary analyses were multi level regression models with the outcomes of 90-day mortality, intensive care unit (ICU) admission, need for mechanical ventilation and vasopressor utilisation. The cohort comprised 18 746 subjects: 3% were underweight, 30% were normal, 36% were overweight, 27% were obese and 4% were morbidly obese. In the regression models, after adjusting for potential confounders, morbid obesity was not associated with mortality (OR 0.96, 95% CI 0.72-1.28), but obesity was associated with decreased mortality (OR 0.86, 95% CI 0.74-0.99). Neither obesity nor morbid obesity was associated with ICU admission, use of mechanical ventilation or vasopressor utilisation. Underweight patients had increased 90-day mortality (OR 1.40, 95% CI 1.14-1.73). Although obesity is a growing health epidemic, it appears to have little impact on clinical outcomes and may reduce mortality for veterans hospitalised with pneumonia. \n",
      "\n",
      "DATA COLLECTED\n",
      "\n",
      "Diseases:   ['Pneumonia']\n",
      "OR Values:  ['(OR 0.96', '(OR 0.86', '(OR 1.40']\n",
      "------------------------------------------------------\n",
      "\n"
     ]
    }
   ],
   "source": [
    "i_vals = [0,5,6]\n",
    "\n",
    "for record in pubmed_records:\n",
    "    for val in i_vals:\n",
    "        if record['ID'] == study_results[val][0]:\n",
    "            print('ABSTRACT\\n')\n",
    "            print(record['ABSTRACT'], \"\\n\")\n",
    "            print('DATA COLLECTED\\n')\n",
    "            print('Diseases:  ', study_results[val][1])\n",
    "            print('OR Values: ', study_results[val][2])\n",
    "            print('------------------------------------------------------\\n')\n",
    "    "
   ]
  },
  {
   "cell_type": "markdown",
   "metadata": {},
   "source": [
    "## Refining the Results\n",
    "\n",
    "As you can see from the search results above, our data is still pretty messy. First, we only found a relatively small number of papers that reported odds ratios in a way that allows us to retrieve them. We almost certainly left data behind! However, earlier, more inclusive searches returned a lot of junk that wasn't related to odds ratios. Another problem is that many of the papers contain multiple disease terms and multiple odds ratios. It will be impossible for me to process the text (in this time window) in such a way that I can assign OR values to different diseases. So, for now, I have to discard all such records. \n",
    "\n",
    "That leaves only records that have one disease term. However, even in a single paper with a single disease term, there can be multple odds ratios published (see above). How do we know what each term is referring to? How do we even know that *any* of the terms refer to P(Disease|Obesity) / P(Disease|NotObesity)? We **don't**!\n",
    "\n",
    "Regardless, if we have OR values from multiple papers, we might be able to make *some* inferences. We'll discuss this further in a bit."
   ]
  },
  {
   "cell_type": "code",
   "execution_count": 131,
   "metadata": {
    "collapsed": false
   },
   "outputs": [
    {
     "name": "stdout",
     "output_type": "stream",
     "text": [
      "Total number of diseases with OR values: 24\n",
      "\n",
      "Coronary Disease :  [1.87]\n",
      "Diabetes Mellitus, Type 2 :  [1.08, 0.99]\n",
      "Asthma :  [1.96, 1.84, 1.46, 1.93, 0.75, 1.02, 0.94, 5.8]\n",
      "Osteoarthritis :  [8.1, 5.9, 0.7, 1.1]\n",
      "Diabetic Retinopathy :  [2.02, 1.48, 0.66, 0.72]\n",
      "Cataract :  [1.31, 1.6, 1.33, 1.3]\n",
      "Myocardial Infarction :  [0.81, 0.56]\n",
      "Bone Diseases, Developmental :  [1.27]\n",
      "Hyperinsulinism :  [5.7, 7.0, 1.7]\n",
      "Coronary Artery Disease :  [2.4, 2.5, 6.0, 2.6, 3.8, 7.8, 6.5]\n",
      "Hypertension :  [2.45, 6.72, 6.76, 1.64, 0.61, 1.5, 1.53, 0.74, 0.66, 3.49, 3.55]\n",
      "Migraine Disorders :  [2.1]\n",
      "Pregnancy Complications :  [3.1, 4.1, 2.2, 24.7, 2.1, 8.1, 3.4, 2.2, 2.14, 2.29, 3.33, 1.1, 1.2, 25.0, 3.0, 1.0, 1.3, 0.8, 1.3, 1.4]\n",
      "Lymphedema :  [2.93]\n",
      "Metabolic Syndrome X :  [6.97, 6.74, 21.64, 1.033, 1.143, 6.189, 0.48, 0.28, 0.52, 0.34, 1.66, 1.42, 1.6, 38.354, 1.043, 0.696, 0.61, 1.53, 0.68, 0.69, 0.43]\n",
      "Gastrointestinal Diseases :  [2.65, 1.89, 1.45, 1.74, 1.76, 1.33, 1.32]\n",
      "Diabetes Mellitus :  [2.91, 1.84, 1.51, 3.88, 4.79, 2.98]\n",
      "Cardiovascular Diseases :  [4.38, 1.64, 1.66, 3.42, 3.36, 2.95, 1.64, 1.76, 1.46]\n",
      "Diabetes Mellitus, Type 1 :  [1.17, 0.82]\n",
      "Pneumonia :  [0.96, 0.86, 1.4]\n",
      "Chronic Disease :  [0.63]\n",
      "Pediatric Obesity :  [1.74, 1.47, 1.339]\n",
      "Child Nutrition Disorders :  [1.767, 0.785]\n",
      "Hyperandrogenism :  [0.82, 0.9, 1.7, 0.89, 0.91]\n"
     ]
    }
   ],
   "source": [
    "single_study_results = {}\n",
    "\n",
    "for study in study_results:\n",
    "    values = []\n",
    "    if len(study[1]) == 1:\n",
    "        for odds_ratio in study[2]:\n",
    "            odds_value = re.findall(r'(?:\\d*\\.)?\\d+', odds_ratio)\n",
    "            values += odds_value\n",
    "        values_float = [float(x) for x in values]\n",
    "        if study[1][0] in single_study_results:\n",
    "            single_study_results[study[1][0]] += values_float\n",
    "        else:\n",
    "            single_study_results[study[1][0]] = values_float\n",
    "            \n",
    "print(\"Total number of diseases with OR values: {0}\\n\".format(len(single_study_results)))\n",
    "for disease in single_study_results:\n",
    "    print(disease, \": \", single_study_results[disease])"
   ]
  },
  {
   "cell_type": "markdown",
   "metadata": {},
   "source": [
    "## Plotting the Data\n",
    "\n",
    "Caution! The plot below is merely showing the odds ratios taken from papers where only one disease term is present in the MeSH keywords. The odds ratios have no context, and many (most?) do NOT refer to the desired odds ratio: P(Disease|Obesity) / P(Disease|NotObesity).\n",
    "\n",
    "**DO NOT USE THIS FIGURE TO MAKE ANY SIGNIFICANT CONCLUSIONS**"
   ]
  },
  {
   "cell_type": "code",
   "execution_count": 162,
   "metadata": {
    "collapsed": false
   },
   "outputs": [
    {
     "data": {
      "image/png": "[encoded data removed]",
      "text/plain": [
       "<matplotlib.figure.Figure at 0x22b61502668>"
      ]
     },
     "metadata": {},
     "output_type": "display_data"
    }
   ],
   "source": [
    "summary_diseases = {}\n",
    "for study in single_study_results:\n",
    "    summary_diseases[study] = np.median(single_study_results[study])\n",
    "\n",
    "sorted_diseases = sorted(summary_diseases, key=summary_diseases.__getitem__, reverse=True)\n",
    "data_sorted = []\n",
    "labels_sorted = []\n",
    "for i in range(0,len(summary_diseases)):\n",
    "    data_sorted.append(single_study_results[sorted_diseases[i]])\n",
    "    labels_sorted.append(sorted_diseases[i])\n",
    "\n",
    "fig = plt.figure(figsize=(10,7))\n",
    "ax = fig.add_subplot(1,1,1)\n",
    "ax.boxplot(data_sorted)\n",
    "ax.plot([0,len(summary_diseases)+1],[1,1],color=\"black\")\n",
    "ax.set_yscale('log')\n",
    "ax.set_xticklabels(labels_sorted, rotation=90)\n",
    "ax.set_xlabel(\"Disease or Syndrome\")\n",
    "ax.set_ylabel(\"Unspecified Odds Ratios from PubMed Abstracts\")\n",
    "ax.set_title(\"Diseases Ranked By Median Odds Ratios, PubMed Papers with 1 Disease Term + Obesity [2000-2012]\", y = 1.05)\n",
    "plt.text(1, 50, 'UNRELIABLE', fontsize=36, color=\"red\", weight=\"bold\")\n",
    "plt.show()"
   ]
  },
  {
   "cell_type": "markdown",
   "metadata": {},
   "source": [
    "## Discussion\n",
    "\n",
    "Content goes here..."
   ]
  },
  {
   "cell_type": "markdown",
   "metadata": {},
   "source": [
    "# CONCLUSIONS\n",
    "\n",
    "Content goes here..."
   ]
  }
 ],
 "metadata": {
  "anaconda-cloud": {},
  "kernelspec": {
   "display_name": "Python [Root]",
   "language": "python",
   "name": "Python [Root]"
  },
  "language_info": {
   "codemirror_mode": {
    "name": "ipython",
    "version": 3
   },
   "file_extension": ".py",
   "mimetype": "text/x-python",
   "name": "python",
   "nbconvert_exporter": "python",
   "pygments_lexer": "ipython3",
   "version": "3.5.2"
  }
 },
 "nbformat": 4,
 "nbformat_minor": 0
}
