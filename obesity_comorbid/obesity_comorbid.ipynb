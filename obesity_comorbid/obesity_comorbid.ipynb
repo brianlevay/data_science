{
 "cells": [
  {
   "cell_type": "markdown",
   "metadata": {},
   "source": [
    "# PROJECT SUMMARY: WHICH DISEASES ARE COMORBID WITH OBESITY?\n",
    "\n",
    "## Overview\n",
    "\n",
    "This project was given to me as a data science exercise. The \"who gave it to me\" and \"why\" parts don't matter here, only the \"what did they want\" and the \"how did they want me to do it\". The goal of the project is to determine which diseases or syndromes are *comorbid* with obesity. In other words, the goal is to determine which diseases occur at higher rates in obese populations relative to non-obese populations. All of the data must come from PubMed/MEDLINE databases that are part of the National Center for Biotechnology Information (NCBI).\n",
    "\n",
    "## Methods\n",
    "\n",
    "Some of the methods for this project are required, and others are left for me to decide. The initial, expected workflow is as follows:\n",
    "\n",
    "1. Retrieve the records for all papers published between 2000 and 2012 that have the term 'Obesity' as a major topic (note: 'Obesity' and 'Obesity, Morbid' are two different descriptors, but records containing either as major topics are returned using 'Obesity')\n",
    "2. Using the list of all possible medical descriptors (MeSH terms), create a smaller list of terms that only refer to diseases or syndromes\n",
    "3. Identify which papers talk about each disease in the new list, and extract any relevant data (number of references, odds ratio values, etc.)\n",
    "4. Try to answer the question, if possible: which diseases are comorbid with obesity?\n",
    "\n",
    "Documentation for the Entrez APIs (to access the PubMed data) can be found here:\n",
    "[Entrez Documentation](https://www.ncbi.nlm.nih.gov/books/NBK25501/)\n",
    "\n",
    "## Desired Output\n",
    "\n",
    "The ultimate goal of the project is to determine which diseases have a higher incidence rates in obese populations relative to non-obese populations (odds ratios > 1). The goal is *NOT* to determine which diseases are more severe in obese populations. You can see an illustration of the desired output in the next section.\n",
    "\n",
    "It's important to note that this is a **Descriptive** study, and not a **Predictive** or **Prescriptive** study. The goal here is to understand what the existing data says, not to build machine learning models or decision trees (proper ones, for actually making decisions).\n",
    "\n",
    "## Data Limitation\n",
    "\n",
    "One of the key assumptions that will be carried through the rest of this project is that odds ratios, statistical significances, etc. are *NOT* stored in the publication record metadata. The only place that data can be retrieved (using the approach requested) is via the abstracts. If I'm wrong, and the metadata *DOES* store that information, this project is a whole lot easier!"
   ]
  },
  {
   "cell_type": "markdown",
   "metadata": {},
   "source": [
    "# SECTION 0: EXAMPLE OF WHAT WE WANT\n",
    "\n",
    "This section below generates a synthetic dataset using Monte Carlo techniques to highlight the type of visual (and statistical) product that we want. This is just meant to be a guide so that visually-inclined readers can see the \"single figure summary\" that we're after."
   ]
  },
  {
   "cell_type": "markdown",
   "metadata": {},
   "source": [
    "## Setting Up the Environment\n",
    "\n",
    "This section imports the main math and plotting libraries that we'll use throughout the project"
   ]
  },
  {
   "cell_type": "code",
   "execution_count": 35,
   "metadata": {
    "collapsed": true
   },
   "outputs": [],
   "source": [
    "import math\n",
    "import numpy as np\n",
    "import matplotlib.pyplot as plt\n",
    "%matplotlib inline"
   ]
  },
  {
   "cell_type": "markdown",
   "metadata": {},
   "source": [
    "## Defining the Function\n",
    "\n",
    "This section creates the function that generates a synthetic dataset for our example plot"
   ]
  },
  {
   "cell_type": "code",
   "execution_count": 36,
   "metadata": {
    "collapsed": false
   },
   "outputs": [],
   "source": [
    "def create_synthetic_OR_plot():\n",
    "    X_locations = [x for x in range(0,10)]\n",
    "    X_labels = [chr(x+65) for x in range(0,10)]\n",
    "\n",
    "    data = []\n",
    "    means = {}\n",
    "\n",
    "    for location in X_locations:\n",
    "        p_disease_not_obesity = np.random.random_sample() * (0.5) + 0.02\n",
    "        p_disease_obesity = np.random.random_sample() * (0.5) + 0.12\n",
    "        papers = int(np.random.random_sample() * (100-5) + 1)\n",
    "        disease_results = []\n",
    "        for i in range(0,papers):\n",
    "            observations = int(np.random.random_sample() * (1000 - 100) + 100)\n",
    "            bias_disease_not_obesity = np.random.random_sample() * (0.2) - 0.1\n",
    "            bias_disease_obesity = np.random.random_sample() * (0.2) - 0.1\n",
    "            p_eff_disease_not_obesity = p_disease_not_obesity + bias_disease_not_obesity\n",
    "            p_eff_disease_obesity = p_disease_obesity + bias_disease_obesity\n",
    "            p_eff_disease_not_obesity = max(0.01,min(p_eff_disease_not_obesity,0.99))\n",
    "            p_eff_disease_obesity = max(0.01,min(p_eff_disease_obesity,0.99))\n",
    "            samples_disease_not_obesity = np.random.binomial(1, p_eff_disease_not_obesity, observations)\n",
    "            samples_disease_obesity = np.random.binomial(1, p_eff_disease_obesity, observations)\n",
    "            fraction_disease_not_obesity = sum(samples_disease_not_obesity) / observations\n",
    "            fraction_disease_obesity = sum(samples_disease_obesity) / observations\n",
    "            if fraction_disease_not_obesity != 0:\n",
    "                odds_ratio = fraction_disease_obesity / fraction_disease_not_obesity\n",
    "                disease_results.append(odds_ratio)\n",
    "        data.append(disease_results)\n",
    "        means[location] = np.mean(disease_results)\n",
    "\n",
    "    sorted_locs = sorted(means, key=means.__getitem__, reverse=True)\n",
    "    data_sorted = []\n",
    "    labels_sorted = []\n",
    "    for i in range(0,len(X_locations)):\n",
    "        data_sorted.append(data[sorted_locs[i]])\n",
    "        labels_sorted.append(X_labels[sorted_locs[i]])\n",
    "\n",
    "    fig = plt.figure(figsize=(10,7))\n",
    "    ax = fig.add_subplot(1,1,1)\n",
    "    ax.boxplot(data_sorted)\n",
    "    ax.plot([0,11],[1,1],color=\"black\")\n",
    "    ax.set_yscale('log')\n",
    "    ax.set_xticklabels(labels_sorted)\n",
    "    ax.set_xlabel(\"Disease or Syndrome\")\n",
    "    ax.set_ylabel(\"P(Disease|Obesity) / P(Disease|NotObesity)\")\n",
    "    ax.set_title(\"Synthetic Data Showing Diseases Ranked By Mean Odds Ratios\")\n",
    "    plt.show()"
   ]
  },
  {
   "cell_type": "markdown",
   "metadata": {},
   "source": [
    "## Running the Function to Generate an Example Plot\n",
    "\n",
    "Re-run this section below to see how the randomness in the function can create a range of variances!"
   ]
  },
  {
   "cell_type": "code",
   "execution_count": 37,
   "metadata": {
    "collapsed": false
   },
   "outputs": [
    {
     "data": {
      "image/png": "[encoded data removed]",
      "text/plain": [
       "<matplotlib.figure.Figure at 0x2bc914f3898>"
      ]
     },
     "metadata": {},
     "output_type": "display_data"
    }
   ],
   "source": [
    "create_synthetic_OR_plot()"
   ]
  },
  {
   "cell_type": "markdown",
   "metadata": {},
   "source": [
    "# SECTION 1: GETTING THE API DATA\n",
    "\n",
    "This section is a one-time-use block of code meant to download the relevant data from the Entrez PubMed database and write it to a file. All future references to the data will come from the file itself, to save network bandwidth.\n",
    "\n",
    "**Storage Format for Each Publication:**\n",
    "\n",
    "PUBMED_ID  \n",
    "Number  \n",
    "ABSTRACT  \n",
    "Abstract text  \n",
    "MESH  \n",
    "List of MeSH terms"
   ]
  },
  {
   "cell_type": "markdown",
   "metadata": {},
   "source": [
    "## Setting Up the Environment\n",
    "\n",
    "This section imports the necessary modules to implement the API calls. The main package used for this section is the Entrez submodule from Biopython."
   ]
  },
  {
   "cell_type": "code",
   "execution_count": 38,
   "metadata": {
    "collapsed": false
   },
   "outputs": [],
   "source": [
    "import time\n",
    "from Bio import Entrez\n",
    "Entrez.email = \"brianjlevay@gmail.com\""
   ]
  },
  {
   "cell_type": "markdown",
   "metadata": {},
   "source": [
    "## Defining the Function\n",
    "\n",
    "This section defines a generic function for getting PubMed records and writing the relevant data to a file. The function accepts search terms and a filename as arguments. The flow is as follows:\n",
    "\n",
    "1. Open a file for writing\n",
    "2. Perform an initial pubmed search (eSearch), and store the results on the server (usehistory)\n",
    "3. Iteratively perform API calls (eFetch) to get the results, 10000 at a time\n",
    "4. Write the relevant parts of each result (number, abstract, and mesh terms) to a file\n",
    "5. Close the file"
   ]
  },
  {
   "cell_type": "code",
   "execution_count": 39,
   "metadata": {
    "collapsed": false
   },
   "outputs": [],
   "source": [
    "def get_api_data(terms, filename):\n",
    "    f = open(filename + '.txt', 'w')\n",
    "    \n",
    "    handle = Entrez.esearch(db='pubmed', term=terms, usehistory='y')\n",
    "    search = Entrez.read(handle)\n",
    "    handle.close()\n",
    "\n",
    "    count = int(search['Count'])\n",
    "    query = search['QueryKey']\n",
    "    web = search['WebEnv']\n",
    "    print(\"{} records found through eSearch.\".format(count))\n",
    "    \n",
    "    max_ret = 10000\n",
    "    steps_tot = math.ceil(count / max_ret)\n",
    "    steps = [x*max_ret for x in range(0,steps_tot)]\n",
    "    total_records = 0\n",
    "    \n",
    "    for step in steps:\n",
    "        time.sleep(30)\n",
    "        handle = Entrez.efetch(db='pubmed', query_key=query, WebEnv=web, retmode='xml', retstart=step, retmax=max_ret)\n",
    "        fetch = Entrez.read(handle)\n",
    "        handle.close()\n",
    "        print(\"Step {}: API batch returned.\".format(step))\n",
    "    \n",
    "        for entry in fetch:\n",
    "            total_records += 1\n",
    "            f.write('PUBMED_ID\\n')\n",
    "            f.write(entry['PubmedData']['ArticleIdList'][0] + '\\n')\n",
    "            f.write('ABSTRACT\\n')\n",
    "            try:\n",
    "                abstract = entry['MedlineCitation']['Article']['Abstract']['AbstractText'][0]\n",
    "                if abstract == '':\n",
    "                    abstract = 'No abstract available'\n",
    "                try:\n",
    "                    f.write(abstract + '\\n')\n",
    "                except:\n",
    "                    try:\n",
    "                        abstract = abstract.encode('cp1252', 'replace').decode('cp1252')\n",
    "                        f.write(abstract + '\\n')\n",
    "                    except:\n",
    "                        f.write('Abstract could not be printed.\\n')\n",
    "            except:\n",
    "                f.write('No abstract available.\\n')\n",
    "            f.write('MESH\\n')\n",
    "            mesh_str = ''\n",
    "            for mesh in entry['MedlineCitation']['MeshHeadingList']:\n",
    "                mesh_str += mesh['DescriptorName'] + '; '\n",
    "            f.write(mesh_str[0:len(mesh_str)-2] + '\\n')    \n",
    "            f.write('\\n')\n",
    "    \n",
    "    f.close()\n",
    "    print(\"{} records retrieved via eFetch and written to the file.\".format(total_records))"
   ]
  },
  {
   "cell_type": "markdown",
   "metadata": {},
   "source": [
    "## Running the Function to Gather the Data\n",
    "\n",
    "This block of code uses the generalized function defined above to retrieve the data from PubMed. This function only needs to be run once, and afterwards, the data will be stored in a local file."
   ]
  },
  {
   "cell_type": "code",
   "execution_count": 40,
   "metadata": {
    "collapsed": false
   },
   "outputs": [],
   "source": [
    "# Need to specify obesity as the major MeSH descriptor (MajorTopicYN=\"Y\") [majr] vs [majr:noexp]\n",
    "\n",
    "obesity_terms = 'obesity[majr] 2000:2012[pdat]'\n",
    "\n",
    "# Only need to run this function once to get all of the relevant API data\n",
    "\n",
    "# get_api_data(obesity_terms, 'obesity_pubmed')"
   ]
  },
  {
   "cell_type": "markdown",
   "metadata": {
    "collapsed": false
   },
   "source": [
    "# SECTION 2: CATEGORIZING MESH TERMS\n",
    "\n",
    "This section uses the MeSH definitions file (desc2015.xml) to create a list of terms that refer to \"Disease or Syndrome\". The list will then be used to filter the MeSH terms in the publication results.\n",
    "\n",
    "The MeSH descriptors file is large, so it will not be stored along with this code and the intermediate data products. Instead, you can download it from the following ftp site. I did not directly link the file below, because this is one you don't want to accidently start downloading with a careless click!\n",
    "\n",
    "Location for File:  \n",
    "ftp://nlmpubs.nlm.nih.gov/online/mesh/2015/"
   ]
  },
  {
   "cell_type": "markdown",
   "metadata": {},
   "source": [
    "## Setting Up the Environment\n",
    "\n",
    "This section imports BeautifulSoup, which is used for XML parsing."
   ]
  },
  {
   "cell_type": "code",
   "execution_count": 41,
   "metadata": {
    "collapsed": true
   },
   "outputs": [],
   "source": [
    "from bs4 import BeautifulSoup"
   ]
  },
  {
   "cell_type": "markdown",
   "metadata": {},
   "source": [
    "## Defining the XML Parsing Function\n",
    "\n",
    "The source file for the MeSH terms is a large (~300 MB) xml file, and my preferred XML parser (BeautifulSoup) doesn't perform very well under such a load. So, for this exercise, I will initially split the XML file into chunks using basic string techniques, and then I will apply the parser to each fragment. This is slow, but the memory footprint is smaller and it runs without crashing. I know there are better XML libraries, but this is what I've got for now.\n",
    "\n",
    "This function opens the definitions file, extracts only the descriptors that match a SemanticTypeName specified as an argument, and writes those terms to another file. It's important to note that this function only considers semantic types listed under the preferred concept!"
   ]
  },
  {
   "cell_type": "code",
   "execution_count": 42,
   "metadata": {
    "collapsed": false
   },
   "outputs": [],
   "source": [
    "def get_descriptors(semantic_type, filename):\n",
    "    f = open('desc2015.xml', 'r')\n",
    "    xml_contents = f.read()\n",
    "    f.close()\n",
    "\n",
    "    f = open(filename + '.txt', 'w')\n",
    "\n",
    "    header_content = '<?xml version=\"1.0\"?>\\n' + '<!DOCTYPE DescriptorRecordSet SYSTEM \"desc2015.dtd\">\\n' + \\\n",
    "        '<DescriptorRecordSet LanguageCode = \"eng\">\\n' + '<DescriptorRecord DescriptorClass = \"1\">\\n'\n",
    "    xml_contents = xml_contents.replace(header_content, '')\n",
    "    descriptors = xml_contents.split('</DescriptorRecord>\\n<DescriptorRecord DescriptorClass = \"1\">')\n",
    "\n",
    "    for descriptor in descriptors:\n",
    "        descriptor = '<DescriptorRecord DescriptorClass = \"1\">\\n' + descriptor + '</DescriptorRecord>'\n",
    "        desc_soup = BeautifulSoup(descriptor, \"xml\")\n",
    "        name = desc_soup.DescriptorName.String.get_text()\n",
    "        semantic_tags = desc_soup.ConceptList.find('Concept', PreferredConceptYN='Y').find_all('SemanticTypeName')\n",
    "        semantic_types = set()\n",
    "        for tag in semantic_tags:\n",
    "            semantic_types.add(tag.get_text())\n",
    "        if semantic_type in semantic_types: \n",
    "            f.write(name + \"\\n\")\n",
    "    \n",
    "    f.close()"
   ]
  },
  {
   "cell_type": "markdown",
   "metadata": {},
   "source": [
    "## Running the Function to Output the Descriptors\n",
    "\n",
    "This block of code runs the function defined above to generate a file with a list of applicable descriptors. You only need to run this once, and all future data access will come from the newly created file."
   ]
  },
  {
   "cell_type": "code",
   "execution_count": 43,
   "metadata": {
    "collapsed": false
   },
   "outputs": [],
   "source": [
    "# Only need to run this function once to get all of the relevant terms\n",
    "\n",
    "# get_descriptors('Disease or Syndrome', 'mesh_disease_syndrome_terms')"
   ]
  },
  {
   "cell_type": "markdown",
   "metadata": {},
   "source": [
    "# SECTION 3: READING THE DATA FROM THE FILES\n",
    "\n",
    "This section loads the data from the raw PubMed records (previously stored from the API calls) and the disease terms (previously stored from the descriptors list) into their respective data structures for use."
   ]
  },
  {
   "cell_type": "code",
   "execution_count": 44,
   "metadata": {
    "collapsed": false
   },
   "outputs": [
    {
     "name": "stdout",
     "output_type": "stream",
     "text": [
      "2989 terms in the disease list.\n",
      "59515 records in the raw PubMed data.\n",
      "\n",
      "EXAMPLE RECORD\n",
      "\n",
      "ID: 25548090\n",
      "MESH: ['Age Distribution', 'Aged', 'Aged, 80 and over', 'Female', 'Humans', 'Logistic Models', 'Male', 'Metabolic Syndrome X', 'Nutrition Surveys', 'Obesity, Abdominal', 'ROC Curve', 'Republic of Korea', 'Risk Factors', 'Sex Distribution', 'Waist Circumference']\n",
      "ABSTRACT: The aim is to determine the appropriate cutoff values of waist circumference (WC) for an increased risk of the metabolic syndrome in the Korean elderly population. We analyzed the WC cutoff values of four groups divided according to sex and age with a total of 2,224 elderly participants aged 65 years old and above from the Fourth Korean National Health and Nutrition Examination Survey using the receiver operating characteristic curve and multiple logistic regression. The WC cutoff values associated with an increased risk of metabolic syndrome were 89.6 cm for men and 90.5 cm for women for those who were 65 to 74 years old, and 89.9 cm for men and 87.9 cm for women for those who were 75 years old or older. WC cutoff points for estimating metabolic risk are similar in elderly men and women. Age-specific optimal WC cutoff points should be considered especially for elderly women in screening for metabolic syndrome.\n"
     ]
    }
   ],
   "source": [
    "f = open('mesh_disease_syndrome_terms.txt', 'r')\n",
    "disease_terms = f.read()\n",
    "f.close()\n",
    "\n",
    "disease_terms = set(disease_terms.split('\\n'))\n",
    "print(\"{} terms in the disease list.\".format(len(disease_terms)))\n",
    "\n",
    "f = open('obesity_pubmed.txt', 'r')\n",
    "pubmed_raw = f.read()\n",
    "f.close()\n",
    "\n",
    "pubmed_raw = pubmed_raw.split('\\n\\n')\n",
    "pubmed_raw = pubmed_raw[0:len(pubmed_raw)-1]\n",
    "print(\"{} records in the raw PubMed data.\".format(len(pubmed_raw)))\n",
    "\n",
    "pubmed_records = []\n",
    "for record in pubmed_raw:\n",
    "    record_dict = {}\n",
    "    lines = record.split('\\n')\n",
    "    record_dict['ID'] = lines[1]\n",
    "    record_dict['ABSTRACT'] = lines[3]\n",
    "    record_dict['MESH'] = lines[5].split(\"; \")\n",
    "    pubmed_records.append(record_dict)\n",
    "    \n",
    "print(\"\\nEXAMPLE RECORD\\n\")\n",
    "for item in pubmed_records[0]:\n",
    "    print(\"{0}: {1}\".format(item,pubmed_records[0][item]))"
   ]
  },
  {
   "cell_type": "markdown",
   "metadata": {},
   "source": [
    "# SECTION 4: COUNTING PAPERS THAT MENTION DISEASES\n",
    "\n",
    "This section determines the number of papers that mention each disease as a MeSH keyword. It's important to note that the number of papers talking about a disease (in conjunction with obesity) actually tells us nothing about comorbidity, unless we make some strong assumptions. Some possible explanations for why disease A is talked about more than disease B:\n",
    "\n",
    "1. Disease 'A' has a higher odds ratio than disease 'B', so 'A' gets more attention (what we want to know)\n",
    "2. Disease 'A' is much more severe than disease 'B', so 'A' gets more attention\n",
    "3. The comorbidity or severity of disease 'A' is harder to ascertain than disease 'B', and therefore more studies have been conducted to try to reduce the uncertainty\n",
    "4. Disease 'A' may have more treatment options available and/or is considered easier to treat, so 'A' gets more attention\n",
    "5. The research groups that study disease 'A' might just prefer breaking up their studies into smaller papers, or they might just publish more papers in general when compared to groups that focus on disease 'B'\n",
    "\n",
    "There are almost certainly other reasons not outlined above. I'll talk about these issues more, in a bit."
   ]
  },
  {
   "cell_type": "markdown",
   "metadata": {},
   "source": [
    "## Counting the Occurrences\n",
    "\n",
    "This section gets the number of occurrences of each disease term in MeSH keywords. It also gets the number of disease terms per paper. The algorithm works by iterating through the records, and for each record, it iterates through the MeSH term. If a term is found in the \"disease_terms\" list, then that term is incremented by 1 in disease_counts. In addition, each valid disease term in a record is counted, and the total number of valid terms per record is stored in the diseases_per_paper dictionary."
   ]
  },
  {
   "cell_type": "code",
   "execution_count": 45,
   "metadata": {
    "collapsed": false
   },
   "outputs": [
    {
     "name": "stdout",
     "output_type": "stream",
     "text": [
      "Time for algorithm: 0 seconds\n",
      "\n"
     ]
    }
   ],
   "source": [
    "disease_counts = {}\n",
    "diseases_per_paper = {}\n",
    "\n",
    "start_time = time.time()\n",
    "for record in pubmed_records:\n",
    "    term_ct = 0\n",
    "    for term in record['MESH']:\n",
    "        if term in disease_terms:\n",
    "            if term in disease_counts:\n",
    "                disease_counts[term] += 1\n",
    "            else:\n",
    "                disease_counts[term] = 1\n",
    "            term_ct += 1\n",
    "    if term_ct in diseases_per_paper:\n",
    "        diseases_per_paper[term_ct] += 1\n",
    "    else:\n",
    "        diseases_per_paper[term_ct] = 1\n",
    "end_time = time.time()\n",
    "\n",
    "print(\"Time for algorithm: {} seconds\\n\".format(round(end_time - start_time),2))"
   ]
  },
  {
   "cell_type": "markdown",
   "metadata": {},
   "source": [
    "## Looking at the Raw Data\n",
    "\n",
    "This section makes some general observations about the results."
   ]
  },
  {
   "cell_type": "code",
   "execution_count": 101,
   "metadata": {
    "collapsed": false
   },
   "outputs": [
    {
     "data": {
      "text/html": [
       "<div>\n",
       "<table border=\"1\" class=\"dataframe\">\n",
       "  <thead>\n",
       "    <tr style=\"text-align: right;\">\n",
       "      <th></th>\n",
       "      <th>Disease</th>\n",
       "      <th>Cts</th>\n",
       "    </tr>\n",
       "  </thead>\n",
       "  <tbody>\n",
       "    <tr>\n",
       "      <th>908</th>\n",
       "      <td>Diabetes Mellitus, Type 2</td>\n",
       "      <td>4669</td>\n",
       "    </tr>\n",
       "    <tr>\n",
       "      <th>925</th>\n",
       "      <td>Cardiovascular Diseases</td>\n",
       "      <td>2976</td>\n",
       "    </tr>\n",
       "    <tr>\n",
       "      <th>262</th>\n",
       "      <td>Metabolic Syndrome X</td>\n",
       "      <td>2900</td>\n",
       "    </tr>\n",
       "    <tr>\n",
       "      <th>119</th>\n",
       "      <td>Hypertension</td>\n",
       "      <td>2676</td>\n",
       "    </tr>\n",
       "    <tr>\n",
       "      <th>172</th>\n",
       "      <td>Diabetes Mellitus</td>\n",
       "      <td>1995</td>\n",
       "    </tr>\n",
       "    <tr>\n",
       "      <th>824</th>\n",
       "      <td>Fatty Liver</td>\n",
       "      <td>1205</td>\n",
       "    </tr>\n",
       "    <tr>\n",
       "      <th>569</th>\n",
       "      <td>Prader-Willi Syndrome</td>\n",
       "      <td>986</td>\n",
       "    </tr>\n",
       "    <tr>\n",
       "      <th>1026</th>\n",
       "      <td>Pregnancy Complications</td>\n",
       "      <td>914</td>\n",
       "    </tr>\n",
       "    <tr>\n",
       "      <th>408</th>\n",
       "      <td>Chronic Disease</td>\n",
       "      <td>719</td>\n",
       "    </tr>\n",
       "    <tr>\n",
       "      <th>847</th>\n",
       "      <td>Sleep Apnea, Obstructive</td>\n",
       "      <td>635</td>\n",
       "    </tr>\n",
       "    <tr>\n",
       "      <th>613</th>\n",
       "      <td>Glucose Intolerance</td>\n",
       "      <td>587</td>\n",
       "    </tr>\n",
       "    <tr>\n",
       "      <th>730</th>\n",
       "      <td>Hyperlipidemias</td>\n",
       "      <td>563</td>\n",
       "    </tr>\n",
       "    <tr>\n",
       "      <th>604</th>\n",
       "      <td>Diabetes Complications</td>\n",
       "      <td>531</td>\n",
       "    </tr>\n",
       "    <tr>\n",
       "      <th>541</th>\n",
       "      <td>Hyperinsulinism</td>\n",
       "      <td>511</td>\n",
       "    </tr>\n",
       "    <tr>\n",
       "      <th>1073</th>\n",
       "      <td>Polycystic Ovary Syndrome</td>\n",
       "      <td>507</td>\n",
       "    </tr>\n",
       "    <tr>\n",
       "      <th>954</th>\n",
       "      <td>Asthma</td>\n",
       "      <td>475</td>\n",
       "    </tr>\n",
       "    <tr>\n",
       "      <th>759</th>\n",
       "      <td>Dyslipidemias</td>\n",
       "      <td>472</td>\n",
       "    </tr>\n",
       "    <tr>\n",
       "      <th>667</th>\n",
       "      <td>Coronary Disease</td>\n",
       "      <td>422</td>\n",
       "    </tr>\n",
       "    <tr>\n",
       "      <th>507</th>\n",
       "      <td>Hyperglycemia</td>\n",
       "      <td>406</td>\n",
       "    </tr>\n",
       "    <tr>\n",
       "      <th>535</th>\n",
       "      <td>Metabolic Diseases</td>\n",
       "      <td>296</td>\n",
       "    </tr>\n",
       "    <tr>\n",
       "      <th>752</th>\n",
       "      <td>Gastroesophageal Reflux</td>\n",
       "      <td>292</td>\n",
       "    </tr>\n",
       "    <tr>\n",
       "      <th>999</th>\n",
       "      <td>Sleep Apnea Syndromes</td>\n",
       "      <td>278</td>\n",
       "    </tr>\n",
       "    <tr>\n",
       "      <th>647</th>\n",
       "      <td>Coronary Artery Disease</td>\n",
       "      <td>276</td>\n",
       "    </tr>\n",
       "    <tr>\n",
       "      <th>567</th>\n",
       "      <td>Hypercholesterolemia</td>\n",
       "      <td>261</td>\n",
       "    </tr>\n",
       "    <tr>\n",
       "      <th>784</th>\n",
       "      <td>Syndrome</td>\n",
       "      <td>253</td>\n",
       "    </tr>\n",
       "    <tr>\n",
       "      <th>757</th>\n",
       "      <td>Kidney Diseases</td>\n",
       "      <td>248</td>\n",
       "    </tr>\n",
       "    <tr>\n",
       "      <th>113</th>\n",
       "      <td>Malnutrition</td>\n",
       "      <td>240</td>\n",
       "    </tr>\n",
       "    <tr>\n",
       "      <th>691</th>\n",
       "      <td>Diabetes, Gestational</td>\n",
       "      <td>239</td>\n",
       "    </tr>\n",
       "    <tr>\n",
       "      <th>116</th>\n",
       "      <td>Kidney Failure, Chronic</td>\n",
       "      <td>237</td>\n",
       "    </tr>\n",
       "    <tr>\n",
       "      <th>794</th>\n",
       "      <td>Heart Failure</td>\n",
       "      <td>231</td>\n",
       "    </tr>\n",
       "    <tr>\n",
       "      <th>...</th>\n",
       "      <td>...</td>\n",
       "      <td>...</td>\n",
       "    </tr>\n",
       "    <tr>\n",
       "      <th>461</th>\n",
       "      <td>HELLP Syndrome</td>\n",
       "      <td>1</td>\n",
       "    </tr>\n",
       "    <tr>\n",
       "      <th>463</th>\n",
       "      <td>Pyloric Stenosis</td>\n",
       "      <td>1</td>\n",
       "    </tr>\n",
       "    <tr>\n",
       "      <th>793</th>\n",
       "      <td>Whooping Cough</td>\n",
       "      <td>1</td>\n",
       "    </tr>\n",
       "    <tr>\n",
       "      <th>466</th>\n",
       "      <td>Niemann-Pick Diseases</td>\n",
       "      <td>1</td>\n",
       "    </tr>\n",
       "    <tr>\n",
       "      <th>791</th>\n",
       "      <td>Aspergillosis</td>\n",
       "      <td>1</td>\n",
       "    </tr>\n",
       "    <tr>\n",
       "      <th>790</th>\n",
       "      <td>Periprosthetic Fractures</td>\n",
       "      <td>1</td>\n",
       "    </tr>\n",
       "    <tr>\n",
       "      <th>427</th>\n",
       "      <td>Heart Septal Defects</td>\n",
       "      <td>1</td>\n",
       "    </tr>\n",
       "    <tr>\n",
       "      <th>815</th>\n",
       "      <td>Glycogen Storage Disease Type V</td>\n",
       "      <td>1</td>\n",
       "    </tr>\n",
       "    <tr>\n",
       "      <th>816</th>\n",
       "      <td>Malocclusion, Angle Class II</td>\n",
       "      <td>1</td>\n",
       "    </tr>\n",
       "    <tr>\n",
       "      <th>817</th>\n",
       "      <td>Actinomycosis</td>\n",
       "      <td>1</td>\n",
       "    </tr>\n",
       "    <tr>\n",
       "      <th>400</th>\n",
       "      <td>Charcot-Marie-Tooth Disease</td>\n",
       "      <td>1</td>\n",
       "    </tr>\n",
       "    <tr>\n",
       "      <th>840</th>\n",
       "      <td>Mycobacterium avium-intracellulare Infection</td>\n",
       "      <td>1</td>\n",
       "    </tr>\n",
       "    <tr>\n",
       "      <th>837</th>\n",
       "      <td>Hypertrichosis</td>\n",
       "      <td>1</td>\n",
       "    </tr>\n",
       "    <tr>\n",
       "      <th>836</th>\n",
       "      <td>Disorders of Sex Development</td>\n",
       "      <td>1</td>\n",
       "    </tr>\n",
       "    <tr>\n",
       "      <th>404</th>\n",
       "      <td>Tachycardia, Paroxysmal</td>\n",
       "      <td>1</td>\n",
       "    </tr>\n",
       "    <tr>\n",
       "      <th>832</th>\n",
       "      <td>Keratoderma, Palmoplantar</td>\n",
       "      <td>1</td>\n",
       "    </tr>\n",
       "    <tr>\n",
       "      <th>411</th>\n",
       "      <td>Chylothorax</td>\n",
       "      <td>1</td>\n",
       "    </tr>\n",
       "    <tr>\n",
       "      <th>413</th>\n",
       "      <td>Spinal Cord Compression</td>\n",
       "      <td>1</td>\n",
       "    </tr>\n",
       "    <tr>\n",
       "      <th>414</th>\n",
       "      <td>Machado-Joseph Disease</td>\n",
       "      <td>1</td>\n",
       "    </tr>\n",
       "    <tr>\n",
       "      <th>418</th>\n",
       "      <td>Vaginosis, Bacterial</td>\n",
       "      <td>1</td>\n",
       "    </tr>\n",
       "    <tr>\n",
       "      <th>420</th>\n",
       "      <td>Euthyroid Sick Syndromes</td>\n",
       "      <td>1</td>\n",
       "    </tr>\n",
       "    <tr>\n",
       "      <th>825</th>\n",
       "      <td>Neuroleptic Malignant Syndrome</td>\n",
       "      <td>1</td>\n",
       "    </tr>\n",
       "    <tr>\n",
       "      <th>421</th>\n",
       "      <td>Anterior Wall Myocardial Infarction</td>\n",
       "      <td>1</td>\n",
       "    </tr>\n",
       "    <tr>\n",
       "      <th>423</th>\n",
       "      <td>Meningococcal Infections</td>\n",
       "      <td>1</td>\n",
       "    </tr>\n",
       "    <tr>\n",
       "      <th>822</th>\n",
       "      <td>Chondrodysplasia Punctata</td>\n",
       "      <td>1</td>\n",
       "    </tr>\n",
       "    <tr>\n",
       "      <th>424</th>\n",
       "      <td>Glucosephosphate Dehydrogenase Deficiency</td>\n",
       "      <td>1</td>\n",
       "    </tr>\n",
       "    <tr>\n",
       "      <th>820</th>\n",
       "      <td>Glaucoma</td>\n",
       "      <td>1</td>\n",
       "    </tr>\n",
       "    <tr>\n",
       "      <th>425</th>\n",
       "      <td>Toxoplasmosis</td>\n",
       "      <td>1</td>\n",
       "    </tr>\n",
       "    <tr>\n",
       "      <th>818</th>\n",
       "      <td>Peroneal Neuropathies</td>\n",
       "      <td>1</td>\n",
       "    </tr>\n",
       "    <tr>\n",
       "      <th>1088</th>\n",
       "      <td>Root Caries</td>\n",
       "      <td>1</td>\n",
       "    </tr>\n",
       "  </tbody>\n",
       "</table>\n",
       "<p>1089 rows × 2 columns</p>\n",
       "</div>"
      ],
      "text/plain": [
       "                                           Disease   Cts\n",
       "908                      Diabetes Mellitus, Type 2  4669\n",
       "925                        Cardiovascular Diseases  2976\n",
       "262                           Metabolic Syndrome X  2900\n",
       "119                                   Hypertension  2676\n",
       "172                              Diabetes Mellitus  1995\n",
       "824                                    Fatty Liver  1205\n",
       "569                          Prader-Willi Syndrome   986\n",
       "1026                       Pregnancy Complications   914\n",
       "408                                Chronic Disease   719\n",
       "847                       Sleep Apnea, Obstructive   635\n",
       "613                            Glucose Intolerance   587\n",
       "730                                Hyperlipidemias   563\n",
       "604                         Diabetes Complications   531\n",
       "541                                Hyperinsulinism   511\n",
       "1073                     Polycystic Ovary Syndrome   507\n",
       "954                                         Asthma   475\n",
       "759                                  Dyslipidemias   472\n",
       "667                               Coronary Disease   422\n",
       "507                                  Hyperglycemia   406\n",
       "535                             Metabolic Diseases   296\n",
       "752                        Gastroesophageal Reflux   292\n",
       "999                          Sleep Apnea Syndromes   278\n",
       "647                        Coronary Artery Disease   276\n",
       "567                           Hypercholesterolemia   261\n",
       "784                                       Syndrome   253\n",
       "757                                Kidney Diseases   248\n",
       "113                                   Malnutrition   240\n",
       "691                          Diabetes, Gestational   239\n",
       "116                        Kidney Failure, Chronic   237\n",
       "794                                  Heart Failure   231\n",
       "...                                            ...   ...\n",
       "461                                 HELLP Syndrome     1\n",
       "463                               Pyloric Stenosis     1\n",
       "793                                 Whooping Cough     1\n",
       "466                          Niemann-Pick Diseases     1\n",
       "791                                  Aspergillosis     1\n",
       "790                       Periprosthetic Fractures     1\n",
       "427                           Heart Septal Defects     1\n",
       "815                Glycogen Storage Disease Type V     1\n",
       "816                   Malocclusion, Angle Class II     1\n",
       "817                                  Actinomycosis     1\n",
       "400                    Charcot-Marie-Tooth Disease     1\n",
       "840   Mycobacterium avium-intracellulare Infection     1\n",
       "837                                 Hypertrichosis     1\n",
       "836                   Disorders of Sex Development     1\n",
       "404                        Tachycardia, Paroxysmal     1\n",
       "832                      Keratoderma, Palmoplantar     1\n",
       "411                                    Chylothorax     1\n",
       "413                        Spinal Cord Compression     1\n",
       "414                         Machado-Joseph Disease     1\n",
       "418                           Vaginosis, Bacterial     1\n",
       "420                       Euthyroid Sick Syndromes     1\n",
       "825                 Neuroleptic Malignant Syndrome     1\n",
       "421            Anterior Wall Myocardial Infarction     1\n",
       "423                       Meningococcal Infections     1\n",
       "822                      Chondrodysplasia Punctata     1\n",
       "424      Glucosephosphate Dehydrogenase Deficiency     1\n",
       "820                                       Glaucoma     1\n",
       "425                                  Toxoplasmosis     1\n",
       "818                          Peroneal Neuropathies     1\n",
       "1088                                   Root Caries     1\n",
       "\n",
       "[1089 rows x 2 columns]"
      ]
     },
     "execution_count": 101,
     "metadata": {},
     "output_type": "execute_result"
    }
   ],
   "source": [
    "import pandas as pd\n",
    "disease_cts_df = pd.DataFrame.from_dict(disease_counts, orient='index')\n",
    "disease_cts_df.reset_index(inplace=True)\n",
    "disease_cts_df.columns = ['Disease','Cts']\n",
    "disease_cts_df.sort_values('Cts', ascending=False, inplace=True)\n",
    "disease_cts_df"
   ]
  },
  {
   "cell_type": "code",
   "execution_count": 104,
   "metadata": {
    "collapsed": false
   },
   "outputs": [
    {
     "name": "stdout",
     "output_type": "stream",
     "text": [
      "Number of Disease Terms Per Paper\n",
      "{0: 34921, 1: 15459, 2: 5716, 3: 2169, 4: 796, 5: 294, 6: 92, 7: 44, 8: 8, 9: 8, 10: 6, 11: 1, 14: 1} \n",
      "\n",
      "Percentage of Papers With No Disease Terms in MeSH Keywords\n",
      "58.68 %\n",
      "\n",
      "Percentage of Papers With One Disease Term in MeSH Keywords\n",
      "25.97 %\n",
      "\n",
      "Percentage of Papers With Two or More Disease Terms in MeSH Keywords\n",
      "15.35 %\n",
      "\n",
      "Total Number of Unique Disease Terms Found in the MeSH Keywords\n",
      "1089 \n",
      "\n",
      "Number of diseases or syndromes with >   0 mentions: 1089\n",
      "Number of diseases or syndromes with >   1 mentions: 758\n",
      "Number of diseases or syndromes with >   5 mentions: 398\n",
      "Number of diseases or syndromes with >  10 mentions: 267\n",
      "Number of diseases or syndromes with >  20 mentions: 175\n",
      "Number of diseases or syndromes with > 100 mentions: 52\n",
      "Number of diseases or syndromes with > 200 mentions: 33\n",
      "\n",
      "Total number of times disease or syndrome terms were mentioned: 39133\n",
      "Total number of papers with at least one disease or syndrome term: 24594\n"
     ]
    }
   ],
   "source": [
    "pct_zero = 100*diseases_per_paper[0]/len(pubmed_records)\n",
    "pct_one = 100*diseases_per_paper[1]/len(pubmed_records)\n",
    "pct_more = 100 - pct_one - pct_zero\n",
    "\n",
    "more_than_one_df = disease_cts_df.loc[disease_cts_df['Cts'] > 1]\n",
    "more_than_five_df = disease_cts_df.loc[disease_cts_df['Cts'] > 5]\n",
    "more_than_ten_df = disease_cts_df.loc[disease_cts_df['Cts'] > 10]\n",
    "more_than_twenty_df = disease_cts_df.loc[disease_cts_df['Cts'] > 20]\n",
    "more_than_hundred_df = disease_cts_df.loc[disease_cts_df['Cts'] > 100]\n",
    "more_than_twohund_df = disease_cts_df.loc[disease_cts_df['Cts'] > 200]\n",
    "\n",
    "total_mentions = disease_cts_df['Cts'].sum()\n",
    "papers_with_one_or_more = len(pubmed_raw) - diseases_per_paper[0]\n",
    "\n",
    "print(\"Number of Disease Terms Per Paper\")\n",
    "print(diseases_per_paper, \"\\n\")\n",
    "print(\"Percentage of Papers With No Disease Terms in MeSH Keywords\")\n",
    "print(\"{0:.2f} %\\n\".format(pct_zero))\n",
    "print(\"Percentage of Papers With One Disease Term in MeSH Keywords\")\n",
    "print(\"{0:.2f} %\\n\".format(pct_one))\n",
    "print(\"Percentage of Papers With Two or More Disease Terms in MeSH Keywords\")\n",
    "print(\"{0:.2f} %\\n\".format(pct_more))\n",
    "print(\"Total Number of Unique Disease Terms Found in the MeSH Keywords\")\n",
    "print(len(disease_counts),\"\\n\")\n",
    "\n",
    "print(\"Number of diseases or syndromes with >   0 mentions: {}\".format(len(disease_cts_df)))\n",
    "print(\"Number of diseases or syndromes with >   1 mentions: {}\".format(len(more_than_one_df)))\n",
    "print(\"Number of diseases or syndromes with >   5 mentions: {}\".format(len(more_than_five_df)))\n",
    "print(\"Number of diseases or syndromes with >  10 mentions: {}\".format(len(more_than_ten_df)))\n",
    "print(\"Number of diseases or syndromes with >  20 mentions: {}\".format(len(more_than_twenty_df)))\n",
    "print(\"Number of diseases or syndromes with > 100 mentions: {}\".format(len(more_than_hundred_df)))\n",
    "print(\"Number of diseases or syndromes with > 200 mentions: {}\".format(len(more_than_twohund_df)))\n",
    "\n",
    "print(\"\\nTotal number of times disease or syndrome terms were mentioned: {}\".format(total_mentions))\n",
    "print(\"Total number of papers with at least one disease or syndrome term: {}\".format(papers_with_one_or_more))"
   ]
  },
  {
   "cell_type": "markdown",
   "metadata": {},
   "source": [
    "## Plotting the Data"
   ]
  },
  {
   "cell_type": "code",
   "execution_count": 105,
   "metadata": {
    "collapsed": false
   },
   "outputs": [
    {
     "data": {
      "image/png": "[encoded data removed]",
      "text/plain": [
       "<matplotlib.figure.Figure at 0x2bc93964898>"
      ]
     },
     "metadata": {},
     "output_type": "display_data"
    }
   ],
   "source": [
    "max_X = len(more_than_twohund_df)\n",
    "X_vals = [x for x in range(0,max_X)]\n",
    "\n",
    "fig = plt.figure(figsize=(12,7))\n",
    "ax = fig.add_subplot(1,1,1)\n",
    "ax.bar(X_vals,more_than_twohund_df['Cts'],align='center',color='lightblue')\n",
    "ax.set_xticks(X_vals)\n",
    "ax.set_xticklabels(more_than_twohund_df['Disease'], rotation=90)\n",
    "ax.set_xlim([-1,max_X])\n",
    "ax.set_xlabel('Disease or Syndrome')\n",
    "ax.set_ylabel('Number of Occurrences as MeSH Terms')\n",
    "ax.set_title('Number of Times a Disease Was Mentioned in Association with Obesity (2000-2012) [> 200 Mentions, MeSH]')\n",
    "plt.show()"
   ]
  },
  {
   "cell_type": "markdown",
   "metadata": {},
   "source": [
    "## Discussion\n",
    "\n",
    "First, it's worth noting that the majority of the PubMed records that we retrieved (~59 %) don't discuss any diseases or syndromes in association with obesity. Approximately 26 % of the records contain only one associated disease or syndrome keyword, and the rest contain two or more. One record even contains 14 disease keywords in its MeSH terms!\n",
    "\n",
    "Second, it's worth noting that, although there were 1089 different diseases or syndromes mentioned at least once, only 398 were mentioned more than 5 times. You can see if the figure above (only showing terms mentioned > 200 times) that there is a long tail, with a large number of diseases only discussed (alongside obesity) in a relatively small number of papers.\n",
    "\n",
    "So, which diseases are discussed most often alongside obesity? \n",
    "\n",
    "1. Diabetes Mellitus, Type 2\n",
    "2. Cardiovascular Diseases\n",
    "3. Metabolic Syndrome X\n",
    "4. Hypertension\n",
    "5. Diabetes Mellitus\n",
    "6. Fatty Liver\n",
    "7. Prader-Willi Syndrome\n",
    "8. Pregnancy Complications\n",
    "9. Chronic Disease\n",
    "10. Sleep Apnea, Obstructive\n",
    "\n",
    "It's pretty clear that many of the disease / syndrome terms are related in nature. If I had more of a medical background (and understood the diseases better), I'd group similar conditions to better understand the classes of problems being studied.\n",
    "\n",
    "So, what can we make of this data? As discussed at the beginning of this section, more studies (or more papers) do not necessarily mean higher incidence rates in obese populations! More studies simply mean that... more studies were conducted! It could be that the diseases with more attention are more prevalent (what we want), more severe, more treatable, more ambiguous (unclear odds ratios), etc. The only way to truly determine which of these diseases are comorbid (odds ratios > 1) is to extract the data from the records themselves."
   ]
  },
  {
   "cell_type": "markdown",
   "metadata": {},
   "source": [
    "# SECTION 5: CAN WE EXTRACT ODDS RATIOS FROM ABSTRACTS?\n",
    "\n",
    "Content goes here..."
   ]
  },
  {
   "cell_type": "code",
   "execution_count": 88,
   "metadata": {
    "collapsed": false
   },
   "outputs": [
    {
     "name": "stdout",
     "output_type": "stream",
     "text": [
      "Coming soon!\n"
     ]
    }
   ],
   "source": [
    "print(\"Coming soon!\")"
   ]
  },
  {
   "cell_type": "markdown",
   "metadata": {},
   "source": [
    "# SECTION 6: CAN WE LINK NUMBER OF CITATIONS TO COMORBIDITY?\n",
    "\n",
    "Content goes here..."
   ]
  },
  {
   "cell_type": "code",
   "execution_count": 90,
   "metadata": {
    "collapsed": false
   },
   "outputs": [
    {
     "name": "stdout",
     "output_type": "stream",
     "text": [
      "Coming soon!\n"
     ]
    }
   ],
   "source": [
    "print(\"Coming soon!\")"
   ]
  },
  {
   "cell_type": "markdown",
   "metadata": {},
   "source": [
    "# CONCLUSIONS\n",
    "\n",
    "Content goes here..."
   ]
  },
  {
   "cell_type": "code",
   "execution_count": null,
   "metadata": {
    "collapsed": true
   },
   "outputs": [],
   "source": []
  }
 ],
 "metadata": {
  "anaconda-cloud": {},
  "kernelspec": {
   "display_name": "Python [Root]",
   "language": "python",
   "name": "Python [Root]"
  },
  "language_info": {
   "codemirror_mode": {
    "name": "ipython",
    "version": 3
   },
   "file_extension": ".py",
   "mimetype": "text/x-python",
   "name": "python",
   "nbconvert_exporter": "python",
   "pygments_lexer": "ipython3",
   "version": "3.5.2"
  }
 },
 "nbformat": 4,
 "nbformat_minor": 0
}
