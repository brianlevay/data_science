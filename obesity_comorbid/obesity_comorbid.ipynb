{
 "cells": [
  {
   "cell_type": "markdown",
   "metadata": {},
   "source": [
    "# PROJECT SUMMARY: WHICH DISEASES ARE COMORBID WITH OBESITY?\n",
    "\n",
    "## Overview\n",
    "\n",
    "This project was given to me as a data science exercise. The \"who gave it to me\" and \"why\" parts don't matter here, only the \"what did they want\" and the \"how did they want me to do it\". The goal of the project is to determine which diseases or syndromes are *comorbid* with obesity. In other words, the goal is to determine which diseases occur at higher rates in obese populations relative to non-obese populations. All of the data must come from PubMed/MEDLINE databases that are part of the National Center for Biotechnology Information (NCBI).\n",
    "\n",
    "## Methods\n",
    "\n",
    "Some of the methods for this project are required, and others are left for me to decide. The initial, expected workflow is as follows:\n",
    "\n",
    "1. Retrieve the records for all papers published between 2000 and 2012 that have the term 'Obesity' as a major topic (note: 'Obesity' and 'Obesity, Morbid' are two different descriptors, but records containing either as major topics are returned using 'Obesity')\n",
    "2. Using the list of all possible medical descriptors (MeSH terms), create a smaller list of terms that only refer to diseases or syndromes\n",
    "3. Identify which papers talk about each disease in the new list, and extract any relevant data (number of references, odds ratio values, etc.)\n",
    "4. Try to answer the question, if possible: which diseases are comorbid with obesity?\n",
    "\n",
    "Documentation for the Entrez APIs (to access the PubMed data) can be found here:\n",
    "[Entrez Documentation](https://www.ncbi.nlm.nih.gov/books/NBK25501/)\n",
    "\n",
    "## Desired Output\n",
    "\n",
    "The ultimate goal of the project is to determine which diseases have a higher incidence rates in obese populations relative to non-obese populations (odds ratios > 1). The goal is *NOT* to determine which diseases are more severe in obese populations. You can see an illustration of the desired output in the next section.\n",
    "\n",
    "It's important to note that this is a **Descriptive** study, and not a **Predictive** or **Prescriptive** study. The goal here is to understand what the existing data says, not to build machine learning models or decision trees (proper ones, for actually making decisions).\n",
    "\n",
    "## Data Limitation\n",
    "\n",
    "One of the key assumptions that will be carried through the rest of this project is that odds ratios, statistical significances, etc. are *NOT* stored in the publication record metadata. The only place that data can be retrieved (using the approach requested) is via the abstracts. If I'm wrong, and the metadata *DOES* store that information, this project is a whole lot easier!"
   ]
  },
  {
   "cell_type": "markdown",
   "metadata": {},
   "source": [
    "# SECTION 0: EXAMPLE OF WHAT WE WANT\n",
    "\n",
    "This section below generates a synthetic dataset using Monte Carlo techniques to highlight the type of visual (and statistical) product that we want. This is just meant to be a guide so that visually-inclined readers can see the \"single figure summary\" that we're after."
   ]
  },
  {
   "cell_type": "markdown",
   "metadata": {},
   "source": [
    "## Setting Up the Environment\n",
    "\n",
    "This section imports the main math and plotting libraries that we'll use throughout the project"
   ]
  },
  {
   "cell_type": "code",
   "execution_count": 138,
   "metadata": {
    "collapsed": true
   },
   "outputs": [],
   "source": [
    "import math\n",
    "import numpy as np\n",
    "import matplotlib.pyplot as plt\n",
    "%matplotlib inline"
   ]
  },
  {
   "cell_type": "markdown",
   "metadata": {},
   "source": [
    "## Defining the Function\n",
    "\n",
    "This section creates the function that generates a synthetic dataset for our example plot"
   ]
  },
  {
   "cell_type": "code",
   "execution_count": 117,
   "metadata": {
    "collapsed": false
   },
   "outputs": [],
   "source": [
    "def create_synthetic_OR_plot():\n",
    "    X_locations = [x for x in range(0,10)]\n",
    "    X_labels = [chr(x+65) for x in range(0,10)]\n",
    "\n",
    "    data = []\n",
    "    means = {}\n",
    "\n",
    "    for location in X_locations:\n",
    "        p_disease_not_obesity = np.random.random_sample() * (0.5) + 0.02\n",
    "        p_disease_obesity = np.random.random_sample() * (0.5) + 0.12\n",
    "        papers = int(np.random.random_sample() * (100-5) + 1)\n",
    "        disease_results = []\n",
    "        for i in range(0,papers):\n",
    "            observations = int(np.random.random_sample() * (1000 - 100) + 100)\n",
    "            bias_disease_not_obesity = np.random.random_sample() * (0.2) - 0.1\n",
    "            bias_disease_obesity = np.random.random_sample() * (0.2) - 0.1\n",
    "            p_eff_disease_not_obesity = p_disease_not_obesity + bias_disease_not_obesity\n",
    "            p_eff_disease_obesity = p_disease_obesity + bias_disease_obesity\n",
    "            p_eff_disease_not_obesity = max(0.01,min(p_eff_disease_not_obesity,0.99))\n",
    "            p_eff_disease_obesity = max(0.01,min(p_eff_disease_obesity,0.99))\n",
    "            samples_disease_not_obesity = np.random.binomial(1, p_eff_disease_not_obesity, observations)\n",
    "            samples_disease_obesity = np.random.binomial(1, p_eff_disease_obesity, observations)\n",
    "            fraction_disease_not_obesity = sum(samples_disease_not_obesity) / observations\n",
    "            fraction_disease_obesity = sum(samples_disease_obesity) / observations\n",
    "            if fraction_disease_not_obesity != 0:\n",
    "                odds_ratio = fraction_disease_obesity / fraction_disease_not_obesity\n",
    "                disease_results.append(odds_ratio)\n",
    "        data.append(disease_results)\n",
    "        means[location] = np.mean(disease_results)\n",
    "\n",
    "    sorted_locs = sorted(means, key=means.__getitem__, reverse=True)\n",
    "    data_sorted = []\n",
    "    labels_sorted = []\n",
    "    for i in range(0,len(X_locations)):\n",
    "        data_sorted.append(data[sorted_locs[i]])\n",
    "        labels_sorted.append(X_labels[sorted_locs[i]])\n",
    "\n",
    "    fig = plt.figure(figsize=(10,7))\n",
    "    ax = fig.add_subplot(1,1,1)\n",
    "    ax.boxplot(data_sorted)\n",
    "    ax.plot([0,11],[1,1],color=\"black\")\n",
    "    ax.set_yscale('log')\n",
    "    ax.set_xticklabels(labels_sorted)\n",
    "    ax.set_xlabel(\"Disease or Syndrome\")\n",
    "    ax.set_ylabel(\"P(Disease|Obesity) / P(Disease|NotObesity)\")\n",
    "    ax.set_title(\"Synthetic Data Showing Diseases Ranked By Mean Odds Ratios\")\n",
    "    plt.show()"
   ]
  },
  {
   "cell_type": "markdown",
   "metadata": {},
   "source": [
    "## Running the Function to Generate an Example Plot\n",
    "\n",
    "Re-run this section below to see how the randomness in the function can create a range of variances!"
   ]
  },
  {
   "cell_type": "code",
   "execution_count": 118,
   "metadata": {
    "collapsed": false
   },
   "outputs": [
    {
     "data": {
      "image/png": "[encoded data removed]",
      "text/plain": [
       "<matplotlib.figure.Figure at 0x2bc93adfd30>"
      ]
     },
     "metadata": {},
     "output_type": "display_data"
    }
   ],
   "source": [
    "create_synthetic_OR_plot()"
   ]
  },
  {
   "cell_type": "markdown",
   "metadata": {},
   "source": [
    "# SECTION 1: GETTING THE API DATA\n",
    "\n",
    "This section is a one-time-use block of code meant to download the relevant data from the Entrez PubMed database and write it to a file. All future references to the data will come from the file itself, to save network bandwidth. This step is critical, though. If the wrong search terms are used, or the incorrect data is extracted and stored, the entire rest of the analysis can be compromised! The search terms used will be discussed below.\n",
    "\n",
    "**Storage Format for Each Publication:**\n",
    "\n",
    "PUBMED_ID  \n",
    "Number  \n",
    "ABSTRACT  \n",
    "Abstract text  \n",
    "MESH  \n",
    "List of MeSH terms"
   ]
  },
  {
   "cell_type": "markdown",
   "metadata": {},
   "source": [
    "## Setting Up the Environment\n",
    "\n",
    "This section imports the necessary modules to implement the API calls. The main package used for this section is the Entrez submodule from Biopython."
   ]
  },
  {
   "cell_type": "code",
   "execution_count": 119,
   "metadata": {
    "collapsed": false
   },
   "outputs": [],
   "source": [
    "import time\n",
    "from Bio import Entrez\n",
    "Entrez.email = \"brianjlevay@gmail.com\""
   ]
  },
  {
   "cell_type": "markdown",
   "metadata": {},
   "source": [
    "## Defining the Function\n",
    "\n",
    "This section defines a generic function for getting PubMed records and writing the relevant data to a file. The function accepts search terms, a filename, and a keyword to determine whether to fetch the results. An initial PubMed search is performed (eSearch), and the results are stored on the server by using the 'usehistory' keyword. The search key and web environment terms are returned, and if the user opts to fetch the results, the records are downloaded in batches, 10000 at a time (using eFetch). The records are stripped down and the relevant information is stored in a local file for later access."
   ]
  },
  {
   "cell_type": "code",
   "execution_count": 139,
   "metadata": {
    "collapsed": false
   },
   "outputs": [],
   "source": [
    "def get_api_data(terms, filename, want_fetch=False):\n",
    "    handle = Entrez.esearch(db='pubmed', term=terms, usehistory='y')\n",
    "    search = Entrez.read(handle)\n",
    "    handle.close()\n",
    "\n",
    "    count = int(search['Count'])\n",
    "    query = search['QueryKey']\n",
    "    web = search['WebEnv']\n",
    "    print(\"{} records found through eSearch.\".format(count))\n",
    "    \n",
    "    if want_fetch == True:\n",
    "        f = open(filename + '.txt', 'w')\n",
    "        \n",
    "        max_ret = 10000\n",
    "        steps_tot = math.ceil(count / max_ret)\n",
    "        steps = [x*max_ret for x in range(0,steps_tot)]\n",
    "        total_records = 0\n",
    "\n",
    "        for step in steps:\n",
    "            time.sleep(30)\n",
    "            handle = Entrez.efetch(db='pubmed', query_key=query, WebEnv=web, retmode='xml', retstart=step, retmax=max_ret)\n",
    "            fetch = Entrez.read(handle)\n",
    "            handle.close()\n",
    "            print(\"Step {}: API batch returned.\".format(step))\n",
    "\n",
    "            for entry in fetch:\n",
    "                total_records += 1\n",
    "                f.write('PUBMED_ID\\n')\n",
    "                f.write(entry['PubmedData']['ArticleIdList'][0] + '\\n')\n",
    "                f.write('ABSTRACT\\n')\n",
    "                try:\n",
    "                    abstract = entry['MedlineCitation']['Article']['Abstract']['AbstractText'][0]\n",
    "                    if abstract == '':\n",
    "                        abstract = 'No abstract available'\n",
    "                    try:\n",
    "                        f.write(abstract + '\\n')\n",
    "                    except:\n",
    "                        try:\n",
    "                            abstract = abstract.encode('cp1252', 'replace').decode('cp1252')\n",
    "                            f.write(abstract + '\\n')\n",
    "                        except:\n",
    "                            f.write('Abstract could not be printed.\\n')\n",
    "                except:\n",
    "                    f.write('No abstract available.\\n')\n",
    "                f.write('MESH\\n')\n",
    "                mesh_str = ''\n",
    "                for mesh in entry['MedlineCitation']['MeshHeadingList']:\n",
    "                    mesh_str += mesh['DescriptorName'] + '; '\n",
    "                f.write(mesh_str[0:len(mesh_str)-2] + '\\n')    \n",
    "                f.write('\\n')\n",
    "\n",
    "        f.close()\n",
    "        print(\"{} records retrieved via eFetch and written to the file.\".format(total_records))"
   ]
  },
  {
   "cell_type": "markdown",
   "metadata": {},
   "source": [
    "## Running the Function to Gather the Data\n",
    "\n",
    "This block of code uses the generalized function defined above to retrieve the data from PubMed. This function only needs to be run once, and afterwards, the data will be stored in a local file. \n",
    "\n",
    "Getting the search terms right for this exercise is critical, but an individual could likely spend days trying to understand the nuances of the descriptors / subheadings / modifiers used to retrieve data from the database. Initially, I chose to use a simple, high-level search just using 'obesity' and a date range, but this **retrieved a lot of irrelevant records**. I tried a modified search using 'obesity' with a subheading of 'morbidity', and the results appear to be more topical. However, the choices made at this step will ripple through the rest of the project, so it's important to be aware of the tradeoffs."
   ]
  },
  {
   "cell_type": "code",
   "execution_count": 147,
   "metadata": {
    "collapsed": false
   },
   "outputs": [],
   "source": [
    "# Need to specify obesity as the major MeSH descriptor (MajorTopicYN=\"Y\") [majr]\n",
    "\n",
    "obesity_terms = 'obesity[majr] 2000:2012[pdat]'\n",
    "obesity_morbidity_terms = 'obesity/morbidity[majr] 2000:2012[pdat]'\n",
    "\n",
    "# Only need to run this function once to get all of the relevant API data\n",
    "\n",
    "# get_api_data(obesity_morbidity_terms, 'obesity_pubmed', want_fetch=True)"
   ]
  },
  {
   "cell_type": "markdown",
   "metadata": {
    "collapsed": false
   },
   "source": [
    "# SECTION 2: CATEGORIZING MESH TERMS\n",
    "\n",
    "This section uses the MeSH definitions file (desc2015.xml) to create a list of terms that refer to \"Disease or Syndrome\". The list will then be used to filter the MeSH terms in the publication results.\n",
    "\n",
    "The MeSH descriptors file is large, so it will not be stored along with this code and the intermediate data products. Instead, you can download it from the following ftp site. I did not directly link the file below, because this is one you don't want to accidently start downloading with a careless click!\n",
    "\n",
    "Location for File:  \n",
    "ftp://nlmpubs.nlm.nih.gov/online/mesh/2015/"
   ]
  },
  {
   "cell_type": "markdown",
   "metadata": {},
   "source": [
    "## Setting Up the Environment\n",
    "\n",
    "This section imports BeautifulSoup, which is used for XML parsing."
   ]
  },
  {
   "cell_type": "code",
   "execution_count": 122,
   "metadata": {
    "collapsed": true
   },
   "outputs": [],
   "source": [
    "from bs4 import BeautifulSoup"
   ]
  },
  {
   "cell_type": "markdown",
   "metadata": {},
   "source": [
    "## Defining the XML Parsing Function\n",
    "\n",
    "The source file for the MeSH terms is a large (~300 MB) xml file, and my preferred XML parser (BeautifulSoup) doesn't perform very well under such a load. So, for this exercise, I will initially split the XML file into chunks using basic string techniques, and then I will apply the parser to each fragment. This is slow, but the memory footprint is smaller and it runs without crashing. I know there are better XML libraries, but this is what I've got for now.\n",
    "\n",
    "This function opens the definitions file, extracts only the descriptors that match a SemanticTypeName specified as an argument, and writes those terms to another file. It's important to note that this function only considers semantic types listed under the preferred concept!"
   ]
  },
  {
   "cell_type": "code",
   "execution_count": 123,
   "metadata": {
    "collapsed": false
   },
   "outputs": [],
   "source": [
    "def get_descriptors(semantic_type, filename):\n",
    "    f = open('desc2015.xml', 'r')\n",
    "    xml_contents = f.read()\n",
    "    f.close()\n",
    "\n",
    "    f = open(filename + '.txt', 'w')\n",
    "\n",
    "    header_content = '<?xml version=\"1.0\"?>\\n' + '<!DOCTYPE DescriptorRecordSet SYSTEM \"desc2015.dtd\">\\n' + \\\n",
    "        '<DescriptorRecordSet LanguageCode = \"eng\">\\n' + '<DescriptorRecord DescriptorClass = \"1\">\\n'\n",
    "    xml_contents = xml_contents.replace(header_content, '')\n",
    "    descriptors = xml_contents.split('</DescriptorRecord>\\n<DescriptorRecord DescriptorClass = \"1\">')\n",
    "\n",
    "    for descriptor in descriptors:\n",
    "        descriptor = '<DescriptorRecord DescriptorClass = \"1\">\\n' + descriptor + '</DescriptorRecord>'\n",
    "        desc_soup = BeautifulSoup(descriptor, \"xml\")\n",
    "        name = desc_soup.DescriptorName.String.get_text()\n",
    "        semantic_tags = desc_soup.ConceptList.find('Concept', PreferredConceptYN='Y').find_all('SemanticTypeName')\n",
    "        semantic_types = set()\n",
    "        for tag in semantic_tags:\n",
    "            semantic_types.add(tag.get_text())\n",
    "        if semantic_type in semantic_types: \n",
    "            f.write(name + \"\\n\")\n",
    "    \n",
    "    f.close()"
   ]
  },
  {
   "cell_type": "markdown",
   "metadata": {},
   "source": [
    "## Running the Function to Output the Descriptors\n",
    "\n",
    "This block of code runs the function defined above to generate a file with a list of applicable descriptors. You only need to run this once, and all future data access will come from the newly created file."
   ]
  },
  {
   "cell_type": "code",
   "execution_count": 124,
   "metadata": {
    "collapsed": false
   },
   "outputs": [],
   "source": [
    "# Only need to run this function once to get all of the relevant terms\n",
    "\n",
    "# get_descriptors('Disease or Syndrome', 'mesh_disease_syndrome_terms')"
   ]
  },
  {
   "cell_type": "markdown",
   "metadata": {},
   "source": [
    "# SECTION 3: READING THE DATA FROM THE FILES\n",
    "\n",
    "This section loads the data from the raw PubMed records (previously stored from the API calls) and the disease terms (previously stored from the descriptors list) into their respective data structures for use."
   ]
  },
  {
   "cell_type": "code",
   "execution_count": 152,
   "metadata": {
    "collapsed": false
   },
   "outputs": [
    {
     "name": "stdout",
     "output_type": "stream",
     "text": [
      "2989 terms in the disease list.\n",
      "10297 records in the raw PubMed data.\n",
      "\n",
      "EXAMPLE RECORD\n",
      "\n",
      "ID: 25548090\n",
      "MESH: ['Age Distribution', 'Aged', 'Aged, 80 and over', 'Female', 'Humans', 'Logistic Models', 'Male', 'Metabolic Syndrome X', 'Nutrition Surveys', 'Obesity, Abdominal', 'ROC Curve', 'Republic of Korea', 'Risk Factors', 'Sex Distribution', 'Waist Circumference']\n",
      "ABSTRACT: The aim is to determine the appropriate cutoff values of waist circumference (WC) for an increased risk of the metabolic syndrome in the Korean elderly population. We analyzed the WC cutoff values of four groups divided according to sex and age with a total of 2,224 elderly participants aged 65 years old and above from the Fourth Korean National Health and Nutrition Examination Survey using the receiver operating characteristic curve and multiple logistic regression. The WC cutoff values associated with an increased risk of metabolic syndrome were 89.6 cm for men and 90.5 cm for women for those who were 65 to 74 years old, and 89.9 cm for men and 87.9 cm for women for those who were 75 years old or older. WC cutoff points for estimating metabolic risk are similar in elderly men and women. Age-specific optimal WC cutoff points should be considered especially for elderly women in screening for metabolic syndrome.\n"
     ]
    }
   ],
   "source": [
    "f = open('mesh_disease_syndrome_terms.txt', 'r')\n",
    "disease_terms = f.read()\n",
    "f.close()\n",
    "\n",
    "disease_terms = set(disease_terms.split('\\n'))\n",
    "print(\"{} terms in the disease list.\".format(len(disease_terms)))\n",
    "\n",
    "f = open('obesity_pubmed.txt', 'r')\n",
    "pubmed_raw = f.read()\n",
    "f.close()\n",
    "\n",
    "pubmed_raw = pubmed_raw.split('\\n\\n')\n",
    "pubmed_raw = pubmed_raw[0:len(pubmed_raw)-1]\n",
    "print(\"{} records in the raw PubMed data.\".format(len(pubmed_raw)))\n",
    "\n",
    "pubmed_records = []\n",
    "for record in pubmed_raw:\n",
    "    record_dict = {}\n",
    "    lines = record.split('\\n')\n",
    "    record_dict['ID'] = lines[1]\n",
    "    record_dict['ABSTRACT'] = lines[3]\n",
    "    record_dict['MESH'] = lines[5].split(\"; \")\n",
    "    pubmed_records.append(record_dict)\n",
    "    \n",
    "print(\"\\nEXAMPLE RECORD\\n\")\n",
    "for item in pubmed_records[0]:\n",
    "    print(\"{0}: {1}\".format(item,pubmed_records[0][item]))"
   ]
  },
  {
   "cell_type": "markdown",
   "metadata": {},
   "source": [
    "# SECTION 4: COUNTING PAPERS THAT MENTION DISEASES\n",
    "\n",
    "This section determines the number of papers that mention each disease as a MeSH keyword. It's important to note that the number of papers talking about a disease (in conjunction with obesity) actually tells us nothing about comorbidity, unless we make some strong assumptions about the *contents* of the papers. \n",
    "\n",
    "Papers that mention 'obesity' and disease 'A' together could be looking at:\n",
    "\n",
    "1. The prevalence or severity of disease 'A' in obese populations\n",
    "2. The prevalence or severity of obesity in populations with disease 'A'\n",
    "3. The prevalence or severity of some other issue ('Complication') in populations with both disease 'A' and obesity\n",
    "\n",
    "Even in the subset of papers that study diseases in obese populations, there are multiple explanations for why two diseases have different citation counts:\n",
    "\n",
    "1. Disease 'A' is more common in obese populations than disease 'B', so 'A' gets more attention (what we want to know)\n",
    "2. Disease 'A' is much more severe in obese populations relative to disease 'B', so 'A' gets more attention\n",
    "3. The comorbidity or severity of disease 'A' in obese populations is harder to ascertain than disease 'B', and therefore more studies have been conducted to try to reduce the uncertainty\n",
    "4. Disease 'A' may have more treatment options available and/or is considered easier to treat, so 'A' gets more attention\n",
    "5. The research groups that study the relationships between disease 'A' and obesity might prefer breaking up their studies into smaller papers, or they might just publish more papers in general\n",
    "\n",
    "There are almost certainly other reasons not outlined above. I'll talk about these issues more, in a bit."
   ]
  },
  {
   "cell_type": "markdown",
   "metadata": {},
   "source": [
    "## Counting the Occurrences\n",
    "\n",
    "This section gets the number of occurrences of each disease term in MeSH keywords. It also gets the number of disease terms per paper. The algorithm works by iterating through the records, and for each record, it iterates through the MeSH term. If a term is found in the \"disease_terms\" list, then that term is incremented by 1 in disease_counts. In addition, each valid disease term in a record is counted, and the total number of valid terms per record is stored in the diseases_per_paper dictionary."
   ]
  },
  {
   "cell_type": "code",
   "execution_count": 142,
   "metadata": {
    "collapsed": false
   },
   "outputs": [
    {
     "name": "stdout",
     "output_type": "stream",
     "text": [
      "Time for algorithm: 0 seconds\n",
      "\n"
     ]
    }
   ],
   "source": [
    "disease_counts = {}\n",
    "diseases_per_paper = {}\n",
    "\n",
    "start_time = time.time()\n",
    "for record in pubmed_records:\n",
    "    term_ct = 0\n",
    "    for term in record['MESH']:\n",
    "        if term in disease_terms:\n",
    "            if term in disease_counts:\n",
    "                disease_counts[term] += 1\n",
    "            else:\n",
    "                disease_counts[term] = 1\n",
    "            term_ct += 1\n",
    "    if term_ct in diseases_per_paper:\n",
    "        diseases_per_paper[term_ct] += 1\n",
    "    else:\n",
    "        diseases_per_paper[term_ct] = 1\n",
    "end_time = time.time()\n",
    "\n",
    "print(\"Time for algorithm: {} seconds\\n\".format(round(end_time - start_time),2))"
   ]
  },
  {
   "cell_type": "markdown",
   "metadata": {},
   "source": [
    "## Looking at the Raw Data\n",
    "\n",
    "This section makes some general observations about the results."
   ]
  },
  {
   "cell_type": "code",
   "execution_count": 143,
   "metadata": {
    "collapsed": false
   },
   "outputs": [
    {
     "data": {
      "text/html": [
       "<div>\n",
       "<table border=\"1\" class=\"dataframe\">\n",
       "  <thead>\n",
       "    <tr style=\"text-align: right;\">\n",
       "      <th></th>\n",
       "      <th>Disease</th>\n",
       "      <th>Cts</th>\n",
       "    </tr>\n",
       "  </thead>\n",
       "  <tbody>\n",
       "    <tr>\n",
       "      <th>326</th>\n",
       "      <td>Cardiovascular Diseases</td>\n",
       "      <td>787</td>\n",
       "    </tr>\n",
       "    <tr>\n",
       "      <th>172</th>\n",
       "      <td>Hypertension</td>\n",
       "      <td>770</td>\n",
       "    </tr>\n",
       "    <tr>\n",
       "      <th>312</th>\n",
       "      <td>Diabetes Mellitus, Type 2</td>\n",
       "      <td>617</td>\n",
       "    </tr>\n",
       "    <tr>\n",
       "      <th>238</th>\n",
       "      <td>Metabolic Syndrome X</td>\n",
       "      <td>574</td>\n",
       "    </tr>\n",
       "    <tr>\n",
       "      <th>189</th>\n",
       "      <td>Diabetes Mellitus</td>\n",
       "      <td>457</td>\n",
       "    </tr>\n",
       "    <tr>\n",
       "      <th>362</th>\n",
       "      <td>Chronic Disease</td>\n",
       "      <td>226</td>\n",
       "    </tr>\n",
       "    <tr>\n",
       "      <th>412</th>\n",
       "      <td>Pregnancy Complications</td>\n",
       "      <td>172</td>\n",
       "    </tr>\n",
       "    <tr>\n",
       "      <th>351</th>\n",
       "      <td>Asthma</td>\n",
       "      <td>142</td>\n",
       "    </tr>\n",
       "    <tr>\n",
       "      <th>173</th>\n",
       "      <td>Dyslipidemias</td>\n",
       "      <td>127</td>\n",
       "    </tr>\n",
       "    <tr>\n",
       "      <th>151</th>\n",
       "      <td>Hyperlipidemias</td>\n",
       "      <td>126</td>\n",
       "    </tr>\n",
       "    <tr>\n",
       "      <th>97</th>\n",
       "      <td>Coronary Disease</td>\n",
       "      <td>110</td>\n",
       "    </tr>\n",
       "    <tr>\n",
       "      <th>260</th>\n",
       "      <td>Sleep Apnea, Obstructive</td>\n",
       "      <td>99</td>\n",
       "    </tr>\n",
       "    <tr>\n",
       "      <th>241</th>\n",
       "      <td>Fatty Liver</td>\n",
       "      <td>96</td>\n",
       "    </tr>\n",
       "    <tr>\n",
       "      <th>16</th>\n",
       "      <td>Hypercholesterolemia</td>\n",
       "      <td>95</td>\n",
       "    </tr>\n",
       "    <tr>\n",
       "      <th>103</th>\n",
       "      <td>Malnutrition</td>\n",
       "      <td>95</td>\n",
       "    </tr>\n",
       "    <tr>\n",
       "      <th>429</th>\n",
       "      <td>Child Nutrition Disorders</td>\n",
       "      <td>90</td>\n",
       "    </tr>\n",
       "    <tr>\n",
       "      <th>44</th>\n",
       "      <td>Diabetes Complications</td>\n",
       "      <td>86</td>\n",
       "    </tr>\n",
       "    <tr>\n",
       "      <th>52</th>\n",
       "      <td>Glucose Intolerance</td>\n",
       "      <td>77</td>\n",
       "    </tr>\n",
       "    <tr>\n",
       "      <th>104</th>\n",
       "      <td>Kidney Failure, Chronic</td>\n",
       "      <td>67</td>\n",
       "    </tr>\n",
       "    <tr>\n",
       "      <th>80</th>\n",
       "      <td>Coronary Artery Disease</td>\n",
       "      <td>64</td>\n",
       "    </tr>\n",
       "    <tr>\n",
       "      <th>467</th>\n",
       "      <td>Sleep Apnea Syndromes</td>\n",
       "      <td>58</td>\n",
       "    </tr>\n",
       "    <tr>\n",
       "      <th>339</th>\n",
       "      <td>Myocardial Infarction</td>\n",
       "      <td>57</td>\n",
       "    </tr>\n",
       "    <tr>\n",
       "      <th>221</th>\n",
       "      <td>Heart Failure</td>\n",
       "      <td>56</td>\n",
       "    </tr>\n",
       "    <tr>\n",
       "      <th>112</th>\n",
       "      <td>Diabetes, Gestational</td>\n",
       "      <td>54</td>\n",
       "    </tr>\n",
       "    <tr>\n",
       "      <th>17</th>\n",
       "      <td>Prader-Willi Syndrome</td>\n",
       "      <td>54</td>\n",
       "    </tr>\n",
       "    <tr>\n",
       "      <th>198</th>\n",
       "      <td>Stroke</td>\n",
       "      <td>49</td>\n",
       "    </tr>\n",
       "    <tr>\n",
       "      <th>436</th>\n",
       "      <td>Hyperglycemia</td>\n",
       "      <td>48</td>\n",
       "    </tr>\n",
       "    <tr>\n",
       "      <th>164</th>\n",
       "      <td>Gastroesophageal Reflux</td>\n",
       "      <td>48</td>\n",
       "    </tr>\n",
       "    <tr>\n",
       "      <th>457</th>\n",
       "      <td>Metabolic Diseases</td>\n",
       "      <td>46</td>\n",
       "    </tr>\n",
       "    <tr>\n",
       "      <th>449</th>\n",
       "      <td>Diabetes Mellitus, Type 1</td>\n",
       "      <td>44</td>\n",
       "    </tr>\n",
       "    <tr>\n",
       "      <th>...</th>\n",
       "      <td>...</td>\n",
       "      <td>...</td>\n",
       "    </tr>\n",
       "    <tr>\n",
       "      <th>271</th>\n",
       "      <td>Mucocutaneous Lymph Node Syndrome</td>\n",
       "      <td>1</td>\n",
       "    </tr>\n",
       "    <tr>\n",
       "      <th>270</th>\n",
       "      <td>Alveolar Bone Loss</td>\n",
       "      <td>1</td>\n",
       "    </tr>\n",
       "    <tr>\n",
       "      <th>223</th>\n",
       "      <td>Peptic Ulcer</td>\n",
       "      <td>1</td>\n",
       "    </tr>\n",
       "    <tr>\n",
       "      <th>229</th>\n",
       "      <td>Cystic Fibrosis</td>\n",
       "      <td>1</td>\n",
       "    </tr>\n",
       "    <tr>\n",
       "      <th>230</th>\n",
       "      <td>Erysipelas</td>\n",
       "      <td>1</td>\n",
       "    </tr>\n",
       "    <tr>\n",
       "      <th>70</th>\n",
       "      <td>Varicocele</td>\n",
       "      <td>1</td>\n",
       "    </tr>\n",
       "    <tr>\n",
       "      <th>1</th>\n",
       "      <td>Cerebrospinal Fluid Rhinorrhea</td>\n",
       "      <td>1</td>\n",
       "    </tr>\n",
       "    <tr>\n",
       "      <th>235</th>\n",
       "      <td>Macular Edema</td>\n",
       "      <td>1</td>\n",
       "    </tr>\n",
       "    <tr>\n",
       "      <th>236</th>\n",
       "      <td>Aortic Aneurysm, Abdominal</td>\n",
       "      <td>1</td>\n",
       "    </tr>\n",
       "    <tr>\n",
       "      <th>237</th>\n",
       "      <td>Cerebral Small Vessel Diseases</td>\n",
       "      <td>1</td>\n",
       "    </tr>\n",
       "    <tr>\n",
       "      <th>68</th>\n",
       "      <td>Mouth Diseases</td>\n",
       "      <td>1</td>\n",
       "    </tr>\n",
       "    <tr>\n",
       "      <th>67</th>\n",
       "      <td>Animal Diseases</td>\n",
       "      <td>1</td>\n",
       "    </tr>\n",
       "    <tr>\n",
       "      <th>243</th>\n",
       "      <td>Papillomavirus Infections</td>\n",
       "      <td>1</td>\n",
       "    </tr>\n",
       "    <tr>\n",
       "      <th>244</th>\n",
       "      <td>Microvascular Angina</td>\n",
       "      <td>1</td>\n",
       "    </tr>\n",
       "    <tr>\n",
       "      <th>247</th>\n",
       "      <td>Sigmoid Diseases</td>\n",
       "      <td>1</td>\n",
       "    </tr>\n",
       "    <tr>\n",
       "      <th>248</th>\n",
       "      <td>Dog Diseases</td>\n",
       "      <td>1</td>\n",
       "    </tr>\n",
       "    <tr>\n",
       "      <th>251</th>\n",
       "      <td>Stomach Diseases</td>\n",
       "      <td>1</td>\n",
       "    </tr>\n",
       "    <tr>\n",
       "      <th>252</th>\n",
       "      <td>Thyroiditis, Autoimmune</td>\n",
       "      <td>1</td>\n",
       "    </tr>\n",
       "    <tr>\n",
       "      <th>253</th>\n",
       "      <td>Hypersomnolence, Idiopathic</td>\n",
       "      <td>1</td>\n",
       "    </tr>\n",
       "    <tr>\n",
       "      <th>254</th>\n",
       "      <td>Intertrigo</td>\n",
       "      <td>1</td>\n",
       "    </tr>\n",
       "    <tr>\n",
       "      <th>255</th>\n",
       "      <td>Graft vs Host Disease</td>\n",
       "      <td>1</td>\n",
       "    </tr>\n",
       "    <tr>\n",
       "      <th>258</th>\n",
       "      <td>Chlamydophila Infections</td>\n",
       "      <td>1</td>\n",
       "    </tr>\n",
       "    <tr>\n",
       "      <th>259</th>\n",
       "      <td>Celiac Disease</td>\n",
       "      <td>1</td>\n",
       "    </tr>\n",
       "    <tr>\n",
       "      <th>66</th>\n",
       "      <td>Intracranial Hypertension</td>\n",
       "      <td>1</td>\n",
       "    </tr>\n",
       "    <tr>\n",
       "      <th>65</th>\n",
       "      <td>Acidosis</td>\n",
       "      <td>1</td>\n",
       "    </tr>\n",
       "    <tr>\n",
       "      <th>263</th>\n",
       "      <td>Skin Diseases, Infectious</td>\n",
       "      <td>1</td>\n",
       "    </tr>\n",
       "    <tr>\n",
       "      <th>265</th>\n",
       "      <td>Cardiomyopathy, Dilated</td>\n",
       "      <td>1</td>\n",
       "    </tr>\n",
       "    <tr>\n",
       "      <th>267</th>\n",
       "      <td>Esophageal Diseases</td>\n",
       "      <td>1</td>\n",
       "    </tr>\n",
       "    <tr>\n",
       "      <th>269</th>\n",
       "      <td>Autoimmune Diseases</td>\n",
       "      <td>1</td>\n",
       "    </tr>\n",
       "    <tr>\n",
       "      <th>0</th>\n",
       "      <td>HIV Wasting Syndrome</td>\n",
       "      <td>1</td>\n",
       "    </tr>\n",
       "  </tbody>\n",
       "</table>\n",
       "<p>468 rows × 2 columns</p>\n",
       "</div>"
      ],
      "text/plain": [
       "                               Disease  Cts\n",
       "326            Cardiovascular Diseases  787\n",
       "172                       Hypertension  770\n",
       "312          Diabetes Mellitus, Type 2  617\n",
       "238               Metabolic Syndrome X  574\n",
       "189                  Diabetes Mellitus  457\n",
       "362                    Chronic Disease  226\n",
       "412            Pregnancy Complications  172\n",
       "351                             Asthma  142\n",
       "173                      Dyslipidemias  127\n",
       "151                    Hyperlipidemias  126\n",
       "97                    Coronary Disease  110\n",
       "260           Sleep Apnea, Obstructive   99\n",
       "241                        Fatty Liver   96\n",
       "16                Hypercholesterolemia   95\n",
       "103                       Malnutrition   95\n",
       "429          Child Nutrition Disorders   90\n",
       "44              Diabetes Complications   86\n",
       "52                 Glucose Intolerance   77\n",
       "104            Kidney Failure, Chronic   67\n",
       "80             Coronary Artery Disease   64\n",
       "467              Sleep Apnea Syndromes   58\n",
       "339              Myocardial Infarction   57\n",
       "221                      Heart Failure   56\n",
       "112              Diabetes, Gestational   54\n",
       "17               Prader-Willi Syndrome   54\n",
       "198                             Stroke   49\n",
       "436                      Hyperglycemia   48\n",
       "164            Gastroesophageal Reflux   48\n",
       "457                 Metabolic Diseases   46\n",
       "449          Diabetes Mellitus, Type 1   44\n",
       "..                                 ...  ...\n",
       "271  Mucocutaneous Lymph Node Syndrome    1\n",
       "270                 Alveolar Bone Loss    1\n",
       "223                       Peptic Ulcer    1\n",
       "229                    Cystic Fibrosis    1\n",
       "230                         Erysipelas    1\n",
       "70                          Varicocele    1\n",
       "1       Cerebrospinal Fluid Rhinorrhea    1\n",
       "235                      Macular Edema    1\n",
       "236         Aortic Aneurysm, Abdominal    1\n",
       "237     Cerebral Small Vessel Diseases    1\n",
       "68                      Mouth Diseases    1\n",
       "67                     Animal Diseases    1\n",
       "243          Papillomavirus Infections    1\n",
       "244               Microvascular Angina    1\n",
       "247                   Sigmoid Diseases    1\n",
       "248                       Dog Diseases    1\n",
       "251                   Stomach Diseases    1\n",
       "252            Thyroiditis, Autoimmune    1\n",
       "253        Hypersomnolence, Idiopathic    1\n",
       "254                         Intertrigo    1\n",
       "255              Graft vs Host Disease    1\n",
       "258           Chlamydophila Infections    1\n",
       "259                     Celiac Disease    1\n",
       "66           Intracranial Hypertension    1\n",
       "65                            Acidosis    1\n",
       "263          Skin Diseases, Infectious    1\n",
       "265            Cardiomyopathy, Dilated    1\n",
       "267                Esophageal Diseases    1\n",
       "269                Autoimmune Diseases    1\n",
       "0                 HIV Wasting Syndrome    1\n",
       "\n",
       "[468 rows x 2 columns]"
      ]
     },
     "execution_count": 143,
     "metadata": {},
     "output_type": "execute_result"
    }
   ],
   "source": [
    "import pandas as pd\n",
    "disease_cts_df = pd.DataFrame.from_dict(disease_counts, orient='index')\n",
    "disease_cts_df.reset_index(inplace=True)\n",
    "disease_cts_df.columns = ['Disease','Cts']\n",
    "disease_cts_df.sort_values('Cts', ascending=False, inplace=True)\n",
    "disease_cts_df"
   ]
  },
  {
   "cell_type": "code",
   "execution_count": 144,
   "metadata": {
    "collapsed": false
   },
   "outputs": [
    {
     "name": "stdout",
     "output_type": "stream",
     "text": [
      "Number of Disease Terms Per Paper\n",
      "{0: 6164, 1: 2376, 2: 940, 3: 481, 4: 214, 5: 84, 6: 20, 7: 12, 8: 2, 9: 2, 10: 2} \n",
      "\n",
      "Percentage of Papers With No Disease Terms in MeSH Keywords: 59.86 %\n",
      "Percentage of Papers With One Disease Term in MeSH Keywords: 23.07 %\n",
      "Percentage of Papers With Two or More Disease Terms in MeSH Keywords: 17.06 %\n",
      "\n",
      "Number of diseases or syndromes with >   0 mentions: 468\n",
      "Number of diseases or syndromes with >   1 mentions: 267\n",
      "Number of diseases or syndromes with >   5 mentions: 123\n",
      "Number of diseases or syndromes with >  10 mentions: 71\n",
      "Number of diseases or syndromes with >  20 mentions: 46\n",
      "Number of diseases or syndromes with > 100 mentions: 11\n",
      "Number of diseases or syndromes with > 200 mentions: 6\n",
      "\n",
      "Total number of times disease or syndrome terms were mentioned: 7233\n",
      "Total number of papers with at least one disease or syndrome term: 4133\n"
     ]
    }
   ],
   "source": [
    "pct_zero = 100*diseases_per_paper[0]/len(pubmed_records)\n",
    "pct_one = 100*diseases_per_paper[1]/len(pubmed_records)\n",
    "pct_more = 100 - pct_one - pct_zero\n",
    "\n",
    "more_than_one_df = disease_cts_df.loc[disease_cts_df['Cts'] > 1]\n",
    "more_than_five_df = disease_cts_df.loc[disease_cts_df['Cts'] > 5]\n",
    "more_than_ten_df = disease_cts_df.loc[disease_cts_df['Cts'] > 10]\n",
    "more_than_twenty_df = disease_cts_df.loc[disease_cts_df['Cts'] > 20]\n",
    "more_than_hundred_df = disease_cts_df.loc[disease_cts_df['Cts'] > 100]\n",
    "more_than_twohund_df = disease_cts_df.loc[disease_cts_df['Cts'] > 200]\n",
    "\n",
    "total_mentions = disease_cts_df['Cts'].sum()\n",
    "papers_with_one_or_more = len(pubmed_raw) - diseases_per_paper[0]\n",
    "\n",
    "print(\"Number of Disease Terms Per Paper\")\n",
    "print(diseases_per_paper, \"\\n\")\n",
    "print(\"Percentage of Papers With No Disease Terms in MeSH Keywords: {0:.2f} %\".format(pct_zero))\n",
    "print(\"Percentage of Papers With One Disease Term in MeSH Keywords: {0:.2f} %\".format(pct_one))\n",
    "print(\"Percentage of Papers With Two or More Disease Terms in MeSH Keywords: {0:.2f} %\\n\".format(pct_more))\n",
    "\n",
    "print(\"Number of diseases or syndromes with >   0 mentions: {}\".format(len(disease_cts_df)))\n",
    "print(\"Number of diseases or syndromes with >   1 mentions: {}\".format(len(more_than_one_df)))\n",
    "print(\"Number of diseases or syndromes with >   5 mentions: {}\".format(len(more_than_five_df)))\n",
    "print(\"Number of diseases or syndromes with >  10 mentions: {}\".format(len(more_than_ten_df)))\n",
    "print(\"Number of diseases or syndromes with >  20 mentions: {}\".format(len(more_than_twenty_df)))\n",
    "print(\"Number of diseases or syndromes with > 100 mentions: {}\".format(len(more_than_hundred_df)))\n",
    "print(\"Number of diseases or syndromes with > 200 mentions: {}\\n\".format(len(more_than_twohund_df)))\n",
    "\n",
    "print(\"Total number of times disease or syndrome terms were mentioned: {}\".format(total_mentions))\n",
    "print(\"Total number of papers with at least one disease or syndrome term: {}\".format(papers_with_one_or_more))"
   ]
  },
  {
   "cell_type": "markdown",
   "metadata": {},
   "source": [
    "## Plotting the Data"
   ]
  },
  {
   "cell_type": "code",
   "execution_count": 153,
   "metadata": {
    "collapsed": false
   },
   "outputs": [
    {
     "data": {
      "image/png": "[encoded data removed]",
      "text/plain": [
       "<matplotlib.figure.Figure at 0x2bc90d28630>"
      ]
     },
     "metadata": {},
     "output_type": "display_data"
    }
   ],
   "source": [
    "df_to_plot = more_than_twenty_df\n",
    "cutoff = 20\n",
    "\n",
    "max_X = len(df_to_plot)\n",
    "X_vals = [x for x in range(0,max_X)]\n",
    "\n",
    "fig = plt.figure(figsize=(12,7))\n",
    "ax = fig.add_subplot(1,1,1)\n",
    "ax.bar(X_vals,df_to_plot['Cts'],align='center',color='lightblue')\n",
    "ax.set_xticks(X_vals)\n",
    "ax.set_xticklabels(df_to_plot['Disease'], rotation=90)\n",
    "ax.set_xlim([-1,max_X])\n",
    "ax.set_xlabel('Disease or Syndrome')\n",
    "ax.set_ylabel('Number of Occurrences as MeSH Terms')\n",
    "ax.set_title('Number of Times a Disease Was Mentioned in Association with Obesity (2000-2012) [> '+str(cutoff)+' Mentions, MeSH]')\n",
    "plt.show()"
   ]
  },
  {
   "cell_type": "markdown",
   "metadata": {},
   "source": [
    "## Discussion\n",
    "\n",
    "First, it's worth noting that the majority of the PubMed records that we retrieved (~60 %) don't discuss any diseases or syndromes in association with obesity. Approximately 23 % of the records contain only one associated disease or syndrome keyword, and the rest contain two or more. Two records even contain 10 disease keywords in its MeSH terms!\n",
    "\n",
    "Second, it's worth noting that, although there were 468 different diseases or syndromes mentioned at least once, only 123 were mentioned more than 5 times. You can see if the figure above (only showing terms mentioned > 20 times) that there is a long tail, with a large number of diseases only discussed (alongside obesity) in a relatively small number of papers.\n",
    "\n",
    "So, which diseases are discussed most often alongside obesity? \n",
    "\n",
    "1. Cardiovascular Diseases\n",
    "2. Hypertension\n",
    "3. Diabetes Mellitus, Type 2\n",
    "4. Metabolic Syndrome X\n",
    "5. Diabetes Mellitus\n",
    "\n",
    "It's pretty clear that many of the disease / syndrome terms are related in nature. If I had more of a medical background (and understood the diseases better), I'd group similar conditions to better understand the classes of problems being studied.\n",
    "\n",
    "So, what can we make of this data? As discussed at the beginning of this section, more studies (or more papers) do not necessarily mean higher incidence rates in obese populations! First, we have to consider that many papers talking about 'obesity' and 'disease A' aren't necessarily looking at the *relationship* between the two. They are looking at some third factor in populations with both 'obesity' and 'disease A'. Second, even if the studies are *about* the relationship between 'obesity' and 'disease A', we don't know whether the studies were looking at the odds of the disease in obese people or the odds of obesity in diseased people. Third, citation counts don't really tell us about odds ratios. It could be that the diseases with more attention are more prevalent (what we want), more severe, more treatable, more ambiguous (unclear odds ratios), etc. The only way to truly determine which of these diseases are comorbid (odds ratios > 1) is to extract the data from the records themselves."
   ]
  },
  {
   "cell_type": "markdown",
   "metadata": {},
   "source": [
    "# SECTION 5: EXTRACTING DATA FROM ABSTRACTS\n",
    "\n",
    "Finding the number of papers that mention a disease (in conjunction with obesity) only gets us so far towards answering our question. The pitfalls were discussed extensively in the previous section, so they won't be repeated here. What we really need to know is what the papers actually **say** about the disease in relation to obesity, and in particular, what we want to know is the **odds ratios** for the diseases in obese vs non-obese populations.\n",
    "\n",
    "It's possible that a more refined PubMed search could eliminate many of the irrelevant records and return more epidemiology-oriented papers, making our job easier. As specified in the introduction, I'm carrying the assumption that the statistical results of the papers are not recorded in the metadata. If I am wrong (possible!), then the nature of this project changes quite a bit. However, for now, we're going to try to work with our very unconstrained dataset.\n",
    "\n",
    "First, we'll take a closer look at some samples of the data, and then we'll try a few brute-force methods for gathering data. Text processing, in the best of scenarios (well-structured data), is challenging. In a scenario such as this (free-form text, no expectation of common language terms or writing styles), given the limited time, it may be impossible. If this was a more substantial project, the two areas that would need more focus would be: refining the initial search, and building out a decent set of text search algorithms."
   ]
  },
  {
   "cell_type": "markdown",
   "metadata": {},
   "source": [
    "## Looking at a Sample of Abstracts\n",
    "\n",
    "In this section, we'll print a few records for the most commonly cited term. It's worth a good, qualitative look at the data to get a feel for how different authors might or might not summarize the relevant data in the abstracts."
   ]
  },
  {
   "cell_type": "code",
   "execution_count": 154,
   "metadata": {
    "collapsed": false
   },
   "outputs": [
    {
     "name": "stdout",
     "output_type": "stream",
     "text": [
      "A sample of records with the term 'Cardiovascular Diseases':\n",
      "\n",
      "ABSTRACT\n",
      "Waist circumference (WC) is a useful measure for identifying children at higher risk of complications related with abdominal fat. We determined the magnitude of central adiposity, single and combined with overweight and obesity in infants 1-5 years old. We also identified smoothed age-and sex-specific WC percentile values, which were compared with other countries available data. This was a cross-sectional study in children of 8 day care centers located in Monterrey, Mexico (n = 903, 431 boys and 472 girls). Because the risk due to abdominal obesity begins at WC percentile > or = 75, we considered two thresholds, percentile 75 y 90. Overweight was defined based on body mass index at percentile 85-94 for age and sex; and obesity, at percentile > or = 95. Analysis consisted of point prevalence and 95% confidence intervals. The LMS Chart Maker Light software was used for smoothing WC percentile values. The study population mean age was 2.7 +/- 1.0 years. Mexican children's WC was 1 cm above that of Afro-American; and it was up to 4 cm below that Mexican-American. Prevalence of central obesity with WC at percentile 75 combined with overweight/obesity was 25.1% (95% CI 22.3-28.0) and single, 15.4% (95 CI% 13.0-17.8). Prevalence of single abdominal obesity with WC at percentile > or = 90 was 4.4% (IC 95% 3.0, 5.8). Day care centers represent a key opportunity for defying central obesity. WC can be used since early age for screening and caring children at higher cardiovascular risk. \n",
      "\n",
      "MESH\n",
      "['Abdominal Fat', 'Adiposity', 'Age Factors', 'Cardiovascular Diseases', 'Child Day Care Centers', 'Child, Preschool', 'Cross-Sectional Studies', 'Female', 'Humans', 'Infant', 'Male', 'Mexico', 'Obesity', 'Obesity, Abdominal', 'Overweight', 'Risk Factors', 'Sex Factors', 'Waist Circumference'] \n",
      "\n",
      "------------------------------------------------------\n",
      "\n",
      "ABSTRACT\n",
      "The study investigated some co-morbidities, and age, gender and occupational distribution of stroke survivors seen in the Physiotherapy clinic of University of Maiduguri Teaching Hospital, Maiduguri, Borno State, Nigeria; A 3-year retrospective study (January, 2008 to December, 2010). \n",
      "\n",
      "MESH\n",
      "['Adult', 'Aged', 'Cardiovascular Diseases', 'Comorbidity', 'Demography', 'Diabetes Mellitus, Type 2', 'Female', 'HIV Infections', 'Humans', 'Hyperlipidemias', 'Male', 'Middle Aged', 'Nigeria', 'Obesity', 'Physical Therapy Specialty', 'Referral and Consultation', 'Renal Insufficiency, Chronic', 'Risk Factors', 'Socioeconomic Factors', 'Stroke', 'Survivors'] \n",
      "\n",
      "------------------------------------------------------\n",
      "\n",
      "ABSTRACT\n",
      "In the 1980s, the idea evolved that some individuals with normal weight (Metabolically Obese, Normal-Weight), who probably have increased abdominal fat, have metabolic disturbances related to obesity. This observation initiated the concept of the metabolically obese but normal-weight syndrome (MONW). Since then, there have been only a few studies in non-obese subjects. MONW men and women should be regarded as at high risk for cardiovascular disease. \n",
      "\n",
      "MESH\n",
      "['Adipose Tissue', 'Adult', 'Blood Glucose', 'Body Mass Index', 'Body Weight', 'Cardiovascular Diseases', 'Female', 'Humans', 'Insulin', 'Insulin Resistance', 'Lipoproteins, HDL', 'Lipoproteins, LDL', 'Male', 'Metabolic Syndrome X', 'Obesity', 'Poland', 'Prevalence', 'Risk Factors', 'Sex Factors', 'Triglycerides', 'Waist Circumference', 'Young Adult'] \n",
      "\n",
      "------------------------------------------------------\n",
      "\n",
      "ABSTRACT\n",
      "Assessment of death risk for different combinations of body-mass index (BMI) and smoking status among a nationally representative cohort of U.S. adults. \n",
      "\n",
      "MESH\n",
      "['Adolescent', 'Adult', 'Aged', 'Aged, 80 and over', 'Body Mass Index', 'Cardiovascular Diseases', 'Comorbidity', 'Female', 'Health Surveys', 'Humans', 'Male', 'Middle Aged', 'Neoplasms', 'Obesity', 'Proportional Hazards Models', 'Prospective Studies', 'Risk Assessment', 'Smoking', 'Thinness', 'United States', 'Young Adult'] \n",
      "\n",
      "------------------------------------------------------\n",
      "\n",
      "ABSTRACT\n",
      "To establish the prevalence of overweight-obesity and metabolic syndrome in a group of paediatric patients with type 1 diabetes (DM1), and to determine the effects on the lipoprotein profile and metabolic control. \n",
      "\n",
      "MESH\n",
      "['Adolescent', 'Cardiovascular Diseases', 'Child', 'Cross-Sectional Studies', 'Diabetes Complications', 'Diabetes Mellitus, Type 1', 'Female', 'Humans', 'Male', 'Metabolic Syndrome X', 'Obesity', 'Overweight', 'Prevalence', 'Prospective Studies', 'Risk Factors'] \n",
      "\n",
      "------------------------------------------------------\n",
      "\n"
     ]
    }
   ],
   "source": [
    "disease_sought = disease_cts_df['Disease'].iloc[0]\n",
    "max_records = 5\n",
    "\n",
    "print(\"A sample of records with the term '{}':\\n\".format(disease_sought))\n",
    "\n",
    "returned_records = 0\n",
    "for record in pubmed_records:\n",
    "    for term in record['MESH']:\n",
    "        if term == disease_sought:\n",
    "            print('ABSTRACT')\n",
    "            print(record['ABSTRACT'], \"\\n\")\n",
    "            print('MESH')\n",
    "            print(record['MESH'], \"\\n\")\n",
    "            print('------------------------------------------------------\\n')\n",
    "            returned_records += 1\n",
    "            break\n",
    "    if returned_records == max_records:\n",
    "        break"
   ]
  },
  {
   "cell_type": "code",
   "execution_count": null,
   "metadata": {
    "collapsed": true
   },
   "outputs": [],
   "source": []
  },
  {
   "cell_type": "code",
   "execution_count": null,
   "metadata": {
    "collapsed": true
   },
   "outputs": [],
   "source": []
  },
  {
   "cell_type": "markdown",
   "metadata": {},
   "source": [
    "# SECTION 6: ADDITIONAL WORK\n",
    "\n",
    "Content goes here..."
   ]
  },
  {
   "cell_type": "code",
   "execution_count": 131,
   "metadata": {
    "collapsed": false
   },
   "outputs": [
    {
     "name": "stdout",
     "output_type": "stream",
     "text": [
      "Coming soon!\n"
     ]
    }
   ],
   "source": [
    "print(\"Coming soon!\")"
   ]
  },
  {
   "cell_type": "markdown",
   "metadata": {},
   "source": [
    "# CONCLUSIONS\n",
    "\n",
    "Content goes here..."
   ]
  },
  {
   "cell_type": "code",
   "execution_count": 132,
   "metadata": {
    "collapsed": false
   },
   "outputs": [
    {
     "name": "stdout",
     "output_type": "stream",
     "text": [
      "Coming soon!\n"
     ]
    }
   ],
   "source": [
    "print(\"Coming soon!\")"
   ]
  }
 ],
 "metadata": {
  "anaconda-cloud": {},
  "kernelspec": {
   "display_name": "Python [Root]",
   "language": "python",
   "name": "Python [Root]"
  },
  "language_info": {
   "codemirror_mode": {
    "name": "ipython",
    "version": 3
   },
   "file_extension": ".py",
   "mimetype": "text/x-python",
   "name": "python",
   "nbconvert_exporter": "python",
   "pygments_lexer": "ipython3",
   "version": "3.5.2"
  }
 },
 "nbformat": 4,
 "nbformat_minor": 0
}
