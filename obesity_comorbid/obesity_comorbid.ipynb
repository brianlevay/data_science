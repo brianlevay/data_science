{
 "cells": [
  {
   "cell_type": "markdown",
   "metadata": {},
   "source": [
    "# PROJECT SUMMARY: WHICH DISEASES ARE COMORBID WITH OBESITY?\n",
    "\n",
    "## Overview\n",
    "\n",
    "This project was given to me as a data science exercise. The \"who gave it to me\" and \"why\" parts don't matter here, only the \"what did they want\" and the \"how did they want me to do it\". The goal of the project is to determine which diseases or syndromes are *comorbid* with obesity. In other words, the goal is to determine which diseases occur at higher rates in obese populations relative to non-obese populations. All of the data must come from PubMed/MEDLINE databases that are part of the National Center for Biotechnology Information (NCBI).\n",
    "\n",
    "## Methods\n",
    "\n",
    "Some of the methods for this project are required, and others are left for me to decide. The initial, expected workflow is as follows:\n",
    "\n",
    "1. Retrieve the records for all papers published between 2000 and 2012 that have the term 'Obesity' as a major topic (note: 'Obesity' and 'Obesity, Morbid' are two different descriptors, but records containing either as major topics are returned using 'Obesity')\n",
    "2. Using the list of all possible medical descriptors (MeSH terms), create a smaller list of terms that only refer to diseases or syndromes\n",
    "3. Identify which papers talk about each disease in the new list, and extract any relevant data (number of references, odds ratio values, etc.)\n",
    "4. Try to answer the question, if possible: which diseases are comorbid with obesity?\n",
    "\n",
    "Documentation for the Entrez APIs (to access the PubMed data) can be found here:\n",
    "[Entrez Documentation](https://www.ncbi.nlm.nih.gov/books/NBK25501/)\n",
    "\n",
    "## Desired Output\n",
    "\n",
    "The ultimate goal of the project is to determine which diseases have a higher incidence rates in obese populations relative to non-obese populations (odds ratios > 1). The goal is *NOT* to determine which diseases are more severe in obese populations. You can see an illustration of the desired output in the next section.\n",
    "\n",
    "It's important to note that this is a **Descriptive** study, and not a **Predictive** or **Prescriptive** study. The goal here is to understand what the existing data says, not to build machine learning models or decision trees (proper ones, for actually making decisions).\n",
    "\n",
    "## Data Limitation\n",
    "\n",
    "One of the key assumptions that will be carried through the rest of this project is that odds ratios, statistical significances, etc. are *NOT* stored in the publication record metadata. The only place that data can be retrieved (using the approach requested) is via the abstracts. If I'm wrong, and the metadata *DOES* store that information, this project is a whole lot easier!"
   ]
  },
  {
   "cell_type": "markdown",
   "metadata": {},
   "source": [
    "# SECTION 0: EXAMPLE OF WHAT WE WANT\n",
    "\n",
    "This section below generates a synthetic dataset using Monte Carlo techniques to highlight the type of visual (and statistical) product that we want. This is just meant to be a guide so that visually-inclined readers can see the \"single figure summary\" that we're after."
   ]
  },
  {
   "cell_type": "markdown",
   "metadata": {},
   "source": [
    "## Setting Up the Environment\n",
    "\n",
    "This section imports the main math and plotting libraries that we'll use throughout the project"
   ]
  },
  {
   "cell_type": "code",
   "execution_count": 17,
   "metadata": {
    "collapsed": true
   },
   "outputs": [],
   "source": [
    "import math\n",
    "import numpy as np\n",
    "import matplotlib.pyplot as plt\n",
    "%matplotlib inline"
   ]
  },
  {
   "cell_type": "markdown",
   "metadata": {},
   "source": [
    "## Defining the Function\n",
    "\n",
    "This section creates the function that generates a synthetic dataset for our example plot"
   ]
  },
  {
   "cell_type": "code",
   "execution_count": 18,
   "metadata": {
    "collapsed": false
   },
   "outputs": [],
   "source": [
    "def create_synthetic_OR_plot():\n",
    "    X_locations = [x for x in range(0,10)]\n",
    "    X_labels = [chr(x+65) for x in range(0,10)]\n",
    "\n",
    "    data = []\n",
    "    means = {}\n",
    "\n",
    "    for location in X_locations:\n",
    "        p_disease_not_obesity = np.random.random_sample() * (0.5) + 0.02\n",
    "        p_disease_obesity = np.random.random_sample() * (0.5) + 0.12\n",
    "        papers = int(np.random.random_sample() * (100-5) + 1)\n",
    "        disease_results = []\n",
    "        for i in range(0,papers):\n",
    "            observations = int(np.random.random_sample() * (1000 - 100) + 100)\n",
    "            bias_disease_not_obesity = np.random.random_sample() * (0.2) - 0.1\n",
    "            bias_disease_obesity = np.random.random_sample() * (0.2) - 0.1\n",
    "            p_eff_disease_not_obesity = p_disease_not_obesity + bias_disease_not_obesity\n",
    "            p_eff_disease_obesity = p_disease_obesity + bias_disease_obesity\n",
    "            p_eff_disease_not_obesity = max(0.01,min(p_eff_disease_not_obesity,0.99))\n",
    "            p_eff_disease_obesity = max(0.01,min(p_eff_disease_obesity,0.99))\n",
    "            samples_disease_not_obesity = np.random.binomial(1, p_eff_disease_not_obesity, observations)\n",
    "            samples_disease_obesity = np.random.binomial(1, p_eff_disease_obesity, observations)\n",
    "            fraction_disease_not_obesity = sum(samples_disease_not_obesity) / observations\n",
    "            fraction_disease_obesity = sum(samples_disease_obesity) / observations\n",
    "            if fraction_disease_not_obesity != 0:\n",
    "                odds_ratio = fraction_disease_obesity / fraction_disease_not_obesity\n",
    "                disease_results.append(odds_ratio)\n",
    "        data.append(disease_results)\n",
    "        means[location] = np.mean(disease_results)\n",
    "\n",
    "    sorted_locs = sorted(means, key=means.__getitem__, reverse=True)\n",
    "    data_sorted = []\n",
    "    labels_sorted = []\n",
    "    for i in range(0,len(X_locations)):\n",
    "        data_sorted.append(data[sorted_locs[i]])\n",
    "        labels_sorted.append(X_labels[sorted_locs[i]])\n",
    "\n",
    "    fig = plt.figure(figsize=(10,7))\n",
    "    ax = fig.add_subplot(1,1,1)\n",
    "    ax.boxplot(data_sorted)\n",
    "    ax.plot([0,11],[1,1],color=\"black\")\n",
    "    ax.set_yscale('log')\n",
    "    ax.set_xticklabels(labels_sorted)\n",
    "    ax.set_xlabel(\"Disease or Syndrome\")\n",
    "    ax.set_ylabel(\"P(Disease|Obesity) / P(Disease|NotObesity)\")\n",
    "    ax.set_title(\"Synthetic Data Showing Diseases Ranked By Mean Odds Ratios\")\n",
    "    plt.show()"
   ]
  },
  {
   "cell_type": "markdown",
   "metadata": {},
   "source": [
    "## Running the Function to Generate an Example Plot\n",
    "\n",
    "Re-run this section below to see how the randomness in the function can create a range of variances!"
   ]
  },
  {
   "cell_type": "code",
   "execution_count": 19,
   "metadata": {
    "collapsed": false
   },
   "outputs": [
    {
     "data": {
      "image/png": "[encoded data removed]",
      "text/plain": [
       "<matplotlib.figure.Figure at 0x28ad6b3f9b0>"
      ]
     },
     "metadata": {},
     "output_type": "display_data"
    }
   ],
   "source": [
    "create_synthetic_OR_plot()"
   ]
  },
  {
   "cell_type": "markdown",
   "metadata": {},
   "source": [
    "# SECTION 1: GETTING THE API DATA\n",
    "\n",
    "This section is a one-time-use block of code meant to download the relevant data from the Entrez PubMed database and write it to a file. All future references to the data will come from the file itself, to save network bandwidth.\n",
    "\n",
    "**Storage Format for Each Publication:**\n",
    "\n",
    "PUBMED_ID  \n",
    "Number  \n",
    "ABSTRACT  \n",
    "Abstract text  \n",
    "MESH  \n",
    "List of MeSH terms"
   ]
  },
  {
   "cell_type": "markdown",
   "metadata": {},
   "source": [
    "## Setting Up the Environment\n",
    "\n",
    "This section imports the necessary modules to implement the API calls. The main package used for this section is the Entrez submodule from Biopython."
   ]
  },
  {
   "cell_type": "code",
   "execution_count": 20,
   "metadata": {
    "collapsed": false
   },
   "outputs": [],
   "source": [
    "import time\n",
    "from Bio import Entrez\n",
    "Entrez.email = \"brianjlevay@gmail.com\""
   ]
  },
  {
   "cell_type": "markdown",
   "metadata": {},
   "source": [
    "## Defining the Function\n",
    "\n",
    "This section defines a generic function for getting PubMed records and writing the relevant data to a file. The function accepts search terms and a filename as arguments. The flow is as follows:\n",
    "\n",
    "1. Open a file for writing\n",
    "2. Perform an initial pubmed search (eSearch), and store the results on the server (usehistory)\n",
    "3. Iteratively perform API calls (eFetch) to get the results, 10000 at a time\n",
    "4. Write the relevant parts of each result (number, abstract, and mesh terms) to a file\n",
    "5. Close the file"
   ]
  },
  {
   "cell_type": "code",
   "execution_count": 21,
   "metadata": {
    "collapsed": false
   },
   "outputs": [],
   "source": [
    "def get_api_data(terms, filename):\n",
    "    f = open(filename + '.txt', 'w')\n",
    "    \n",
    "    handle = Entrez.esearch(db='pubmed', term=terms, usehistory='y')\n",
    "    search = Entrez.read(handle)\n",
    "    handle.close()\n",
    "\n",
    "    count = int(search['Count'])\n",
    "    query = search['QueryKey']\n",
    "    web = search['WebEnv']\n",
    "    print(\"{} records found through eSearch.\".format(count))\n",
    "    \n",
    "    max_ret = 10000\n",
    "    steps_tot = math.ceil(count / max_ret)\n",
    "    steps = [x*max_ret for x in range(0,steps_tot)]\n",
    "    total_records = 0\n",
    "    \n",
    "    for step in steps:\n",
    "        time.sleep(30)\n",
    "        handle = Entrez.efetch(db='pubmed', query_key=query, WebEnv=web, retmode='xml', retstart=step, retmax=max_ret)\n",
    "        fetch = Entrez.read(handle)\n",
    "        handle.close()\n",
    "        print(\"Step {}: API batch returned.\".format(step))\n",
    "    \n",
    "        for entry in fetch:\n",
    "            total_records += 1\n",
    "            f.write('PUBMED_ID\\n')\n",
    "            f.write(entry['PubmedData']['ArticleIdList'][0] + '\\n')\n",
    "            f.write('ABSTRACT\\n')\n",
    "            try:\n",
    "                abstract = entry['MedlineCitation']['Article']['Abstract']['AbstractText'][0]\n",
    "                if abstract == '':\n",
    "                    abstract = 'No abstract available'\n",
    "                try:\n",
    "                    f.write(abstract + '\\n')\n",
    "                except:\n",
    "                    try:\n",
    "                        abstract = abstract.encode('cp1252', 'replace').decode('cp1252')\n",
    "                        f.write(abstract + '\\n')\n",
    "                    except:\n",
    "                        f.write('Abstract could not be printed.\\n')\n",
    "            except:\n",
    "                f.write('No abstract available.\\n')\n",
    "            f.write('MESH\\n')\n",
    "            mesh_str = ''\n",
    "            for mesh in entry['MedlineCitation']['MeshHeadingList']:\n",
    "                mesh_str += mesh['DescriptorName'] + '; '\n",
    "            f.write(mesh_str[0:len(mesh_str)-2] + '\\n')    \n",
    "            f.write('\\n')\n",
    "    \n",
    "    f.close()\n",
    "    print(\"{} records retrieved via eFetch and written to the file.\".format(total_records))"
   ]
  },
  {
   "cell_type": "markdown",
   "metadata": {},
   "source": [
    "## Running the Function to Gather the Data\n",
    "\n",
    "This block of code uses the generalized function defined above to retrieve the data from PubMed. This function only needs to be run once, and afterwards, the data will be stored in a local file."
   ]
  },
  {
   "cell_type": "code",
   "execution_count": 22,
   "metadata": {
    "collapsed": false
   },
   "outputs": [
    {
     "name": "stdout",
     "output_type": "stream",
     "text": [
      "59515 records found through eSearch.\n",
      "Step 0: API batch returned.\n",
      "Step 10000: API batch returned.\n",
      "Step 20000: API batch returned.\n",
      "Step 30000: API batch returned.\n",
      "Step 40000: API batch returned.\n",
      "Step 50000: API batch returned.\n",
      "59515 records retrieved via eFetch and written to the file.\n"
     ]
    }
   ],
   "source": [
    "# Need to specify obesity as the major MeSH descriptor (MajorTopicYN=\"Y\") [majr] vs [majr:noexp]\n",
    "\n",
    "obesity_terms = 'obesity[majr] 2000:2012[pdat]'\n",
    "\n",
    "# Only need to run this function once to get all of the relevant API data\n",
    "\n",
    "# get_api_data(obesity_terms, 'obesity_pubmed')"
   ]
  },
  {
   "cell_type": "markdown",
   "metadata": {
    "collapsed": false
   },
   "source": [
    "# SECTION 2: CATEGORIZING MESH TERMS\n",
    "\n",
    "This section uses the MeSH definitions file (desc2015.xml) to create a list of terms that refer to \"Disease or Syndrome\". The list will then be used to filter the MeSH terms in the publication results.\n",
    "\n",
    "The MeSH descriptors file is large, so it will not be stored along with this code and the intermediate data products. Instead, you can download it from the following ftp site. I did not directly link the file below, because this is one you don't want to accidently start downloading with a careless click!\n",
    "\n",
    "[Location for File](ftp://nlmpubs.nlm.nih.gov/online/mesh/2015/)"
   ]
  },
  {
   "cell_type": "markdown",
   "metadata": {},
   "source": [
    "## Setting Up the Environment\n",
    "\n",
    "This section imports BeautifulSoup, which is used for XML parsing."
   ]
  },
  {
   "cell_type": "code",
   "execution_count": 23,
   "metadata": {
    "collapsed": true
   },
   "outputs": [],
   "source": [
    "from bs4 import BeautifulSoup"
   ]
  },
  {
   "cell_type": "markdown",
   "metadata": {},
   "source": [
    "## Defining the XML Parsing Function\n",
    "\n",
    "The source file for the MeSH terms is a large (~300 MB) xml file, and my preferred XML parser (BeautifulSoup) doesn't perform very well under such a load. So, for this exercise, I will initially split the XML file into chunks using basic string techniques, and then I will apply the parser to each fragment. This is slow, but the memory footprint is smaller and it runs without crashing. I know there are better XML libraries, but this is what I've got for now.\n",
    "\n",
    "This function opens the definitions file, extracts only the descriptors that match a SemanticTypeName specified as an argument, and writes those terms to another file. It's important to note that this function only considers semantic types listed under the preferred concept!"
   ]
  },
  {
   "cell_type": "code",
   "execution_count": 24,
   "metadata": {
    "collapsed": false
   },
   "outputs": [],
   "source": [
    "def get_descriptors(semantic_type, filename):\n",
    "    f = open('desc2015.xml', 'r')\n",
    "    xml_contents = f.read()\n",
    "    f.close()\n",
    "\n",
    "    f = open(filename + '.txt', 'w')\n",
    "\n",
    "    header_content = '<?xml version=\"1.0\"?>\\n' + '<!DOCTYPE DescriptorRecordSet SYSTEM \"desc2015.dtd\">\\n' + \\\n",
    "        '<DescriptorRecordSet LanguageCode = \"eng\">\\n' + '<DescriptorRecord DescriptorClass = \"1\">\\n'\n",
    "    xml_contents = xml_contents.replace(header_content, '')\n",
    "    descriptors = xml_contents.split('</DescriptorRecord>\\n<DescriptorRecord DescriptorClass = \"1\">')\n",
    "\n",
    "    for descriptor in descriptors:\n",
    "        descriptor = '<DescriptorRecord DescriptorClass = \"1\">\\n' + descriptor + '</DescriptorRecord>'\n",
    "        desc_soup = BeautifulSoup(descriptor, \"xml\")\n",
    "        name = desc_soup.DescriptorName.String.get_text()\n",
    "        semantic_tags = desc_soup.ConceptList.find('Concept', PreferredConceptYN='Y').find_all('SemanticTypeName')\n",
    "        semantic_types = set()\n",
    "        for tag in semantic_tags:\n",
    "            semantic_types.add(tag.get_text())\n",
    "        if semantic_type in semantic_types: \n",
    "            f.write(name + \"\\n\")\n",
    "    \n",
    "    f.close()"
   ]
  },
  {
   "cell_type": "markdown",
   "metadata": {},
   "source": [
    "## Running the Function to Output the Descriptors\n",
    "\n",
    "This block of code runs the function defined above to generate a file with a list of applicable descriptors. You only need to run this once, and all future data access will come from the newly created file."
   ]
  },
  {
   "cell_type": "code",
   "execution_count": 25,
   "metadata": {
    "collapsed": false
   },
   "outputs": [],
   "source": [
    "# Only need to run this function once to get all of the relevant terms\n",
    "\n",
    "# get_descriptors('Disease or Syndrome', 'mesh_disease_syndrome_terms')"
   ]
  },
  {
   "cell_type": "markdown",
   "metadata": {},
   "source": [
    "# SECTION 3: READING THE DATA FROM THE FILES\n",
    "\n",
    "This section loads the data from the raw PubMed records (previously stored from the API calls) and the disease terms (previously stored from the descriptors list) into their respective data structures for use."
   ]
  },
  {
   "cell_type": "code",
   "execution_count": 33,
   "metadata": {
    "collapsed": false
   },
   "outputs": [
    {
     "name": "stdout",
     "output_type": "stream",
     "text": [
      "2989 terms in the disease list.\n",
      "59515 records in the raw PubMed data.\n",
      "\n",
      "EXAMPLE RECORD\n",
      "ID: 25548090\n",
      "ABSTRACT: The aim is to determine the appropriate cutoff values of waist circumference (WC) for an increased risk of the metabolic syndrome in the Korean elderly population. We analyzed the WC cutoff values of four groups divided according to sex and age with a total of 2,224 elderly participants aged 65 years old and above from the Fourth Korean National Health and Nutrition Examination Survey using the receiver operating characteristic curve and multiple logistic regression. The WC cutoff values associated with an increased risk of metabolic syndrome were 89.6 cm for men and 90.5 cm for women for those who were 65 to 74 years old, and 89.9 cm for men and 87.9 cm for women for those who were 75 years old or older. WC cutoff points for estimating metabolic risk are similar in elderly men and women. Age-specific optimal WC cutoff points should be considered especially for elderly women in screening for metabolic syndrome.\n",
      "MESH: ['Age Distribution', 'Aged', 'Aged, 80 and over', 'Female', 'Humans', 'Logistic Models', 'Male', 'Metabolic Syndrome X', 'Nutrition Surveys', 'Obesity, Abdominal', 'ROC Curve', 'Republic of Korea', 'Risk Factors', 'Sex Distribution', 'Waist Circumference']\n"
     ]
    }
   ],
   "source": [
    "f = open('mesh_disease_syndrome_terms.txt', 'r')\n",
    "disease_terms = f.read()\n",
    "f.close()\n",
    "\n",
    "disease_terms = disease_terms.split('\\n')\n",
    "print(\"{} terms in the disease list.\".format(len(disease_terms)))\n",
    "\n",
    "f = open('obesity_pubmed.txt', 'r')\n",
    "pubmed_raw = f.read()\n",
    "f.close()\n",
    "\n",
    "pubmed_raw = pubmed_raw.split('\\n\\n')\n",
    "pubmed_raw = pubmed_raw[0:len(pubmed_raw)-1]\n",
    "print(\"{} records in the raw PubMed data.\".format(len(pubmed_raw)))\n",
    "\n",
    "pubmed_records = []\n",
    "for record in pubmed_raw:\n",
    "    record_dict = {}\n",
    "    lines = record.split('\\n')\n",
    "    record_dict['ID'] = lines[1]\n",
    "    record_dict['ABSTRACT'] = lines[3]\n",
    "    record_dict['MESH'] = lines[5].split(\"; \")\n",
    "    pubmed_records.append(record_dict)\n",
    "    \n",
    "print(\"\\nEXAMPLE RECORD\")\n",
    "for item in pubmed_records[0]:\n",
    "    print(\"{0}: {1}\".format(item,pubmed_records[0][item]))"
   ]
  },
  {
   "cell_type": "markdown",
   "metadata": {},
   "source": [
    "# SECTION 4: COUNTING PAPERS THAT MENTION DISEASES\n",
    "\n",
    "This section determines the number of papers that mention each disease as a MeSH keyword. It's important to note that the number of papers talking about a disease (in conjunction with obesity) actually tells us nothing about comorbidity, unless we make some strong assumptions. Some possible explanations for why disease A is talked about more than disease B:\n",
    "\n",
    "1. Disease 'A' has a higher odds ratio than disease 'B', so 'A' gets more attention (what we want to know)\n",
    "2. Disease 'A' is much more severe than disease 'B', so 'A' gets more attention\n",
    "3. The comorbidity or severity of disease 'A' is harder to ascertain than disease 'B', and therefore more studies have been conducted to try to reduce the uncertainty\n",
    "4. Disease 'A' may have more treatment options available and/or is considered easier to treat, so 'A' gets more attention\n",
    "5. The research groups that study disease 'A' might just prefer breaking up their studies into smaller papers, or they might just publish more papers in general when compared to groups that focus on disease 'B'\n",
    "\n",
    "There are almost certainly other reasons not outlined above. I'll talk about these issues more, in a bit."
   ]
  },
  {
   "cell_type": "code",
   "execution_count": null,
   "metadata": {
    "collapsed": true
   },
   "outputs": [],
   "source": []
  }
 ],
 "metadata": {
  "anaconda-cloud": {},
  "kernelspec": {
   "display_name": "Python [Root]",
   "language": "python",
   "name": "Python [Root]"
  },
  "language_info": {
   "codemirror_mode": {
    "name": "ipython",
    "version": 3
   },
   "file_extension": ".py",
   "mimetype": "text/x-python",
   "name": "python",
   "nbconvert_exporter": "python",
   "pygments_lexer": "ipython3",
   "version": "3.5.2"
  }
 },
 "nbformat": 4,
 "nbformat_minor": 0
}
